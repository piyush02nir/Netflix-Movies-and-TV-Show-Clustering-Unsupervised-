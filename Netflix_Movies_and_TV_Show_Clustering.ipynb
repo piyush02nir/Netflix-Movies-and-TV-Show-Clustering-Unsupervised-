{
  "nbformat": 4,
  "nbformat_minor": 0,
  "metadata": {
    "colab": {
      "private_outputs": true,
      "provenance": [],
      "collapsed_sections": [
        "w6K7xa23Elo4",
        "yQaldy8SH6Dl",
        "mDgbUHAGgjLW",
        "dauF4eBmngu3",
        "bKJF3rekwFvQ",
        "MSa1f5Uengrz",
        "GF8Ens_Soomf",
        "0wOQAZs5pc--",
        "K5QZ13OEpz2H",
        "lQ7QKXXCp7Bj",
        "448CDAPjqfQr",
        "KSlN3yHqYklG",
        "t6dVpIINYklI",
        "ijmpgYnKYklI",
        "-JiQyfWJYklI",
        "EM7whBJCYoAo",
        "fge-S5ZAYoAp",
        "85gYPyotYoAp",
        "RoGjAbkUYoAp",
        "4Of9eVA-YrdM",
        "iky9q4vBYrdO",
        "F6T5p64dYrdO",
        "y-Ehk30pYrdP",
        "bamQiAODYuh1",
        "QHF8YVU7Yuh3",
        "GwzvFGzlYuh3",
        "qYpmQ266Yuh3",
        "OH-pJp9IphqM",
        "bbFf2-_FphqN",
        "_ouA3fa0phqN",
        "Seke61FWphqN",
        "PIIx-8_IphqN",
        "t27r6nlMphqO",
        "r2jJGEOYphqO",
        "b0JNsNcRphqO",
        "BZR9WyysphqO",
        "jj7wYXLtphqO",
        "eZrbJ2SmphqO",
        "rFu4xreNphqO",
        "YJ55k-q6phqO",
        "gCFgpxoyphqP",
        "OVtJsKN_phqQ",
        "lssrdh5qphqQ",
        "U2RJ9gkRphqQ",
        "1M8mcRywphqQ",
        "tgIPom80phqQ",
        "JMzcOPDDphqR",
        "x-EpHcCOp1ci",
        "X_VqEhTip1ck",
        "8zGJKyg5p1ck",
        "PVzmfK_Ep1ck",
        "n3dbpmDWp1ck",
        "ylSl6qgtp1ck",
        "ZWILFDl5p1ck",
        "M7G43BXep1ck",
        "Ag9LCva-p1cl",
        "E6MkPsBcp1cl",
        "2cELzS2fp1cl",
        "3MPXvC8up1cl",
        "NC_X3p0fY2L0",
        "UV0SzAkaZNRQ",
        "YPEH6qLeZNRQ",
        "q29F0dvdveiT",
        "EXh0U9oCveiU",
        "22aHeOlLveiV",
        "g-ATYxFrGrvw",
        "Yfr_Vlr8HBkt",
        "8yEUt7NnHlrM",
        "tEA2Xm5dHt1r",
        "I79__PHVH19G",
        "Ou-I18pAyIpj",
        "fF3858GYyt-u",
        "4_0_7-oCpUZd",
        "hwyV_J3ipUZe",
        "3yB-zSqbpUZe",
        "dEUvejAfpUZe",
        "Fd15vwWVpUZf",
        "bn_IUdTipZyH",
        "49K5P_iCpZyH",
        "Nff-vKELpZyI",
        "kLW572S8pZyI",
        "dWbDXHzopZyI",
        "yLjJCtPM0KBk",
        "xiyOF9F70UgQ",
        "7wuGOrhz0itI",
        "id1riN9m0vUs",
        "578E2V7j08f6",
        "89xtkJwZ18nB",
        "67NQN5KX2AMe",
        "Iwf50b-R2tYG",
        "GMQiZwjn3iu7",
        "WVIkgGqN3qsr",
        "XkPnILGE3zoT",
        "Hlsf0x5436Go",
        "mT9DMSJo4nBL",
        "c49ITxTc407N",
        "OeJFEK0N496M",
        "9ExmJH0g5HBk",
        "cJNqERVU536h",
        "k5UmGsbsOxih",
        "T0VqWOYE6DLQ",
        "qBMux9mC6MCf",
        "-oLEiFgy-5Pf",
        "C74aWNz2AliB",
        "2DejudWSA-a0",
        "pEMng2IbBLp7",
        "rAdphbQ9Bhjc",
        "TNVZ9zx19K6k",
        "nqoHp30x9hH9",
        "rMDnDkt2B6du",
        "yiiVWRdJDDil",
        "1UUpS68QDMuG",
        "kexQrXU-DjzY",
        "T5CmagL3EC8N",
        "BhH2vgX9EjGr",
        "qjKvONjwE8ra",
        "P1XJ9OREExlT",
        "VFOzZv6IFROw",
        "TIqpNgepFxVj",
        "VfCC591jGiD4",
        "OB4l2ZhMeS1U",
        "ArJBuiUVfxKd",
        "4qY1EAkEfxKe",
        "PiV4Ypx8fxKe",
        "TfvqoZmBfxKf",
        "dJ2tPlVmpsJ0",
        "JWYfwnehpsJ1",
        "-jK_YjpMpsJ2",
        "HAih1iBOpsJ2",
        "zVGeBEFhpsJ2",
        "bmKjuQ-FpsJ3",
        "Fze-IPXLpx6K",
        "7AN1z2sKpx6M",
        "9PIHJqyupx6M",
        "_-qAgymDpx6N",
        "Z-hykwinpx6N",
        "h_CCil-SKHpo",
        "cBFFvTBNJzUa",
        "HvGl1hHyA_VK",
        "EyNgTHvd2WFk",
        "KH5McJBi2d8v",
        "iW_Lq9qf2h6X",
        "-Kee-DAl2viO",
        "gCX9965dhzqZ",
        "gIfDvo9L0UH2"
      ],
      "include_colab_link": true
    },
    "kernelspec": {
      "name": "python3",
      "display_name": "Python 3"
    },
    "language_info": {
      "name": "python"
    }
  },
  "cells": [
    {
      "cell_type": "markdown",
      "metadata": {
        "id": "view-in-github",
        "colab_type": "text"
      },
      "source": [
        "<a href=\"https://colab.research.google.com/github/piyush02nir/Netflix-Movies-and-TV-Show-Clustering-Unsupervised-/blob/main/Netflix_Movies_and_TV_Show_Clustering.ipynb\" target=\"_parent\"><img src=\"https://colab.research.google.com/assets/colab-badge.svg\" alt=\"Open In Colab\"/></a>"
      ]
    },
    {
      "cell_type": "markdown",
      "source": [
        "# **Project Name**    - \n",
        "\n"
      ],
      "metadata": {
        "id": "vncDsAP0Gaoa"
      }
    },
    {
      "cell_type": "markdown",
      "source": [
        "##### **Project Type**    - Netflix Movies and TV Show Clustering(Unsupervised)\n",
        "\n",
        "##### **Contribution**    - Piyush Nirwan"
      ],
      "metadata": {
        "id": "beRrZCGUAJYm"
      }
    },
    {
      "cell_type": "markdown",
      "source": [
        "# **Project Summary -**"
      ],
      "metadata": {
        "id": "FJNUwmbgGyua"
      }
    },
    {
      "cell_type": "markdown",
      "source": [
        "Netflix, the world’s largest on-demand internet streaming media and online DVD movie rental service provider.it Founded August 29, 1997, in Los Gatos, California by Marc and Reed. It has 69 million members in over 60 countries enjoying more than 100 million hours of TV shows and movies per day Netflix is the world’s leading internet entertainment service with enjoying TV series, documentaries, and feature films across a wide variety of genres and languages. I was curious to analyze the content released in Netflix platform which led me to create these simple, interactive, and exciting visualizations and find similar groups of people.\n",
        "\n",
        "This dataset consists of tv shows and movies available on Netflix as of 2019. The dataset is collected from Fixable which is a third-party Netflix search engine. In 2018, they released an interesting report which shows that the number of TV shows on Netflix has nearly tripled since 2010. The streaming service’s number of movies has decreased by more than 2,000 titles since 2010, while its number of TV shows has nearly tripled. It will be interesting to explore what all other insights can be obtained from the same dataset. Integrating this dataset with other external datasets such as IMDB ratings, rotten tomatoes can also provide many interesting findings."
      ],
      "metadata": {
        "id": "F6v_1wHtG2nS"
      }
    },
    {
      "cell_type": "markdown",
      "source": [
        "# **GitHub Link -**"
      ],
      "metadata": {
        "id": "w6K7xa23Elo4"
      }
    },
    {
      "cell_type": "markdown",
      "source": [
        "Provide your GitHub Link here."
      ],
      "metadata": {
        "id": "h1o69JH3Eqqn"
      }
    },
    {
      "cell_type": "markdown",
      "source": [
        "# **Problem Statement**\n"
      ],
      "metadata": {
        "id": "yQaldy8SH6Dl"
      }
    },
    {
      "cell_type": "markdown",
      "source": [
        "This dataset consists of tv shows and movies available on Netflix as of 2019. The dataset is collected from Flixable which is a third-party Netflix search engine.\n",
        "\n",
        "In 2018, they released an interesting report which shows that the number of TV shows on Netflix has nearly tripled since 2010. The streaming service’s number of movies has decreased by more than 2,000 titles since 2010, while its number of TV shows has nearly tripled. It will be interesting to explore what all other insights can be obtained from the same dataset.\n",
        "\n",
        "Integrating this dataset with other external datasets such as IMDB ratings, rotten tomatoes can also provide many interesting findings."
      ],
      "metadata": {
        "id": "DpeJGUA3kjGy"
      }
    },
    {
      "cell_type": "markdown",
      "source": [
        "# **General Guidelines** : -  "
      ],
      "metadata": {
        "id": "mDgbUHAGgjLW"
      }
    },
    {
      "cell_type": "markdown",
      "source": [
        "1.   Well-structured, formatted, and commented code is required. \n",
        "2.   Exception Handling, Production Grade Code & Deployment Ready Code will be a plus. Those students will be awarded some additional credits. \n",
        "     \n",
        "     The additional credits will have advantages over other students during Star Student selection.\n",
        "       \n",
        "             [ Note: - Deployment Ready Code is defined as, the whole .ipynb notebook should be executable in one go\n",
        "                       without a single error logged. ]\n",
        "\n",
        "3.   Each and every logic should have proper comments.\n",
        "4. You may add as many number of charts you want. Make Sure for each and every chart the following format should be answered.\n",
        "        \n",
        "\n",
        "```\n",
        "# Chart visualization code\n",
        "```\n",
        "            \n",
        "\n",
        "*   Why did you pick the specific chart?\n",
        "*   What is/are the insight(s) found from the chart?\n",
        "* Will the gained insights help creating a positive business impact? \n",
        "Are there any insights that lead to negative growth? Justify with specific reason.\n",
        "\n",
        "5. You have to create at least 15 logical & meaningful charts having important insights.\n",
        "\n",
        "\n",
        "[ Hints : - Do the Vizualization in  a structured way while following \"UBM\" Rule. \n",
        "\n",
        "U - Univariate Analysis,\n",
        "\n",
        "B - Bivariate Analysis (Numerical - Categorical, Numerical - Numerical, Categorical - Categorical)\n",
        "\n",
        "M - Multivariate Analysis\n",
        " ]\n",
        "\n",
        "\n",
        "\n",
        "\n",
        "\n",
        "6. You may add more ml algorithms for model creation. Make sure for each and every algorithm, the following format should be answered.\n",
        "\n",
        "\n",
        "*   Explain the ML Model used and it's performance using Evaluation metric Score Chart.\n",
        "\n",
        "\n",
        "*   Cross- Validation & Hyperparameter Tuning\n",
        "\n",
        "*   Have you seen any improvement? Note down the improvement with updates Evaluation metric Score Chart.\n",
        "\n",
        "*   Explain each evaluation metric's indication towards business and the business impact pf the ML model used.\n",
        "\n",
        "\n",
        "\n",
        "\n",
        "\n",
        "\n",
        "\n",
        "\n",
        "\n",
        "\n",
        "\n",
        "\n",
        "\n",
        "\n",
        "\n",
        "\n",
        "\n",
        "\n"
      ],
      "metadata": {
        "id": "ZrxVaUj-hHfC"
      }
    },
    {
      "cell_type": "markdown",
      "source": [
        "# ***Let's Begin !***"
      ],
      "metadata": {
        "id": "O_i_v8NEhb9l"
      }
    },
    {
      "cell_type": "markdown",
      "source": [
        "## ***1. Know Your Data***"
      ],
      "metadata": {
        "id": "HhfV-JJviCcP"
      }
    },
    {
      "cell_type": "markdown",
      "source": [
        "### Import Libraries"
      ],
      "metadata": {
        "id": "Y3lxredqlCYt"
      }
    },
    {
      "cell_type": "code",
      "source": [
        "# Import Libraries\n",
        "import pandas as pd\n",
        "import numpy as np\n",
        "import seaborn as sns\n",
        "import matplotlib.pyplot as plt\n",
        "%matplotlib inline\n",
        "\n",
        "import plotly.graph_objects as go\n",
        "import plotly.express as px\n",
        "from plotly.subplots import make_subplots\n",
        "from plotly.offline import init_notebook_mode, iplot\n",
        "import plotly.offline as po\n",
        "\n",
        "from sklearn.feature_extraction.text import TfidfVectorizer\n",
        "from sklearn.decomposition import PCA\n",
        "import nltk\n",
        "nltk.download('stopwords')\n",
        "from nltk.corpus import stopwords\n",
        "from nltk.stem.snowball import SnowballStemmer\n",
        "from nltk.corpus import stopwords\n",
        "from wordcloud import WordCloud, STOPWORDS \n",
        "import missingno as msno \n",
        "\n",
        "from warnings import filterwarnings\n",
        "filterwarnings('ignore')"
      ],
      "metadata": {
        "id": "M8Vqi-pPk-HR"
      },
      "execution_count": null,
      "outputs": []
    },
    {
      "cell_type": "markdown",
      "source": [
        "### Dataset Loading"
      ],
      "metadata": {
        "id": "3RnN4peoiCZX"
      }
    },
    {
      "cell_type": "code",
      "source": [
        "# Mount Drive to load data\n",
        "from google.colab import drive\n",
        "drive.mount('/content/drive')"
      ],
      "metadata": {
        "id": "4CkvbW_SlZ_R"
      },
      "execution_count": null,
      "outputs": []
    },
    {
      "cell_type": "code",
      "source": [
        "# Load the data.\n",
        "netflix_df = pd.read_csv('/content/drive/MyDrive/Netflix Movies and TV Show Clustering/Data_Source/NETFLIX MOVIES AND TV SHOWS CLUSTERING.csv')"
      ],
      "metadata": {
        "id": "N-tsFg5GuZnD"
      },
      "execution_count": null,
      "outputs": []
    },
    {
      "cell_type": "markdown",
      "source": [
        "### Dataset First View"
      ],
      "metadata": {
        "id": "x71ZqKXriCWQ"
      }
    },
    {
      "cell_type": "code",
      "source": [
        "# Dataset First Look\n",
        "netflix_df.head()"
      ],
      "metadata": {
        "id": "LWNFOSvLl09H"
      },
      "execution_count": null,
      "outputs": []
    },
    {
      "cell_type": "code",
      "source": [
        "netflix_df.tail()"
      ],
      "metadata": {
        "id": "XV52hxviwmG6"
      },
      "execution_count": null,
      "outputs": []
    },
    {
      "cell_type": "markdown",
      "source": [
        "### Dataset Rows & Columns count"
      ],
      "metadata": {
        "id": "7hBIi_osiCS2"
      }
    },
    {
      "cell_type": "code",
      "source": [
        "# Dataset Rows & Columns count\n",
        "netflix_df.shape"
      ],
      "metadata": {
        "id": "Kllu7SJgmLij"
      },
      "execution_count": null,
      "outputs": []
    },
    {
      "cell_type": "markdown",
      "source": [
        "### Dataset Information"
      ],
      "metadata": {
        "id": "JlHwYmJAmNHm"
      }
    },
    {
      "cell_type": "code",
      "source": [
        "# Dataset Info\n",
        "netflix_df.info()"
      ],
      "metadata": {
        "id": "e9hRXRi6meOf"
      },
      "execution_count": null,
      "outputs": []
    },
    {
      "cell_type": "markdown",
      "source": [
        "#### Duplicate Values"
      ],
      "metadata": {
        "id": "35m5QtbWiB9F"
      }
    },
    {
      "cell_type": "code",
      "source": [
        "# Dataset Duplicate Value Count\n",
        "netflix_df.duplicated().sum()"
      ],
      "metadata": {
        "id": "1sLdpKYkmox0"
      },
      "execution_count": null,
      "outputs": []
    },
    {
      "cell_type": "code",
      "source": [
        "# Visualizing the missing values\n",
        "msno.bar(netflix_df, color=\"Teal\")"
      ],
      "metadata": {
        "id": "hLcGFL_O7Cia"
      },
      "execution_count": null,
      "outputs": []
    },
    {
      "cell_type": "markdown",
      "source": [
        "#### Missing Values/Null Values"
      ],
      "metadata": {
        "id": "PoPl-ycgm1ru"
      }
    },
    {
      "cell_type": "code",
      "source": [
        "# Missing Values/Null Values Count\n",
        "print(netflix_df.isnull().sum())"
      ],
      "metadata": {
        "id": "GgHWkxvamxVg"
      },
      "execution_count": null,
      "outputs": []
    },
    {
      "cell_type": "code",
      "source": [
        "# Visualizing the missing values\n",
        "\n",
        "# Checking Null Value by plotting Heatmap\n",
        "plt.figure(figsize=(7,5))\n",
        "sns.heatmap(netflix_df.isnull(), cbar=False)\n",
        "plt.show()"
      ],
      "metadata": {
        "id": "3q5wnI3om9sJ"
      },
      "execution_count": null,
      "outputs": []
    },
    {
      "cell_type": "code",
      "source": [
        "# Choosing the primary country and primary genre to simplify the analysis\n",
        "netflix_df['country'] = netflix_df['country'].astype('str')\n",
        "netflix_df['country'] = netflix_df['country'].apply(lambda x: x.split(',')[0])\n",
        "netflix_df['listed_in'] = netflix_df['listed_in'].apply(lambda x: x.split(',')[0])"
      ],
      "metadata": {
        "id": "WLQdL9mS9WGO"
      },
      "execution_count": null,
      "outputs": []
    },
    {
      "cell_type": "code",
      "source": [
        "# contry in which a movie was produced\n",
        "netflix_df.country.value_counts()"
      ],
      "metadata": {
        "id": "JoPiJp0f9hDY"
      },
      "execution_count": null,
      "outputs": []
    },
    {
      "cell_type": "markdown",
      "source": [
        "### What did you know about your dataset?"
      ],
      "metadata": {
        "id": "H0kj-8xxnORC"
      }
    },
    {
      "cell_type": "markdown",
      "source": [
        "Answer Here"
      ],
      "metadata": {
        "id": "gfoNAAC-nUe_"
      }
    },
    {
      "cell_type": "markdown",
      "source": [
        "## ***2. Understanding Your Variables***"
      ],
      "metadata": {
        "id": "nA9Y7ga8ng1Z"
      }
    },
    {
      "cell_type": "code",
      "source": [
        "# Dataset Columns\n",
        "netflix_df.columns"
      ],
      "metadata": {
        "id": "j7xfkqrt5Ag5"
      },
      "execution_count": null,
      "outputs": []
    },
    {
      "cell_type": "code",
      "source": [
        "# Dataset Describe\n",
        "netflix_df.describe(include='all')"
      ],
      "metadata": {
        "id": "DnOaZdaE5Q5t"
      },
      "execution_count": null,
      "outputs": []
    },
    {
      "cell_type": "markdown",
      "source": [
        "### Variables Description "
      ],
      "metadata": {
        "id": "PBTbrJXOngz2"
      }
    },
    {
      "cell_type": "markdown",
      "source": [
        "Answer Here"
      ],
      "metadata": {
        "id": "aJV4KIxSnxay"
      }
    },
    {
      "cell_type": "markdown",
      "source": [
        "### Check Unique Values for each variable."
      ],
      "metadata": {
        "id": "u3PMJOP6ngxN"
      }
    },
    {
      "cell_type": "code",
      "source": [
        "# Check Unique Values for each variable.\n",
        "for i in netflix_df.columns.tolist():\n",
        "  print(\"No. of unique values in \",i,\"is\",netflix_df[i].nunique(),\".\")"
      ],
      "metadata": {
        "id": "cCNHvNi87vWc"
      },
      "execution_count": null,
      "outputs": []
    },
    {
      "cell_type": "code",
      "source": [
        "unique_values = netflix_df.nunique().sort_values()\n",
        "# Plot information with y-axis in log-scale\n",
        "unique_values.plot.bar(logy=True, figsize=(25, 10), title=\"Structure of numerical features\")"
      ],
      "metadata": {
        "id": "zms12Yq5n-jE"
      },
      "execution_count": null,
      "outputs": []
    },
    {
      "cell_type": "markdown",
      "source": [
        "## 3. ***Data Wrangling***"
      ],
      "metadata": {
        "id": "dauF4eBmngu3"
      }
    },
    {
      "cell_type": "markdown",
      "source": [
        "### Data Wrangling Code"
      ],
      "metadata": {
        "id": "bKJF3rekwFvQ"
      }
    },
    {
      "cell_type": "code",
      "source": [
        "# Write your code to make your dataset analysis ready.\n",
        "# Create new features to store date, day, month and year seperately.\n",
        "netflix_df[\"date_added\"] = pd.to_datetime(netflix_df['date_added'])  # First convert date_added to date time format.\n",
        "netflix_df['day_added'] = netflix_df['date_added'].dt.day            # Compute day.\n",
        "netflix_df['year_added'] = netflix_df['date_added'].dt.year          # Compute year.\n",
        "netflix_df['month_added'] = netflix_df['date_added'].dt.month        # Compute month."
      ],
      "metadata": {
        "id": "wk-9a2fpoLcV"
      },
      "execution_count": null,
      "outputs": []
    },
    {
      "cell_type": "code",
      "source": [
        "# Create subsets for tv shows and movies.\n",
        "tv_shows = netflix_df[netflix_df['type'] == 'TV Show']\n",
        "movies = netflix_df[netflix_df['type'] == 'Movie']\n",
        "\n",
        "# Select the durations for both.\n",
        "duration_tv_shows = tv_shows['duration'].reset_index()\n",
        "duration_movies = movies['duration'].reset_index()\n",
        "\n",
        "# Remove string values from tv shows duration.\n",
        "duration_tv_shows.duration = duration_tv_shows.duration.str.replace(' Season', '') \\\n",
        "                                                       .str.replace(' Seasons', '') \\\n",
        "                                                       .str.replace('s', '')                                                       \n",
        "duration_tv_shows.duration = duration_tv_shows.duration.astype(str).astype(int)\n",
        "\n",
        "# Remove string values from movie duration.\n",
        "duration_movies.duration = duration_movies.duration.str.replace(' min', '')                                                       \n",
        "duration_movies.duration = duration_movies.duration.astype(str).astype(int)"
      ],
      "metadata": {
        "id": "dP3xaflgLAky"
      },
      "execution_count": null,
      "outputs": []
    },
    {
      "cell_type": "markdown",
      "source": [
        "### What all manipulations have you done and insights you found?"
      ],
      "metadata": {
        "id": "MSa1f5Uengrz"
      }
    },
    {
      "cell_type": "markdown",
      "source": [
        "We made new features to store date, day, month and year seperately"
      ],
      "metadata": {
        "id": "LbyXE7I1olp8"
      }
    },
    {
      "cell_type": "markdown",
      "source": [
        "## ***4. Data Vizualization, Storytelling & Experimenting with charts : Understand the relationships between variables***"
      ],
      "metadata": {
        "id": "GF8Ens_Soomf"
      }
    },
    {
      "cell_type": "markdown",
      "source": [
        "#### Chart - 1"
      ],
      "metadata": {
        "id": "0wOQAZs5pc--"
      }
    },
    {
      "cell_type": "code",
      "source": [
        "# Chart - 1 visualization code\n",
        "colors = ['\t#db0000', '\t#564d4d']\n",
        "labels = ['Tv Show', 'Movie']\n",
        "tv_show = netflix_df.type.value_counts()[1]\n",
        "movie = netflix_df.type.value_counts()[0]\n",
        "\n",
        "fig = go.Figure(data=[go.Pie(labels=labels, values=[tv_show, movie], hole=.6)])\n",
        "fig.update_layout(\n",
        "    title_text=\"Type of content watched on Netflix\",title_x=0.5, legend=dict(x=0.9),height=500, width=500,\n",
        "    # Add annotations in the center of the donut pies.\n",
        "    annotations=[dict(text='Type of content.', font_size=20, showarrow=False)])\n",
        "fig.update_traces(marker=dict(colors=colors))\n",
        "\n",
        "fig.show()"
      ],
      "metadata": {
        "id": "7v_ESjsspbW7"
      },
      "execution_count": null,
      "outputs": []
    },
    {
      "cell_type": "markdown",
      "source": [
        "##### 1. Why did you pick the specific chart?"
      ],
      "metadata": {
        "id": "K5QZ13OEpz2H"
      }
    },
    {
      "cell_type": "markdown",
      "source": [
        "Answer Here."
      ],
      "metadata": {
        "id": "XESiWehPqBRc"
      }
    },
    {
      "cell_type": "markdown",
      "source": [
        "##### 2. What is/are the insight(s) found from the chart?"
      ],
      "metadata": {
        "id": "lQ7QKXXCp7Bj"
      }
    },
    {
      "cell_type": "markdown",
      "source": [
        "Answer Here"
      ],
      "metadata": {
        "id": "C_j1G7yiqdRP"
      }
    },
    {
      "cell_type": "markdown",
      "source": [
        "##### 3. Will the gained insights help creating a positive business impact? \n",
        "Are there any insights that lead to negative growth? Justify with specific reason."
      ],
      "metadata": {
        "id": "448CDAPjqfQr"
      }
    },
    {
      "cell_type": "markdown",
      "source": [
        "Answer Here"
      ],
      "metadata": {
        "id": "3cspy4FjqxJW"
      }
    },
    {
      "cell_type": "markdown",
      "source": [
        "#### Chart - 2"
      ],
      "metadata": {
        "id": "KSlN3yHqYklG"
      }
    },
    {
      "cell_type": "code",
      "source": [
        "# Chart - 2 visualization code\n",
        "plt.figure(figsize=(10,5))\n",
        "netflix_df[~(netflix_df['country']=='Unknown')].country.value_counts().nlargest(10).plot(kind='bar')\n",
        "plt.title(' Top 10 countries with the highest number of shows')"
      ],
      "metadata": {
        "id": "R4YgtaqtYklH"
      },
      "execution_count": null,
      "outputs": []
    },
    {
      "cell_type": "markdown",
      "source": [
        "##### 1. Why did you pick the specific chart?"
      ],
      "metadata": {
        "id": "t6dVpIINYklI"
      }
    },
    {
      "cell_type": "markdown",
      "source": [
        "Answer Here."
      ],
      "metadata": {
        "id": "5aaW0BYyYklI"
      }
    },
    {
      "cell_type": "markdown",
      "source": [
        "##### 2. What is/are the insight(s) found from the chart?"
      ],
      "metadata": {
        "id": "ijmpgYnKYklI"
      }
    },
    {
      "cell_type": "markdown",
      "source": [
        "Answer Here"
      ],
      "metadata": {
        "id": "PSx9atu2YklI"
      }
    },
    {
      "cell_type": "markdown",
      "source": [
        "##### 3. Will the gained insights help creating a positive business impact? \n",
        "Are there any insights that lead to negative growth? Justify with specific reason."
      ],
      "metadata": {
        "id": "-JiQyfWJYklI"
      }
    },
    {
      "cell_type": "markdown",
      "source": [
        "Answer Here"
      ],
      "metadata": {
        "id": "BcBbebzrYklV"
      }
    },
    {
      "cell_type": "markdown",
      "source": [
        "#### Chart - 3"
      ],
      "metadata": {
        "id": "EM7whBJCYoAo"
      }
    },
    {
      "cell_type": "code",
      "source": [
        "# Chart - 3 visualization code\n",
        "# Visualizing the year in which the movie / tv show was released\n",
        "plt.figure(figsize=(10,5))\n",
        "sns.histplot(netflix_df['release_year'])\n",
        "plt.title('distribution by released year')"
      ],
      "metadata": {
        "id": "t6GMdE67YoAp"
      },
      "execution_count": null,
      "outputs": []
    },
    {
      "cell_type": "code",
      "source": [
        "# Plot growth of the contents over the years.\n",
        "tv_show = netflix_df[netflix_df[\"type\"] == \"TV Show\"]\n",
        "movie = netflix_df[netflix_df[\"type\"] == \"Movie\"]\n",
        "\n",
        "col = \"year_added\"\n",
        "\n",
        "content_1 = tv_show[col].value_counts().reset_index()\n",
        "content_1 = content_1.rename(columns = {col : \"count\", \"index\" : col})\n",
        "content_1 = content_1.sort_values(col)\n",
        "\n",
        "content_2 = movie[col].value_counts().reset_index()\n",
        "content_2 = content_2.rename(columns = {col : \"count\", \"index\" : col})\n",
        "content_2 = content_2.sort_values(col)\n",
        "\n",
        "trace1 = go.Scatter(x=content_1[col], y=content_1[\"count\"], name=\"TV Shows\", marker=dict(color=\"#db0000\"))\n",
        "trace2 = go.Scatter(x=content_2[col], y=content_2[\"count\"], name=\"Movies\", marker=dict(color=\"#564d4d\"))\n",
        "\n",
        "data = [trace1, trace2]\n",
        "layout = go.Layout(title=\"Content added over the years\",title_x=0.47, legend=dict(x=0.4, y=1.1, orientation=\"h\"))\n",
        "fig = go.Figure(data, layout=layout)\n",
        "\n",
        "fig.show()"
      ],
      "metadata": {
        "id": "l_iP8J2Q-rbJ"
      },
      "execution_count": null,
      "outputs": []
    },
    {
      "cell_type": "markdown",
      "source": [
        "##### 1. Why did you pick the specific chart?"
      ],
      "metadata": {
        "id": "fge-S5ZAYoAp"
      }
    },
    {
      "cell_type": "markdown",
      "source": [
        "Answer Here."
      ],
      "metadata": {
        "id": "5dBItgRVYoAp"
      }
    },
    {
      "cell_type": "markdown",
      "source": [
        "##### 2. What is/are the insight(s) found from the chart?"
      ],
      "metadata": {
        "id": "85gYPyotYoAp"
      }
    },
    {
      "cell_type": "markdown",
      "source": [
        "Answer Here"
      ],
      "metadata": {
        "id": "4jstXR6OYoAp"
      }
    },
    {
      "cell_type": "markdown",
      "source": [
        "##### 3. Will the gained insights help creating a positive business impact? \n",
        "Are there any insights that lead to negative growth? Justify with specific reason."
      ],
      "metadata": {
        "id": "RoGjAbkUYoAp"
      }
    },
    {
      "cell_type": "markdown",
      "source": [
        "Answer Here"
      ],
      "metadata": {
        "id": "zfJ8IqMcYoAp"
      }
    },
    {
      "cell_type": "markdown",
      "source": [
        "#### Chart - 4"
      ],
      "metadata": {
        "id": "4Of9eVA-YrdM"
      }
    },
    {
      "cell_type": "code",
      "source": [
        "# Chart - 4 visualization code\n",
        "# Seprating Genres\n",
        "genres = netflix_df.set_index('title').listed_in.str.split(', ', expand=True).stack().reset_index(level=1, drop=True);\n",
        "\n",
        "# ploting graph for top 10 genres\n",
        "plt.figure(figsize=(7,9))\n",
        "g = sns.countplot(y = genres, order=genres.value_counts().index[:10],palette = \"Pastel1\")\n",
        "plt.title('Top 10 Genres on Netflix')\n",
        "plt.xlabel('Titles')\n",
        "plt.ylabel('Genres')\n",
        "plt.show()"
      ],
      "metadata": {
        "id": "mtwK2eKH-4QL"
      },
      "execution_count": null,
      "outputs": []
    },
    {
      "cell_type": "markdown",
      "source": [
        "##### 1. Why did you pick the specific chart?"
      ],
      "metadata": {
        "id": "iky9q4vBYrdO"
      }
    },
    {
      "cell_type": "markdown",
      "source": [
        "Answer Here."
      ],
      "metadata": {
        "id": "aJRCwT6DYrdO"
      }
    },
    {
      "cell_type": "markdown",
      "source": [
        "##### 2. What is/are the insight(s) found from the chart?"
      ],
      "metadata": {
        "id": "F6T5p64dYrdO"
      }
    },
    {
      "cell_type": "markdown",
      "source": [
        "Answer Here"
      ],
      "metadata": {
        "id": "Xx8WAJvtYrdO"
      }
    },
    {
      "cell_type": "markdown",
      "source": [
        "##### 3. Will the gained insights help creating a positive business impact? \n",
        "Are there any insights that lead to negative growth? Justify with specific reason."
      ],
      "metadata": {
        "id": "y-Ehk30pYrdP"
      }
    },
    {
      "cell_type": "markdown",
      "source": [
        "Answer Here"
      ],
      "metadata": {
        "id": "jLNxxz7MYrdP"
      }
    },
    {
      "cell_type": "markdown",
      "source": [
        "#### Chart - 5"
      ],
      "metadata": {
        "id": "bamQiAODYuh1"
      }
    },
    {
      "cell_type": "code",
      "source": [
        "# Chart - 5 visualization code\n",
        "# Age ratings for shows in the dataset\n",
        "plt.figure(figsize=(10,5))\n",
        "sns.countplot(x='rating', hue='type', data=netflix_df)"
      ],
      "metadata": {
        "id": "n2UWFN8B-nDJ"
      },
      "execution_count": null,
      "outputs": []
    },
    {
      "cell_type": "markdown",
      "source": [
        "##### 1. Why did you pick the specific chart?"
      ],
      "metadata": {
        "id": "QHF8YVU7Yuh3"
      }
    },
    {
      "cell_type": "markdown",
      "source": [
        "Answer Here."
      ],
      "metadata": {
        "id": "dcxuIMRPYuh3"
      }
    },
    {
      "cell_type": "markdown",
      "source": [
        "##### 2. What is/are the insight(s) found from the chart?"
      ],
      "metadata": {
        "id": "GwzvFGzlYuh3"
      }
    },
    {
      "cell_type": "markdown",
      "source": [
        "Answer Here"
      ],
      "metadata": {
        "id": "uyqkiB8YYuh3"
      }
    },
    {
      "cell_type": "markdown",
      "source": [
        "##### 3. Will the gained insights help creating a positive business impact? \n",
        "Are there any insights that lead to negative growth? Justify with specific reason."
      ],
      "metadata": {
        "id": "qYpmQ266Yuh3"
      }
    },
    {
      "cell_type": "markdown",
      "source": [
        "Answer Here"
      ],
      "metadata": {
        "id": "_WtzZ_hCYuh4"
      }
    },
    {
      "cell_type": "markdown",
      "source": [
        "#### Chart - 6"
      ],
      "metadata": {
        "id": "OH-pJp9IphqM"
      }
    },
    {
      "cell_type": "code",
      "source": [
        "# Chart - 6 visualization code\n",
        "# Graph for top 10 directors\n",
        "directors = netflix_df[netflix_df.director != 'Unknown'].set_index('title').director.str.split(', ', expand=True).stack().reset_index(level=1, drop=True)\n",
        "sns.countplot(y = directors, order=directors.value_counts().index[:10], palette='mako')\n",
        "plt.title('Top 10 Director on Netflix')\n",
        "plt.show()"
      ],
      "metadata": {
        "id": "kuRf4wtuphqN"
      },
      "execution_count": null,
      "outputs": []
    },
    {
      "cell_type": "markdown",
      "source": [
        "##### 1. Why did you pick the specific chart?"
      ],
      "metadata": {
        "id": "bbFf2-_FphqN"
      }
    },
    {
      "cell_type": "markdown",
      "source": [
        "Answer Here."
      ],
      "metadata": {
        "id": "loh7H2nzphqN"
      }
    },
    {
      "cell_type": "markdown",
      "source": [
        "##### 2. What is/are the insight(s) found from the chart?"
      ],
      "metadata": {
        "id": "_ouA3fa0phqN"
      }
    },
    {
      "cell_type": "markdown",
      "source": [
        "Answer Here"
      ],
      "metadata": {
        "id": "VECbqPI7phqN"
      }
    },
    {
      "cell_type": "markdown",
      "source": [
        "##### 3. Will the gained insights help creating a positive business impact? \n",
        "Are there any insights that lead to negative growth? Justify with specific reason."
      ],
      "metadata": {
        "id": "Seke61FWphqN"
      }
    },
    {
      "cell_type": "markdown",
      "source": [
        "Answer Here"
      ],
      "metadata": {
        "id": "DW4_bGpfphqN"
      }
    },
    {
      "cell_type": "markdown",
      "source": [
        "#### Chart - 7"
      ],
      "metadata": {
        "id": "PIIx-8_IphqN"
      }
    },
    {
      "cell_type": "code",
      "source": [
        "# Chart - 7 visualization code\n",
        "# Graph for top 10 actors\n",
        "actor = netflix_df[netflix_df.cast != 'Unknown'].set_index('title').cast.str.split(', ', expand=True).stack().reset_index(level=1, drop=True)\n",
        "sns.countplot(y = actor, order=actor.value_counts().index[:10], palette='mako')\n",
        "plt.title('Top 10 Actors on Netflix')\n",
        "plt.show()"
      ],
      "metadata": {
        "id": "lqAIGUfyphqO"
      },
      "execution_count": null,
      "outputs": []
    },
    {
      "cell_type": "markdown",
      "source": [
        "##### 1. Why did you pick the specific chart?"
      ],
      "metadata": {
        "id": "t27r6nlMphqO"
      }
    },
    {
      "cell_type": "markdown",
      "source": [
        "Answer Here."
      ],
      "metadata": {
        "id": "iv6ro40sphqO"
      }
    },
    {
      "cell_type": "markdown",
      "source": [
        "##### 2. What is/are the insight(s) found from the chart?"
      ],
      "metadata": {
        "id": "r2jJGEOYphqO"
      }
    },
    {
      "cell_type": "markdown",
      "source": [
        "Answer Here"
      ],
      "metadata": {
        "id": "Po6ZPi4hphqO"
      }
    },
    {
      "cell_type": "markdown",
      "source": [
        "##### 3. Will the gained insights help creating a positive business impact? \n",
        "Are there any insights that lead to negative growth? Justify with specific reason."
      ],
      "metadata": {
        "id": "b0JNsNcRphqO"
      }
    },
    {
      "cell_type": "markdown",
      "source": [
        "Answer Here"
      ],
      "metadata": {
        "id": "xvSq8iUTphqO"
      }
    },
    {
      "cell_type": "markdown",
      "source": [
        "#### Chart - 8"
      ],
      "metadata": {
        "id": "BZR9WyysphqO"
      }
    },
    {
      "cell_type": "code",
      "source": [
        "# Chart - 8 visualization code\n",
        "#Plotting a countplot for getting better insights from monthwise addition\n",
        "plt.figure(figsize=(9,7))\n",
        "sns.countplot(x='month_added',hue='type',data=netflix_df)\n",
        "plt.title(\"Monthwise content addition\")"
      ],
      "metadata": {
        "id": "TdPTWpAVphqO"
      },
      "execution_count": null,
      "outputs": []
    },
    {
      "cell_type": "markdown",
      "source": [
        "##### 1. Why did you pick the specific chart?"
      ],
      "metadata": {
        "id": "jj7wYXLtphqO"
      }
    },
    {
      "cell_type": "markdown",
      "source": [
        "Answer Here."
      ],
      "metadata": {
        "id": "Ob8u6rCTphqO"
      }
    },
    {
      "cell_type": "markdown",
      "source": [
        "##### 2. What is/are the insight(s) found from the chart?"
      ],
      "metadata": {
        "id": "eZrbJ2SmphqO"
      }
    },
    {
      "cell_type": "markdown",
      "source": [
        "Answer Here"
      ],
      "metadata": {
        "id": "mZtgC_hjphqO"
      }
    },
    {
      "cell_type": "markdown",
      "source": [
        "##### 3. Will the gained insights help creating a positive business impact? \n",
        "Are there any insights that lead to negative growth? Justify with specific reason."
      ],
      "metadata": {
        "id": "rFu4xreNphqO"
      }
    },
    {
      "cell_type": "markdown",
      "source": [
        "Answer Here"
      ],
      "metadata": {
        "id": "ey_0qi68phqO"
      }
    },
    {
      "cell_type": "markdown",
      "source": [
        "#### Chart - 9"
      ],
      "metadata": {
        "id": "YJ55k-q6phqO"
      }
    },
    {
      "cell_type": "code",
      "source": [
        "# Chart - 9 visualization code\n",
        "#Plotting a countplot for getting better insights from datewise addition\n",
        "plt.figure(figsize=(15,6))\n",
        "sns.countplot(x='day_added',hue='type',data=netflix_df)\n",
        "plt.xlabel('Days')\n",
        "plt.ylabel('Total no. of Movies/TV shows added')\n",
        "plt.title(\"Daywise content addition\")"
      ],
      "metadata": {
        "id": "B2aS4O1ophqO"
      },
      "execution_count": null,
      "outputs": []
    },
    {
      "cell_type": "markdown",
      "source": [
        "##### 1. Why did you pick the specific chart?"
      ],
      "metadata": {
        "id": "gCFgpxoyphqP"
      }
    },
    {
      "cell_type": "markdown",
      "source": [
        "Answer Here."
      ],
      "metadata": {
        "id": "TVxDimi2phqP"
      }
    },
    {
      "cell_type": "markdown",
      "source": [
        "##### 2. What is/are the insight(s) found from the chart?"
      ],
      "metadata": {
        "id": "OVtJsKN_phqQ"
      }
    },
    {
      "cell_type": "markdown",
      "source": [
        "Answer Here"
      ],
      "metadata": {
        "id": "ngGi97qjphqQ"
      }
    },
    {
      "cell_type": "markdown",
      "source": [
        "##### 3. Will the gained insights help creating a positive business impact? \n",
        "Are there any insights that lead to negative growth? Justify with specific reason."
      ],
      "metadata": {
        "id": "lssrdh5qphqQ"
      }
    },
    {
      "cell_type": "markdown",
      "source": [
        "Answer Here"
      ],
      "metadata": {
        "id": "tBpY5ekJphqQ"
      }
    },
    {
      "cell_type": "markdown",
      "source": [
        "#### Chart - 10"
      ],
      "metadata": {
        "id": "U2RJ9gkRphqQ"
      }
    },
    {
      "cell_type": "code",
      "source": [
        "# Chart - 10 visualization code\n",
        " # Seasons in each TV show\n",
        "plt.figure(figsize=(10,5))\n",
        "p = sns.countplot(x='duration',data=netflix_df[netflix_df['type']=='TV Show'])\n",
        "plt.title('Number of seasons per TV show distribution')\n",
        "\n",
        "for i in p.patches:\n",
        "  p.annotate(format(i.get_height(), '.0f'), (i.get_x() + i.get_width() / 2., i.get_height()), ha = 'center', va = 'center', xytext = (0, 10), textcoords = 'offset points')\n",
        "\n",
        "plt.xlabel('Season')\n",
        "plt.ylabel('Count')\n",
        "plt.show()"
      ],
      "metadata": {
        "id": "GM7a4YP4phqQ"
      },
      "execution_count": null,
      "outputs": []
    },
    {
      "cell_type": "markdown",
      "source": [
        "##### 1. Why did you pick the specific chart?"
      ],
      "metadata": {
        "id": "1M8mcRywphqQ"
      }
    },
    {
      "cell_type": "markdown",
      "source": [
        "Answer Here."
      ],
      "metadata": {
        "id": "8agQvks0phqQ"
      }
    },
    {
      "cell_type": "markdown",
      "source": [
        "##### 2. What is/are the insight(s) found from the chart?"
      ],
      "metadata": {
        "id": "tgIPom80phqQ"
      }
    },
    {
      "cell_type": "markdown",
      "source": [
        "Answer Here"
      ],
      "metadata": {
        "id": "Qp13pnNzphqQ"
      }
    },
    {
      "cell_type": "markdown",
      "source": [
        "##### 3. Will the gained insights help creating a positive business impact? \n",
        "Are there any insights that lead to negative growth? Justify with specific reason."
      ],
      "metadata": {
        "id": "JMzcOPDDphqR"
      }
    },
    {
      "cell_type": "markdown",
      "source": [
        "Answer Here"
      ],
      "metadata": {
        "id": "R4Ka1PC2phqR"
      }
    },
    {
      "cell_type": "markdown",
      "source": [
        "#### Chart - 11"
      ],
      "metadata": {
        "id": "x-EpHcCOp1ci"
      }
    },
    {
      "cell_type": "code",
      "source": [
        "# Chart - 11 visualization code\n",
        "\n",
        "\n",
        "# Create a string to store all the words.\n",
        "comment_words = ''\n",
        "\n",
        "# Remove the stopwords.\n",
        "stopwords = set(STOPWORDS)\n",
        " \n",
        "# iterate through the column.\n",
        "for val in netflix_df.description:\n",
        "     \n",
        "    # typecaste each val to string\n",
        "    val = str(val)\n",
        " \n",
        "    # split the value\n",
        "    tokens = val.split()\n",
        "     \n",
        "    # Converts each token into lowercase\n",
        "    for i in range(len(tokens)):\n",
        "        tokens[i] = tokens[i].lower()\n",
        "     \n",
        "    comment_words += \" \".join(tokens)+\" \"\n",
        " \n",
        "wordcloud = WordCloud(width = 1000, height = 500,\n",
        "                background_color ='white',\n",
        "                stopwords = stopwords,\n",
        "                min_font_size = 10,\n",
        "                max_words = 1000,\n",
        "                colormap = 'gist_heat').generate(comment_words)\n",
        " \n",
        "# plot the WordCloud image                      \n",
        "plt.figure(figsize = (8, 8), facecolor = None)\n",
        "plt.title('Most used words in description', fontsize = 30, pad=25)\n",
        "plt.imshow(wordcloud)\n",
        "plt.axis(\"off\")\n",
        "plt.tight_layout(pad = 0)\n",
        " \n",
        "plt.show()"
      ],
      "metadata": {
        "id": "mAQTIvtqp1cj"
      },
      "execution_count": null,
      "outputs": []
    },
    {
      "cell_type": "markdown",
      "source": [
        "##### 1. Why did you pick the specific chart?"
      ],
      "metadata": {
        "id": "X_VqEhTip1ck"
      }
    },
    {
      "cell_type": "markdown",
      "source": [
        "Answer Here."
      ],
      "metadata": {
        "id": "-vsMzt_np1ck"
      }
    },
    {
      "cell_type": "markdown",
      "source": [
        "##### 2. What is/are the insight(s) found from the chart?"
      ],
      "metadata": {
        "id": "8zGJKyg5p1ck"
      }
    },
    {
      "cell_type": "markdown",
      "source": [
        "Answer Here"
      ],
      "metadata": {
        "id": "ZYdMsrqVp1ck"
      }
    },
    {
      "cell_type": "markdown",
      "source": [
        "##### 3. Will the gained insights help creating a positive business impact? \n",
        "Are there any insights that lead to negative growth? Justify with specific reason."
      ],
      "metadata": {
        "id": "PVzmfK_Ep1ck"
      }
    },
    {
      "cell_type": "markdown",
      "source": [
        "Answer Here"
      ],
      "metadata": {
        "id": "druuKYZpp1ck"
      }
    },
    {
      "cell_type": "markdown",
      "source": [
        "#### Chart - 12"
      ],
      "metadata": {
        "id": "n3dbpmDWp1ck"
      }
    },
    {
      "cell_type": "code",
      "source": [
        "# Chart - 12 visualization code\n",
        "plt.figure(figsize=(8,4), dpi=120)\n",
        "sns.set(style=\"darkgrid\")\n",
        "sns.histplot(data=duration_movies['duration'], color='#db0000')\n",
        "plt.title('Duration of movies')\n",
        "plt.show()"
      ],
      "metadata": {
        "id": "bwevp1tKp1ck"
      },
      "execution_count": null,
      "outputs": []
    },
    {
      "cell_type": "code",
      "source": [
        "plt.figure(figsize=(8,4), dpi=120)\n",
        "sns.set(style=\"darkgrid\")\n",
        "sns.histplot(data=duration_tv_shows['duration'], color='#db0000')\n",
        "plt.title('Duration of Tv Shows.')\n",
        "plt.show()"
      ],
      "metadata": {
        "id": "CON0lbE7LTfB"
      },
      "execution_count": null,
      "outputs": []
    },
    {
      "cell_type": "markdown",
      "source": [
        "##### 1. Why did you pick the specific chart?"
      ],
      "metadata": {
        "id": "ylSl6qgtp1ck"
      }
    },
    {
      "cell_type": "markdown",
      "source": [
        "Answer Here."
      ],
      "metadata": {
        "id": "m2xqNkiQp1ck"
      }
    },
    {
      "cell_type": "markdown",
      "source": [
        "##### 2. What is/are the insight(s) found from the chart?"
      ],
      "metadata": {
        "id": "ZWILFDl5p1ck"
      }
    },
    {
      "cell_type": "markdown",
      "source": [
        "Answer Here"
      ],
      "metadata": {
        "id": "x-lUsV2mp1ck"
      }
    },
    {
      "cell_type": "markdown",
      "source": [
        "##### 3. Will the gained insights help creating a positive business impact? \n",
        "Are there any insights that lead to negative growth? Justify with specific reason."
      ],
      "metadata": {
        "id": "M7G43BXep1ck"
      }
    },
    {
      "cell_type": "markdown",
      "source": [
        "Answer Here"
      ],
      "metadata": {
        "id": "5wwDJXsLp1cl"
      }
    },
    {
      "cell_type": "markdown",
      "source": [
        "#### Chart - 13"
      ],
      "metadata": {
        "id": "Ag9LCva-p1cl"
      }
    },
    {
      "cell_type": "code",
      "source": [
        "# Chart - 13 visualization code\n",
        "# iterate through the column.\n",
        "for val in netflix_df.title:\n",
        "     \n",
        "    # typecaste each val to string\n",
        "    val = str(val)\n",
        " \n",
        "    # split the value\n",
        "    tokens = val.split()\n",
        "     \n",
        "    # Converts each token into lowercase\n",
        "    for i in range(len(tokens)):\n",
        "        tokens[i] = tokens[i].lower()\n",
        "     \n",
        "    comment_words += \" \".join(tokens)+\" \"\n",
        " \n",
        "wordcloud = WordCloud(width = 1000, height = 500,\n",
        "                background_color ='white',\n",
        "                stopwords = stopwords,\n",
        "                min_font_size = 10,\n",
        "                max_words = 1000,\n",
        "                colormap = 'gist_heat_r').generate(comment_words)\n",
        " \n",
        "# plot the WordCloud image                      \n",
        "plt.figure(figsize = (8, 8), facecolor = None)\n",
        "plt.title('Most used words in title', fontsize = 30, pad=25)\n",
        "plt.imshow(wordcloud)\n",
        "plt.axis(\"off\")\n",
        "plt.tight_layout(pad = 0)\n",
        " \n",
        "plt.show()"
      ],
      "metadata": {
        "id": "EUfxeq9-p1cl"
      },
      "execution_count": null,
      "outputs": []
    },
    {
      "cell_type": "markdown",
      "source": [
        "##### 1. Why did you pick the specific chart?"
      ],
      "metadata": {
        "id": "E6MkPsBcp1cl"
      }
    },
    {
      "cell_type": "markdown",
      "source": [
        "Answer Here."
      ],
      "metadata": {
        "id": "V22bRsFWp1cl"
      }
    },
    {
      "cell_type": "markdown",
      "source": [
        "##### 2. What is/are the insight(s) found from the chart?"
      ],
      "metadata": {
        "id": "2cELzS2fp1cl"
      }
    },
    {
      "cell_type": "markdown",
      "source": [
        "Answer Here"
      ],
      "metadata": {
        "id": "ozQPc2_Ip1cl"
      }
    },
    {
      "cell_type": "markdown",
      "source": [
        "##### 3. Will the gained insights help creating a positive business impact? \n",
        "Are there any insights that lead to negative growth? Justify with specific reason."
      ],
      "metadata": {
        "id": "3MPXvC8up1cl"
      }
    },
    {
      "cell_type": "markdown",
      "source": [
        "Answer Here"
      ],
      "metadata": {
        "id": "GL8l1tdLp1cl"
      }
    },
    {
      "cell_type": "markdown",
      "source": [
        "#### Chart - 14 - Correlation Heatmap"
      ],
      "metadata": {
        "id": "NC_X3p0fY2L0"
      }
    },
    {
      "cell_type": "code",
      "source": [
        "# Changing the values in the rating column\n",
        "rating_map = {'TV-MA':'Adults',\n",
        "              'R':'Adults',\n",
        "              'PG-13':'Teens',\n",
        "              'TV-14':'Young Adults',\n",
        "              'TV-PG':'Older Kids',\n",
        "              'NR':'Adults',\n",
        "              'TV-G':'Kids',\n",
        "              'TV-Y':'Kids',\n",
        "              'TV-Y7':'Older Kids',\n",
        "              'PG':'Older Kids',\n",
        "              'G':'Kids',\n",
        "              'NC-17':'Adults',\n",
        "              'TV-Y7-FV':'Older Kids',\n",
        "              'UR':'Adults'}\n",
        "netflix_df2 = netflix_df.copy()\n",
        "netflix_df2['rating'].replace(rating_map, inplace = True)\n",
        "netflix_df2['rating'].unique()"
      ],
      "metadata": {
        "id": "A3M09u7h7u3I"
      },
      "execution_count": null,
      "outputs": []
    },
    {
      "cell_type": "code",
      "source": [
        "print(netflix_df2['country'])"
      ],
      "metadata": {
        "id": "NsAnlJnk93pf"
      },
      "execution_count": null,
      "outputs": []
    },
    {
      "cell_type": "code",
      "source": [
        "netflix_df2['country'] = netflix_df2['country'].astype('|S')"
      ],
      "metadata": {
        "id": "2iypmqRU_T3s"
      },
      "execution_count": null,
      "outputs": []
    },
    {
      "cell_type": "code",
      "source": [
        "netflix_df2['principal_country'] = netflix_df2['country'].apply(lambda x: x.decode().split(\",\")[0])\n",
        "netflix_df2['principal_country'].head()\n",
        "\n",
        "country_order = netflix_df2['principal_country'].value_counts()[:11].index\n",
        "content_data = netflix_df2[['type', 'principal_country']].groupby('principal_country')['type'].value_counts().unstack().loc[country_order]\n",
        "content_data['sum'] = content_data.sum(axis=1)\n",
        "content_data_ratio = (content_data.T / content_data['sum']).T[['Movie', 'TV Show']].sort_values(by='Movie',ascending=False)[::-1]\n",
        "     \n",
        "\n",
        "netflix_df2['count'] = 1\n",
        "data = netflix_df2.groupby('principal_country')[['principal_country','count']].sum().sort_values(by='count',ascending=False).reset_index()[:10]\n",
        "data = data['principal_country']\n",
        "\n",
        "Flix_df_heatmap = netflix_df2.loc[netflix_df2['principal_country'].isin(data)]\n",
        "Flix_df_heatmap = pd.crosstab(Flix_df_heatmap['principal_country'], Flix_df_heatmap['rating'],normalize = \"index\").T\n",
        "Flix_df_heatmap"
      ],
      "metadata": {
        "id": "_dYfHbsX8Gxe"
      },
      "execution_count": null,
      "outputs": []
    },
    {
      "cell_type": "code",
      "source": [
        "# Chart - 14 visualization code\n",
        "\n",
        "# Plotting the heatmap\n",
        "fig, ax = plt.subplots(figsize=(12, 12))\n",
        "\n",
        "# Define the countries and ages to be included in the plot\n",
        "country_order = ['United States', 'India', 'United Kingdom', 'Canada', 'Japan', 'France', 'South Korea', 'Spain', 'Mexico']\n",
        "age_order = ['Adults', 'Teens', 'Young Adults', 'Older Kids', 'Kids']\n",
        "\n",
        "# Plot the heatmap\n",
        "sns.heatmap(Flix_df_heatmap.loc[age_order, country_order], cmap=\"PuBu\", square=True, linewidth=2.5, cbar=False,\n",
        "            annot=True, fmt='2.0%', vmax=.6, vmin=0.05, ax=ax, annot_kws={\"fontsize\": 15})\n",
        "\n",
        "# Customize the plot\n",
        "ax.spines['top'].set_visible(True)\n",
        "fig.text(.76, .765, 'Target ages proportion of total content by country', fontweight='bold', fontfamily='serif', fontsize=15, ha='right')   \n",
        "ax.set_yticklabels(ax.get_yticklabels(), fontfamily='serif', rotation=0, fontsize=11)\n",
        "ax.set_xticklabels(ax.get_xticklabels(), fontfamily='serif', rotation=90, fontsize=11)\n",
        "ax.set_ylabel('')\n",
        "ax.set_xlabel('')\n",
        "ax.tick_params(axis='both', which='both', length=0)\n",
        "\n",
        "# Improve the layout\n",
        "plt.tight_layout()\n",
        "plt.show()"
      ],
      "metadata": {
        "id": "7U5YBW6zBHYG"
      },
      "execution_count": null,
      "outputs": []
    },
    {
      "cell_type": "markdown",
      "source": [
        "##### 1. Why did you pick the specific chart?"
      ],
      "metadata": {
        "id": "UV0SzAkaZNRQ"
      }
    },
    {
      "cell_type": "markdown",
      "source": [
        "Answer Here."
      ],
      "metadata": {
        "id": "DVPuT8LYZNRQ"
      }
    },
    {
      "cell_type": "markdown",
      "source": [
        "##### 2. What is/are the insight(s) found from the chart?"
      ],
      "metadata": {
        "id": "YPEH6qLeZNRQ"
      }
    },
    {
      "cell_type": "markdown",
      "source": [
        "Answer Here"
      ],
      "metadata": {
        "id": "bfSqtnDqZNRR"
      }
    },
    {
      "cell_type": "markdown",
      "source": [
        "#### Chart - 15 - Pair Plot "
      ],
      "metadata": {
        "id": "q29F0dvdveiT"
      }
    },
    {
      "cell_type": "code",
      "source": [
        "# Pair Plot visualization code\n",
        "sns.set_style(\"whitegrid\", {'axes.grid' : False}) #set style of the plot\n",
        "\n",
        "#plot the pair plot of all the required columns in the dataframe\n",
        "pp=sns.pairplot(netflix_df.sample(1000))\n",
        "pp.fig.set_size_inches(45,45)\n",
        "     "
      ],
      "metadata": {
        "id": "o58-TEIhveiU"
      },
      "execution_count": null,
      "outputs": []
    },
    {
      "cell_type": "markdown",
      "source": [
        "##### 1. Why did you pick the specific chart?"
      ],
      "metadata": {
        "id": "EXh0U9oCveiU"
      }
    },
    {
      "cell_type": "markdown",
      "source": [
        "Answer Here."
      ],
      "metadata": {
        "id": "eMmPjTByveiU"
      }
    },
    {
      "cell_type": "markdown",
      "source": [
        "##### 2. What is/are the insight(s) found from the chart?"
      ],
      "metadata": {
        "id": "22aHeOlLveiV"
      }
    },
    {
      "cell_type": "markdown",
      "source": [
        "Answer Here"
      ],
      "metadata": {
        "id": "uPQ8RGwHveiV"
      }
    },
    {
      "cell_type": "markdown",
      "source": [
        "## ***5. Hypothesis Testing***"
      ],
      "metadata": {
        "id": "g-ATYxFrGrvw"
      }
    },
    {
      "cell_type": "markdown",
      "source": [
        "### Based on your chart experiments, define three hypothetical statements from the dataset. In the next three questions, perform hypothesis testing to obtain final conclusion about the statements through your code and statistical testing."
      ],
      "metadata": {
        "id": "Yfr_Vlr8HBkt"
      }
    },
    {
      "cell_type": "markdown",
      "source": [
        "Answer Here."
      ],
      "metadata": {
        "id": "-7MS06SUHkB-"
      }
    },
    {
      "cell_type": "markdown",
      "source": [
        "### Hypothetical Statement - 1"
      ],
      "metadata": {
        "id": "8yEUt7NnHlrM"
      }
    },
    {
      "cell_type": "markdown",
      "source": [
        "#### 1. State Your research hypothesis as a null hypothesis and alternate hypothesis."
      ],
      "metadata": {
        "id": "tEA2Xm5dHt1r"
      }
    },
    {
      "cell_type": "markdown",
      "source": [
        "Answer Here."
      ],
      "metadata": {
        "id": "HI9ZP0laH0D-"
      }
    },
    {
      "cell_type": "markdown",
      "source": [
        "#### 2. Perform an appropriate statistical test."
      ],
      "metadata": {
        "id": "I79__PHVH19G"
      }
    },
    {
      "cell_type": "code",
      "source": [
        "# Perform Statistical Test to obtain P-Value"
      ],
      "metadata": {
        "id": "oZrfquKtyian"
      },
      "execution_count": null,
      "outputs": []
    },
    {
      "cell_type": "markdown",
      "source": [
        "##### Which statistical test have you done to obtain P-Value?"
      ],
      "metadata": {
        "id": "Ou-I18pAyIpj"
      }
    },
    {
      "cell_type": "markdown",
      "source": [
        "Answer Here."
      ],
      "metadata": {
        "id": "s2U0kk00ygSB"
      }
    },
    {
      "cell_type": "markdown",
      "source": [
        "##### Why did you choose the specific statistical test?"
      ],
      "metadata": {
        "id": "fF3858GYyt-u"
      }
    },
    {
      "cell_type": "markdown",
      "source": [
        "Answer Here."
      ],
      "metadata": {
        "id": "HO4K0gP5y3B4"
      }
    },
    {
      "cell_type": "markdown",
      "source": [
        "### Hypothetical Statement - 2"
      ],
      "metadata": {
        "id": "4_0_7-oCpUZd"
      }
    },
    {
      "cell_type": "markdown",
      "source": [
        "#### 1. State Your research hypothesis as a null hypothesis and alternate hypothesis."
      ],
      "metadata": {
        "id": "hwyV_J3ipUZe"
      }
    },
    {
      "cell_type": "markdown",
      "source": [
        "Answer Here."
      ],
      "metadata": {
        "id": "FnpLGJ-4pUZe"
      }
    },
    {
      "cell_type": "markdown",
      "source": [
        "#### 2. Perform an appropriate statistical test."
      ],
      "metadata": {
        "id": "3yB-zSqbpUZe"
      }
    },
    {
      "cell_type": "code",
      "source": [
        "# Perform Statistical Test to obtain P-Value"
      ],
      "metadata": {
        "id": "sWxdNTXNpUZe"
      },
      "execution_count": null,
      "outputs": []
    },
    {
      "cell_type": "markdown",
      "source": [
        "##### Which statistical test have you done to obtain P-Value?"
      ],
      "metadata": {
        "id": "dEUvejAfpUZe"
      }
    },
    {
      "cell_type": "markdown",
      "source": [
        "Answer Here."
      ],
      "metadata": {
        "id": "oLDrPz7HpUZf"
      }
    },
    {
      "cell_type": "markdown",
      "source": [
        "##### Why did you choose the specific statistical test?"
      ],
      "metadata": {
        "id": "Fd15vwWVpUZf"
      }
    },
    {
      "cell_type": "markdown",
      "source": [
        "Answer Here."
      ],
      "metadata": {
        "id": "4xOGYyiBpUZf"
      }
    },
    {
      "cell_type": "markdown",
      "source": [
        "### Hypothetical Statement - 3"
      ],
      "metadata": {
        "id": "bn_IUdTipZyH"
      }
    },
    {
      "cell_type": "markdown",
      "source": [
        "#### 1. State Your research hypothesis as a null hypothesis and alternate hypothesis."
      ],
      "metadata": {
        "id": "49K5P_iCpZyH"
      }
    },
    {
      "cell_type": "markdown",
      "source": [
        "Answer Here."
      ],
      "metadata": {
        "id": "7gWI5rT9pZyH"
      }
    },
    {
      "cell_type": "markdown",
      "source": [
        "#### 2. Perform an appropriate statistical test."
      ],
      "metadata": {
        "id": "Nff-vKELpZyI"
      }
    },
    {
      "cell_type": "code",
      "source": [
        "# Perform Statistical Test to obtain P-Value"
      ],
      "metadata": {
        "id": "s6AnJQjtpZyI"
      },
      "execution_count": null,
      "outputs": []
    },
    {
      "cell_type": "markdown",
      "source": [
        "##### Which statistical test have you done to obtain P-Value?"
      ],
      "metadata": {
        "id": "kLW572S8pZyI"
      }
    },
    {
      "cell_type": "markdown",
      "source": [
        "Answer Here."
      ],
      "metadata": {
        "id": "ytWJ8v15pZyI"
      }
    },
    {
      "cell_type": "markdown",
      "source": [
        "##### Why did you choose the specific statistical test?"
      ],
      "metadata": {
        "id": "dWbDXHzopZyI"
      }
    },
    {
      "cell_type": "markdown",
      "source": [
        "Answer Here."
      ],
      "metadata": {
        "id": "M99G98V6pZyI"
      }
    },
    {
      "cell_type": "markdown",
      "source": [
        "## ***6. Feature Engineering & Data Pre-processing***"
      ],
      "metadata": {
        "id": "yLjJCtPM0KBk"
      }
    },
    {
      "cell_type": "markdown",
      "source": [
        "### 1. Handling Missing Values"
      ],
      "metadata": {
        "id": "xiyOF9F70UgQ"
      }
    },
    {
      "cell_type": "code",
      "source": [
        "# Handling Missing Values & Missing Value Imputation\n",
        "netflix_df[['director','cast','country']] = netflix_df[['director','cast','country']].fillna('Unknown')\n",
        "netflix_df['rating'] = netflix_df['rating'].fillna(netflix_df['rating'].mode()[0])\n",
        "netflix_df.dropna(axis=0, inplace = True)"
      ],
      "metadata": {
        "id": "iRsAHk1K0fpS"
      },
      "execution_count": null,
      "outputs": []
    },
    {
      "cell_type": "markdown",
      "source": [
        "#### What all missing value imputation techniques have you used and why did you use those techniques?"
      ],
      "metadata": {
        "id": "7wuGOrhz0itI"
      }
    },
    {
      "cell_type": "markdown",
      "source": [
        "Answer Here."
      ],
      "metadata": {
        "id": "1ixusLtI0pqI"
      }
    },
    {
      "cell_type": "markdown",
      "source": [
        "## We will be using text columns to create clusters for our data."
      ],
      "metadata": {
        "id": "nLwFY2mLELEj"
      }
    },
    {
      "cell_type": "code",
      "source": [
        "cluster_df = netflix_df[['title']]\n",
        "cluster_df['cluster_data'] = (netflix_df['description'] + ' ' + netflix_df['listed_in'] + ' ' + netflix_df['director'] + ' ' + netflix_df['cast'] + ' ' + netflix_df['country'] + ' ' + netflix_df['rating']).astype(str)\n",
        "cluster_df.set_index('title', inplace = True)\n",
        "cluster_df.head()\n",
        "cluster_df.head()"
      ],
      "metadata": {
        "id": "oK1OHl9dD6bv"
      },
      "execution_count": null,
      "outputs": []
    },
    {
      "cell_type": "code",
      "source": [
        "# Remove punctuation from the text.\n",
        "def remove_punctuation(text):\n",
        "    '''a function for removing punctuation'''\n",
        "    import string \n",
        "    translator = str.maketrans('', '', string.punctuation)\n",
        "    return text.translate(translator)\n",
        "    \n",
        "cluster_df['cluster_data'] = cluster_df['cluster_data'].apply(remove_punctuation)\n",
        "cluster_df.head(2)"
      ],
      "metadata": {
        "id": "a0U3-fOnEQ1i"
      },
      "execution_count": null,
      "outputs": []
    },
    {
      "cell_type": "code",
      "source": [
        "import nltk\n",
        "nltk.download('stopwords')\n",
        "from nltk.corpus import stopwords"
      ],
      "metadata": {
        "id": "iJdfAQDSEUnH"
      },
      "execution_count": null,
      "outputs": []
    },
    {
      "cell_type": "code",
      "source": [
        "stop_words = set(stopwords.words('english'))"
      ],
      "metadata": {
        "id": "Z6-khdrtEY-i"
      },
      "execution_count": null,
      "outputs": []
    },
    {
      "cell_type": "code",
      "source": [
        "# Remove the stopwords.\n",
        "def stopwords(text):\n",
        "    '''a function for removing the stopword'''\n",
        "    text = [word.lower() for word in text.split() if word.lower() not in stop_words]\n",
        "    return \" \".join(text)\n",
        "\n",
        "cluster_df['cluster_data'] = cluster_df['cluster_data'].apply(stopwords)\n",
        "cluster_df.cluster_data.head(2)    "
      ],
      "metadata": {
        "id": "gf2kkKWFEbjf"
      },
      "execution_count": null,
      "outputs": []
    },
    {
      "cell_type": "code",
      "source": [
        "# create an object of stemming function\n",
        "stemmer = SnowballStemmer(\"english\")\n",
        "\n",
        "def stemming(text):    \n",
        "    '''a function which stems each word in the given text'''\n",
        "    text = [stemmer.stem(word) for word in text.split()]\n",
        "    return \" \".join(text)  "
      ],
      "metadata": {
        "id": "po7byJ4EEfHO"
      },
      "execution_count": null,
      "outputs": []
    },
    {
      "cell_type": "code",
      "source": [
        "cluster_df['cluster_data'] = cluster_df['cluster_data'].apply(stemming)\n",
        "cluster_df.head(2)"
      ],
      "metadata": {
        "id": "dLXHqQpdEirf"
      },
      "execution_count": null,
      "outputs": []
    },
    {
      "cell_type": "code",
      "source": [
        "bag_of_words = cluster_df.cluster_data"
      ],
      "metadata": {
        "id": "ISZVj6vjEmNH"
      },
      "execution_count": null,
      "outputs": []
    },
    {
      "cell_type": "markdown",
      "source": [
        "### 2. Handling Outliers"
      ],
      "metadata": {
        "id": "id1riN9m0vUs"
      }
    },
    {
      "cell_type": "code",
      "source": [
        "# Handling Outliers & Outlier treatments"
      ],
      "metadata": {
        "id": "M6w2CzZf04JK"
      },
      "execution_count": null,
      "outputs": []
    },
    {
      "cell_type": "markdown",
      "source": [
        "##### What all outlier treatment techniques have you used and why did you use those techniques?"
      ],
      "metadata": {
        "id": "578E2V7j08f6"
      }
    },
    {
      "cell_type": "markdown",
      "source": [
        "Answer Here."
      ],
      "metadata": {
        "id": "uGZz5OrT1HH-"
      }
    },
    {
      "cell_type": "code",
      "source": [],
      "metadata": {
        "id": "j1B7RLSuD5Pf"
      },
      "execution_count": null,
      "outputs": []
    },
    {
      "cell_type": "markdown",
      "source": [
        "### 3. Categorical Encoding"
      ],
      "metadata": {
        "id": "89xtkJwZ18nB"
      }
    },
    {
      "cell_type": "code",
      "source": [
        "# Encode your categorical columns\n",
        "cluster_df = netflix_df[['title']]\n",
        "cluster_df['cluster_data'] = (netflix_df['description'] + ' ' + netflix_df['listed_in'] + ' ' + netflix_df['director'] + ' ' + netflix_df['cast'] + ' ' + netflix_df['country'] + ' ' + netflix_df['rating']).astype(str)\n",
        "cluster_df.set_index('title', inplace = True)\n",
        "cluster_df.head()\n",
        "cluster_df.head()"
      ],
      "metadata": {
        "id": "21JmIYMG2hEo"
      },
      "execution_count": null,
      "outputs": []
    },
    {
      "cell_type": "code",
      "source": [
        "# Remove punctuation from the text.\n",
        "def remove_punctuation(text):\n",
        "    '''a function for removing punctuation'''\n",
        "    import string \n",
        "    translator = str.maketrans('', '', string.punctuation)\n",
        "    return text.translate(translator)\n",
        "    \n",
        "cluster_df['cluster_data'] = cluster_df['cluster_data'].apply(remove_punctuation)\n",
        "cluster_df.head(2)"
      ],
      "metadata": {
        "id": "U9AYWhkd3tYF"
      },
      "execution_count": null,
      "outputs": []
    },
    {
      "cell_type": "code",
      "source": [
        "import nltk\n",
        "from nltk.corpus import stopwords\n",
        "\n",
        "stop_words = set(stopwords.words(\"english\"))"
      ],
      "metadata": {
        "id": "exrv28nS4BqL"
      },
      "execution_count": null,
      "outputs": []
    },
    {
      "cell_type": "code",
      "source": [
        "stop_words = stopwords"
      ],
      "metadata": {
        "id": "MiLnWbQu9zvv"
      },
      "execution_count": null,
      "outputs": []
    },
    {
      "cell_type": "code",
      "source": [
        "def stopwords(text):\n",
        "    '''a function for removing the stopword'''\n",
        "    if isinstance(text, str):\n",
        "        text = [word.lower() for word in text.split() if word.lower() not in stop_words]\n",
        "        return \" \".join(text)\n",
        "    else:\n",
        "        return text"
      ],
      "metadata": {
        "id": "pOJJwyWSIxPk"
      },
      "execution_count": null,
      "outputs": []
    },
    {
      "cell_type": "code",
      "source": [
        "# Remove the stopwords.\n",
        "# def stopwords(text):\n",
        "#     '''a function for removing the stopword'''\n",
        "#     text = [word.lower() for word in text.split() if word.lower() not in stop_words]\n",
        "#     return \" \".join(text)\n",
        "\n",
        "# cluster_df['cluster_data'] = cluster_df['cluster_data'].apply(stopwords)\n",
        "# cluster_df.cluster_data.head(2)"
      ],
      "metadata": {
        "id": "M5el-4174EwF"
      },
      "execution_count": null,
      "outputs": []
    },
    {
      "cell_type": "code",
      "source": [
        "# create an object of stemming function\n",
        "stemmer = SnowballStemmer(\"english\")\n",
        "\n",
        "def stemming(text):    \n",
        "    '''a function which stems each word in the given text'''\n",
        "    text = [stemmer.stem(word) for word in text.split()]\n",
        "    return \" \".join(text) \n",
        "     "
      ],
      "metadata": {
        "id": "aQ5CXYQP4Hz_"
      },
      "execution_count": null,
      "outputs": []
    },
    {
      "cell_type": "code",
      "source": [
        "cluster_df['cluster_data'] = cluster_df['cluster_data'].apply(stemming)\n",
        "cluster_df.head(2)"
      ],
      "metadata": {
        "id": "ynp-mG0R4LhQ"
      },
      "execution_count": null,
      "outputs": []
    },
    {
      "cell_type": "code",
      "source": [
        "bag_of_words = cluster_df.cluster_data"
      ],
      "metadata": {
        "id": "wQ7K5O4J5QPt"
      },
      "execution_count": null,
      "outputs": []
    },
    {
      "cell_type": "markdown",
      "source": [
        "## Create Clusters:"
      ],
      "metadata": {
        "id": "UPQiMm0M4ebf"
      }
    },
    {
      "cell_type": "code",
      "source": [
        "t_vectorizer = TfidfVectorizer(max_features=20000)\n",
        "X= t_vectorizer.fit_transform(bag_of_words)"
      ],
      "metadata": {
        "id": "pgEQFOBc4kXc"
      },
      "execution_count": null,
      "outputs": []
    },
    {
      "cell_type": "code",
      "source": [
        "print(X.shape)"
      ],
      "metadata": {
        "id": "QzK8xy-74o8d"
      },
      "execution_count": null,
      "outputs": []
    },
    {
      "cell_type": "code",
      "source": [
        "t_vectorizer.get_feature_names_out()"
      ],
      "metadata": {
        "id": "KFudBx1b4roj"
      },
      "execution_count": null,
      "outputs": []
    },
    {
      "cell_type": "markdown",
      "source": [
        "#### What all categorical encoding techniques have you used & why did you use those techniques?"
      ],
      "metadata": {
        "id": "67NQN5KX2AMe"
      }
    },
    {
      "cell_type": "markdown",
      "source": [
        "Answer Here."
      ],
      "metadata": {
        "id": "UDaue5h32n_G"
      }
    },
    {
      "cell_type": "markdown",
      "source": [
        "### 4. Textual Data Preprocessing \n",
        "(It's mandatory for textual dataset i.e., NLP, Sentiment Analysis, Text Clustering etc.)"
      ],
      "metadata": {
        "id": "Iwf50b-R2tYG"
      }
    },
    {
      "cell_type": "markdown",
      "source": [
        "#### 1. Expand Contraction"
      ],
      "metadata": {
        "id": "GMQiZwjn3iu7"
      }
    },
    {
      "cell_type": "code",
      "source": [
        "# Expand Contraction"
      ],
      "metadata": {
        "id": "PTouz10C3oNN"
      },
      "execution_count": null,
      "outputs": []
    },
    {
      "cell_type": "markdown",
      "source": [
        "#### 2. Lower Casing"
      ],
      "metadata": {
        "id": "WVIkgGqN3qsr"
      }
    },
    {
      "cell_type": "code",
      "source": [
        "# Lower Casing"
      ],
      "metadata": {
        "id": "88JnJ1jN3w7j"
      },
      "execution_count": null,
      "outputs": []
    },
    {
      "cell_type": "markdown",
      "source": [
        "#### 3. Removing Punctuations"
      ],
      "metadata": {
        "id": "XkPnILGE3zoT"
      }
    },
    {
      "cell_type": "code",
      "source": [
        "# Remove Punctuations"
      ],
      "metadata": {
        "id": "vqbBqNaA33c0"
      },
      "execution_count": null,
      "outputs": []
    },
    {
      "cell_type": "markdown",
      "source": [
        "#### 4. Removing URLs & Removing words and digits contain digits."
      ],
      "metadata": {
        "id": "Hlsf0x5436Go"
      }
    },
    {
      "cell_type": "code",
      "source": [
        "# Remove URLs & Remove words and digits contain digits"
      ],
      "metadata": {
        "id": "2sxKgKxu4Ip3"
      },
      "execution_count": null,
      "outputs": []
    },
    {
      "cell_type": "markdown",
      "source": [
        "#### 5. Removing Stopwords & Removing White spaces"
      ],
      "metadata": {
        "id": "mT9DMSJo4nBL"
      }
    },
    {
      "cell_type": "code",
      "source": [
        "# Remove Stopwords"
      ],
      "metadata": {
        "id": "T2LSJh154s8W"
      },
      "execution_count": null,
      "outputs": []
    },
    {
      "cell_type": "code",
      "source": [
        "# Remove White spaces"
      ],
      "metadata": {
        "id": "EgLJGffy4vm0"
      },
      "execution_count": null,
      "outputs": []
    },
    {
      "cell_type": "markdown",
      "source": [
        "#### 6. Rephrase Text"
      ],
      "metadata": {
        "id": "c49ITxTc407N"
      }
    },
    {
      "cell_type": "code",
      "source": [
        "# Rephrase Text"
      ],
      "metadata": {
        "id": "foqY80Qu48N2"
      },
      "execution_count": null,
      "outputs": []
    },
    {
      "cell_type": "markdown",
      "source": [
        "#### 7. Tokenization"
      ],
      "metadata": {
        "id": "OeJFEK0N496M"
      }
    },
    {
      "cell_type": "code",
      "source": [
        "# Tokenization"
      ],
      "metadata": {
        "id": "ijx1rUOS5CUU"
      },
      "execution_count": null,
      "outputs": []
    },
    {
      "cell_type": "markdown",
      "source": [
        "#### 8. Text Normalization"
      ],
      "metadata": {
        "id": "9ExmJH0g5HBk"
      }
    },
    {
      "cell_type": "code",
      "source": [
        "# Normalizing Text (i.e., Stemming, Lemmatization etc.)"
      ],
      "metadata": {
        "id": "AIJ1a-Zc5PY8"
      },
      "execution_count": null,
      "outputs": []
    },
    {
      "cell_type": "markdown",
      "source": [
        "##### Which text normalization technique have you used and why?"
      ],
      "metadata": {
        "id": "cJNqERVU536h"
      }
    },
    {
      "cell_type": "markdown",
      "source": [
        "Answer Here."
      ],
      "metadata": {
        "id": "Z9jKVxE06BC1"
      }
    },
    {
      "cell_type": "markdown",
      "source": [
        "#### 9. Part of speech tagging"
      ],
      "metadata": {
        "id": "k5UmGsbsOxih"
      }
    },
    {
      "cell_type": "code",
      "source": [
        "# POS Taging"
      ],
      "metadata": {
        "id": "btT3ZJBAO6Ik"
      },
      "execution_count": null,
      "outputs": []
    },
    {
      "cell_type": "markdown",
      "source": [
        "#### 10. Text Vectorization"
      ],
      "metadata": {
        "id": "T0VqWOYE6DLQ"
      }
    },
    {
      "cell_type": "code",
      "source": [
        "# Vectorizing Text"
      ],
      "metadata": {
        "id": "yBRtdhth6JDE"
      },
      "execution_count": null,
      "outputs": []
    },
    {
      "cell_type": "markdown",
      "source": [
        "##### Which text vectorization technique have you used and why?"
      ],
      "metadata": {
        "id": "qBMux9mC6MCf"
      }
    },
    {
      "cell_type": "markdown",
      "source": [
        "Answer Here."
      ],
      "metadata": {
        "id": "su2EnbCh6UKQ"
      }
    },
    {
      "cell_type": "markdown",
      "source": [
        "### 4. Feature Manipulation & Selection"
      ],
      "metadata": {
        "id": "-oLEiFgy-5Pf"
      }
    },
    {
      "cell_type": "markdown",
      "source": [
        "#### 1. Feature Manipulation"
      ],
      "metadata": {
        "id": "C74aWNz2AliB"
      }
    },
    {
      "cell_type": "code",
      "source": [
        "# Manipulate Features to minimize feature correlation and create new features"
      ],
      "metadata": {
        "id": "h1qC4yhBApWC"
      },
      "execution_count": null,
      "outputs": []
    },
    {
      "cell_type": "markdown",
      "source": [
        "#### 2. Feature Selection"
      ],
      "metadata": {
        "id": "2DejudWSA-a0"
      }
    },
    {
      "cell_type": "code",
      "source": [
        "# Select your features wisely to avoid overfitting"
      ],
      "metadata": {
        "id": "YLhe8UmaBCEE"
      },
      "execution_count": null,
      "outputs": []
    },
    {
      "cell_type": "markdown",
      "source": [
        "##### What all feature selection methods have you used  and why?"
      ],
      "metadata": {
        "id": "pEMng2IbBLp7"
      }
    },
    {
      "cell_type": "markdown",
      "source": [
        "Answer Here."
      ],
      "metadata": {
        "id": "rb2Lh6Z8BgGs"
      }
    },
    {
      "cell_type": "markdown",
      "source": [
        "##### Which all features you found important and why?"
      ],
      "metadata": {
        "id": "rAdphbQ9Bhjc"
      }
    },
    {
      "cell_type": "markdown",
      "source": [
        "Answer Here."
      ],
      "metadata": {
        "id": "fGgaEstsBnaf"
      }
    },
    {
      "cell_type": "markdown",
      "source": [
        "### 5. Data Transformation"
      ],
      "metadata": {
        "id": "TNVZ9zx19K6k"
      }
    },
    {
      "cell_type": "markdown",
      "source": [
        "#### Do you think that your data needs to be transformed? If yes, which transformation have you used. Explain Why?"
      ],
      "metadata": {
        "id": "nqoHp30x9hH9"
      }
    },
    {
      "cell_type": "code",
      "source": [
        "# Transform Your data"
      ],
      "metadata": {
        "id": "I6quWQ1T9rtH"
      },
      "execution_count": null,
      "outputs": []
    },
    {
      "cell_type": "markdown",
      "source": [
        "### 6. Data Scaling"
      ],
      "metadata": {
        "id": "rMDnDkt2B6du"
      }
    },
    {
      "cell_type": "code",
      "source": [
        "# Scaling your data"
      ],
      "metadata": {
        "id": "dL9LWpySC6x_"
      },
      "execution_count": null,
      "outputs": []
    },
    {
      "cell_type": "markdown",
      "source": [
        "##### Which method have you used to scale you data and why?"
      ],
      "metadata": {
        "id": "yiiVWRdJDDil"
      }
    },
    {
      "cell_type": "markdown",
      "source": [
        "### 7. Dimesionality Reduction"
      ],
      "metadata": {
        "id": "1UUpS68QDMuG"
      }
    },
    {
      "cell_type": "markdown",
      "source": [
        "##### Do you think that dimensionality reduction is needed? Explain Why?"
      ],
      "metadata": {
        "id": "kexQrXU-DjzY"
      }
    },
    {
      "cell_type": "markdown",
      "source": [
        "Answer Here."
      ],
      "metadata": {
        "id": "GGRlBsSGDtTQ"
      }
    },
    {
      "cell_type": "code",
      "source": [
        "# from sklearn.manifold import TSNE\n",
        "# import matplotlib.pyplot as plt\n",
        "\n",
        "# tsne = TSNE(random_state=40)\n",
        "# X_embedded = tsne.fit_transform(X)\n",
        "\n",
        "# plt.figure(figsize=(10, 5))\n",
        "# plt.scatter(X_embedded[:, 0], X_embedded[:, 1])\n",
        "# plt.title('t-SNE visualization of the data')\n",
        "# plt.xlabel('First dimension')\n",
        "# plt.ylabel('Second dimension')\n",
        "# plt.show()"
      ],
      "metadata": {
        "id": "RKGnHSWVd71z"
      },
      "execution_count": null,
      "outputs": []
    },
    {
      "cell_type": "code",
      "source": [
        "# from sklearn.manifold import TSNE\n",
        "\n",
        "# # t-SNE\n",
        "# tsne = TSNE(random_state=40)\n",
        "# tsne_embeddings = tsne.fit_transform(X.toarray())\n"
      ],
      "metadata": {
        "id": "VnKtNw3VSQUQ"
      },
      "execution_count": null,
      "outputs": []
    },
    {
      "cell_type": "code",
      "source": [
        "# # using PCA to reduce dimensionality\n",
        "pca = PCA(random_state=40)\n",
        "pca.fit(X.toarray())\n",
        "# # pca.fit(X)"
      ],
      "metadata": {
        "id": "KuDH-OSeFHY2"
      },
      "execution_count": null,
      "outputs": []
    },
    {
      "cell_type": "code",
      "source": [
        "# Explained variance for different number of components\n",
        "plt.figure(figsize=(10,5))\n",
        "plt.plot(np.cumsum(pca.explained_variance_ratio_))\n",
        "plt.title('PCA - Cumulative explained variance vs number of components')\n",
        "plt.xlabel('number of components')\n",
        "plt.ylabel('cumulative explained variance')"
      ],
      "metadata": {
        "id": "TGBz9_Me5byg"
      },
      "execution_count": null,
      "outputs": []
    },
    {
      "cell_type": "code",
      "source": [
        "pca_tuned = PCA(n_components=0.95)\n",
        "pca_tuned.fit(X.toarray())\n",
        "X_transformed = pca_tuned.transform(X.toarray())\n",
        "X_transformed.shape"
      ],
      "metadata": {
        "id": "oQfQ7EnyX-vI"
      },
      "execution_count": null,
      "outputs": []
    },
    {
      "cell_type": "code",
      "source": [
        "X_transformed"
      ],
      "metadata": {
        "id": "aOjEjnr1YNk1"
      },
      "execution_count": null,
      "outputs": []
    },
    {
      "cell_type": "markdown",
      "source": [
        "##### Which dimensionality reduction technique have you used and why? (If dimensionality reduction done on dataset.)"
      ],
      "metadata": {
        "id": "T5CmagL3EC8N"
      }
    },
    {
      "cell_type": "markdown",
      "source": [
        "Answer Here."
      ],
      "metadata": {
        "id": "ZKr75IDuEM7t"
      }
    },
    {
      "cell_type": "markdown",
      "source": [
        "### 8. Data Splitting"
      ],
      "metadata": {
        "id": "BhH2vgX9EjGr"
      }
    },
    {
      "cell_type": "code",
      "source": [
        "# Split your data to train and test. Choose Splitting ratio wisely."
      ],
      "metadata": {
        "id": "0CTyd2UwEyNM"
      },
      "execution_count": null,
      "outputs": []
    },
    {
      "cell_type": "markdown",
      "source": [
        "##### What data splitting ratio have you used and why? "
      ],
      "metadata": {
        "id": "qjKvONjwE8ra"
      }
    },
    {
      "cell_type": "markdown",
      "source": [
        "Answer Here."
      ],
      "metadata": {
        "id": "Y2lJ8cobFDb_"
      }
    },
    {
      "cell_type": "markdown",
      "source": [
        "### 9. Handling Imbalanced Dataset"
      ],
      "metadata": {
        "id": "P1XJ9OREExlT"
      }
    },
    {
      "cell_type": "markdown",
      "source": [
        "##### Do you think the dataset is imbalanced? Explain Why."
      ],
      "metadata": {
        "id": "VFOzZv6IFROw"
      }
    },
    {
      "cell_type": "markdown",
      "source": [
        "Answer Here."
      ],
      "metadata": {
        "id": "GeKDIv7pFgcC"
      }
    },
    {
      "cell_type": "code",
      "source": [
        "# Handling Imbalanced Dataset (If needed)"
      ],
      "metadata": {
        "id": "nQsRhhZLFiDs"
      },
      "execution_count": null,
      "outputs": []
    },
    {
      "cell_type": "markdown",
      "source": [
        "##### What technique did you use to handle the imbalance dataset and why? (If needed to be balanced)"
      ],
      "metadata": {
        "id": "TIqpNgepFxVj"
      }
    },
    {
      "cell_type": "markdown",
      "source": [
        "Answer Here."
      ],
      "metadata": {
        "id": "qbet1HwdGDTz"
      }
    },
    {
      "cell_type": "markdown",
      "source": [
        "## ***7. ML Model Implementation***"
      ],
      "metadata": {
        "id": "VfCC591jGiD4"
      }
    },
    {
      "cell_type": "markdown",
      "source": [
        "### ML Model - 1 K-means"
      ],
      "metadata": {
        "id": "OB4l2ZhMeS1U"
      }
    },
    {
      "cell_type": "code",
      "source": [
        "# ML Model - 1 Implementation\n",
        "\n",
        "# Fit the Algorithm\n",
        "\n",
        "# Predict on the model\n",
        "\n",
        "from sklearn.cluster import KMeans\n",
        "\n",
        "from yellowbrick.cluster import KElbowVisualizer\n",
        "\n",
        "model = KMeans(random_state=5)\n",
        "visualizer = KElbowVisualizer(model, k=(4,22), metric='silhouette', timings=False, locate_elbow=False)\n",
        "\n",
        "visualizer.fit(X_transformed)\n",
        "visualizer.show()\n",
        "     "
      ],
      "metadata": {
        "id": "7ebyywQieS1U"
      },
      "execution_count": null,
      "outputs": []
    },
    {
      "cell_type": "markdown",
      "source": [
        "![image.png](data:image/png;base64,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)"
      ],
      "metadata": {
        "id": "OqZaH2zMttaj"
      }
    },
    {
      "cell_type": "code",
      "source": [
        "from yellowbrick.cluster import SilhouetteVisualizer\n",
        "     \n",
        "\n",
        "from sklearn.metrics import silhouette_score, silhouette_samples\n",
        "\n",
        "def silhouette_score_analysis(n):\n",
        "\n",
        "  for n_clusters in range(2,n):\n",
        "      km = KMeans (n_clusters=n_clusters, random_state=5)\n",
        "      preds = km.fit_predict(X_transformed)\n",
        "      centers = km.cluster_centers_\n",
        "\n",
        "      score = silhouette_score(X_transformed, preds, metric='euclidean')\n",
        "      print (\"For n_clusters = {}, silhouette score is {}\".format(n_clusters, score))\n",
        "\n",
        "      visualizer = SilhouetteVisualizer(km)\n",
        "\n",
        "      visualizer.fit(X_transformed) # Fit the training data to the visualizer\n",
        "      visualizer.poof() # Draw/show/poof the data"
      ],
      "metadata": {
        "id": "zxpgF3LnY0rA"
      },
      "execution_count": null,
      "outputs": []
    },
    {
      "cell_type": "code",
      "source": [
        "silhouette_score_analysis(22)"
      ],
      "metadata": {
        "id": "1EXiSXXtY4BK"
      },
      "execution_count": null,
      "outputs": []
    },
    {
      "cell_type": "markdown",
      "source": [
        "#### 1. Explain the ML Model used and it's performance using Evaluation metric Score Chart."
      ],
      "metadata": {
        "id": "ArJBuiUVfxKd"
      }
    },
    {
      "cell_type": "code",
      "source": [
        "# Visualizing evaluation Metric Score chart"
      ],
      "metadata": {
        "id": "rqD5ZohzfxKe"
      },
      "execution_count": null,
      "outputs": []
    },
    {
      "cell_type": "markdown",
      "source": [
        "#### 2. Cross- Validation & Hyperparameter Tuning"
      ],
      "metadata": {
        "id": "4qY1EAkEfxKe"
      }
    },
    {
      "cell_type": "code",
      "source": [
        "# ML Model - 1 Implementation with hyperparameter optimization techniques (i.e., GridSearch CV, RandomSearch CV, Bayesian Optimization etc.)\n",
        "\n",
        "# Fit the Algorithm\n",
        "\n",
        "# Predict on the model"
      ],
      "metadata": {
        "id": "Dy61ujd6fxKe"
      },
      "execution_count": null,
      "outputs": []
    },
    {
      "cell_type": "markdown",
      "source": [
        "##### Which hyperparameter optimization technique have you used and why?"
      ],
      "metadata": {
        "id": "PiV4Ypx8fxKe"
      }
    },
    {
      "cell_type": "markdown",
      "source": [
        "Answer Here."
      ],
      "metadata": {
        "id": "negyGRa7fxKf"
      }
    },
    {
      "cell_type": "markdown",
      "source": [
        "##### Have you seen any improvement? Note down the improvement with updates Evaluation metric Score Chart."
      ],
      "metadata": {
        "id": "TfvqoZmBfxKf"
      }
    },
    {
      "cell_type": "markdown",
      "source": [
        "Answer Here."
      ],
      "metadata": {
        "id": "OaLui8CcfxKf"
      }
    },
    {
      "cell_type": "markdown",
      "source": [
        "### ML Model - 2"
      ],
      "metadata": {
        "id": "dJ2tPlVmpsJ0"
      }
    },
    {
      "cell_type": "markdown",
      "source": [
        "#### 1. Explain the ML Model used and it's performance using Evaluation metric Score Chart."
      ],
      "metadata": {
        "id": "JWYfwnehpsJ1"
      }
    },
    {
      "cell_type": "code",
      "source": [
        "# Visualizing evaluation Metric Score chart"
      ],
      "metadata": {
        "id": "yEl-hgQWpsJ1"
      },
      "execution_count": null,
      "outputs": []
    },
    {
      "cell_type": "markdown",
      "source": [
        "#### 2. Cross- Validation & Hyperparameter Tuning"
      ],
      "metadata": {
        "id": "-jK_YjpMpsJ2"
      }
    },
    {
      "cell_type": "code",
      "source": [
        "# ML Model - 1 Implementation with hyperparameter optimization techniques (i.e., GridSearch CV, RandomSearch CV, Bayesian Optimization etc.)\n",
        "\n",
        "# Fit the Algorithm\n",
        "\n",
        "# Predict on the model"
      ],
      "metadata": {
        "id": "Dn0EOfS6psJ2"
      },
      "execution_count": null,
      "outputs": []
    },
    {
      "cell_type": "markdown",
      "source": [
        "##### Which hyperparameter optimization technique have you used and why?"
      ],
      "metadata": {
        "id": "HAih1iBOpsJ2"
      }
    },
    {
      "cell_type": "markdown",
      "source": [
        "Answer Here."
      ],
      "metadata": {
        "id": "9kBgjYcdpsJ2"
      }
    },
    {
      "cell_type": "markdown",
      "source": [
        "##### Have you seen any improvement? Note down the improvement with updates Evaluation metric Score Chart."
      ],
      "metadata": {
        "id": "zVGeBEFhpsJ2"
      }
    },
    {
      "cell_type": "markdown",
      "source": [
        "Answer Here."
      ],
      "metadata": {
        "id": "74yRdG6UpsJ3"
      }
    },
    {
      "cell_type": "markdown",
      "source": [
        "#### 3. Explain each evaluation metric's indication towards business and the business impact pf the ML model used."
      ],
      "metadata": {
        "id": "bmKjuQ-FpsJ3"
      }
    },
    {
      "cell_type": "markdown",
      "source": [
        "Answer Here."
      ],
      "metadata": {
        "id": "BDKtOrBQpsJ3"
      }
    },
    {
      "cell_type": "markdown",
      "source": [
        "### ML Model - 3"
      ],
      "metadata": {
        "id": "Fze-IPXLpx6K"
      }
    },
    {
      "cell_type": "code",
      "source": [
        "# ML Model - 3 Implementation\n",
        "\n",
        "# Fit the Algorithm\n",
        "\n",
        "# Predict on the model"
      ],
      "metadata": {
        "id": "FFrSXAtrpx6M"
      },
      "execution_count": null,
      "outputs": []
    },
    {
      "cell_type": "markdown",
      "source": [
        "#### 1. Explain the ML Model used and it's performance using Evaluation metric Score Chart."
      ],
      "metadata": {
        "id": "7AN1z2sKpx6M"
      }
    },
    {
      "cell_type": "code",
      "source": [
        "# Visualizing evaluation Metric Score chart"
      ],
      "metadata": {
        "id": "xIY4lxxGpx6M"
      },
      "execution_count": null,
      "outputs": []
    },
    {
      "cell_type": "markdown",
      "source": [
        "#### 2. Cross- Validation & Hyperparameter Tuning"
      ],
      "metadata": {
        "id": "9PIHJqyupx6M"
      }
    },
    {
      "cell_type": "code",
      "source": [
        "# ML Model - 3 Implementation with hyperparameter optimization techniques (i.e., GridSearch CV, RandomSearch CV, Bayesian Optimization etc.)\n",
        "\n",
        "# Fit the Algorithm\n",
        "\n",
        "# Predict on the model"
      ],
      "metadata": {
        "id": "eSVXuaSKpx6M"
      },
      "execution_count": null,
      "outputs": []
    },
    {
      "cell_type": "markdown",
      "source": [
        "##### Which hyperparameter optimization technique have you used and why?"
      ],
      "metadata": {
        "id": "_-qAgymDpx6N"
      }
    },
    {
      "cell_type": "markdown",
      "source": [
        "Answer Here."
      ],
      "metadata": {
        "id": "lQMffxkwpx6N"
      }
    },
    {
      "cell_type": "markdown",
      "source": [
        "##### Have you seen any improvement? Note down the improvement with updates Evaluation metric Score Chart."
      ],
      "metadata": {
        "id": "Z-hykwinpx6N"
      }
    },
    {
      "cell_type": "markdown",
      "source": [
        "Answer Here."
      ],
      "metadata": {
        "id": "MzVzZC6opx6N"
      }
    },
    {
      "cell_type": "markdown",
      "source": [
        "### 1. Which Evaluation metrics did you consider for a positive business impact and why?"
      ],
      "metadata": {
        "id": "h_CCil-SKHpo"
      }
    },
    {
      "cell_type": "markdown",
      "source": [
        "Answer Here."
      ],
      "metadata": {
        "id": "jHVz9hHDKFms"
      }
    },
    {
      "cell_type": "markdown",
      "source": [
        "### 2. Which ML model did you choose from the above created models as your final prediction model and why?"
      ],
      "metadata": {
        "id": "cBFFvTBNJzUa"
      }
    },
    {
      "cell_type": "markdown",
      "source": [
        "Answer Here."
      ],
      "metadata": {
        "id": "6ksF5Q1LKTVm"
      }
    },
    {
      "cell_type": "markdown",
      "source": [
        "### 3. Explain the model which you have used and the feature importance using any model explainability tool?"
      ],
      "metadata": {
        "id": "HvGl1hHyA_VK"
      }
    },
    {
      "cell_type": "markdown",
      "source": [
        "Answer Here."
      ],
      "metadata": {
        "id": "YnvVTiIxBL-C"
      }
    },
    {
      "cell_type": "markdown",
      "source": [
        "## ***8.*** ***Future Work (Optional)***"
      ],
      "metadata": {
        "id": "EyNgTHvd2WFk"
      }
    },
    {
      "cell_type": "markdown",
      "source": [
        "### 1. Save the best performing ml model in a pickle file or joblib file format for deployment process.\n"
      ],
      "metadata": {
        "id": "KH5McJBi2d8v"
      }
    },
    {
      "cell_type": "code",
      "source": [
        "# Save the File"
      ],
      "metadata": {
        "id": "bQIANRl32f4J"
      },
      "execution_count": null,
      "outputs": []
    },
    {
      "cell_type": "markdown",
      "source": [
        "### 2. Again Load the saved model file and try to predict unseen data for a sanity check.\n"
      ],
      "metadata": {
        "id": "iW_Lq9qf2h6X"
      }
    },
    {
      "cell_type": "code",
      "source": [
        "# Load the File and predict unseen data."
      ],
      "metadata": {
        "id": "oEXk9ydD2nVC"
      },
      "execution_count": null,
      "outputs": []
    },
    {
      "cell_type": "markdown",
      "source": [
        "### ***Congrats! Your model is successfully created and ready for deployment on a live server for a real user interaction !!!***"
      ],
      "metadata": {
        "id": "-Kee-DAl2viO"
      }
    },
    {
      "cell_type": "markdown",
      "source": [
        "# **Conclusion**"
      ],
      "metadata": {
        "id": "gCX9965dhzqZ"
      }
    },
    {
      "cell_type": "markdown",
      "source": [
        "Write the conclusion here."
      ],
      "metadata": {
        "id": "Fjb1IsQkh3yE"
      }
    },
    {
      "cell_type": "markdown",
      "source": [
        "### ***Hurrah! You have successfully completed your Machine Learning Capstone Project !!!***"
      ],
      "metadata": {
        "id": "gIfDvo9L0UH2"
      }
    }
  ]
}