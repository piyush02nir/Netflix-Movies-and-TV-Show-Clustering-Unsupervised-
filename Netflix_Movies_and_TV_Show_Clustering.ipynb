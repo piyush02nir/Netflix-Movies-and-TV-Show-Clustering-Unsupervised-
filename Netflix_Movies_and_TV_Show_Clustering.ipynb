{
  "nbformat": 4,
  "nbformat_minor": 0,
  "metadata": {
    "colab": {
      "private_outputs": true,
      "provenance": [],
      "collapsed_sections": [
        "w6K7xa23Elo4",
        "yQaldy8SH6Dl",
        "mDgbUHAGgjLW",
        "dauF4eBmngu3",
        "bKJF3rekwFvQ",
        "MSa1f5Uengrz",
        "GF8Ens_Soomf",
        "0wOQAZs5pc--",
        "K5QZ13OEpz2H",
        "lQ7QKXXCp7Bj",
        "448CDAPjqfQr",
        "KSlN3yHqYklG",
        "t6dVpIINYklI",
        "ijmpgYnKYklI",
        "-JiQyfWJYklI",
        "EM7whBJCYoAo",
        "fge-S5ZAYoAp",
        "85gYPyotYoAp",
        "RoGjAbkUYoAp",
        "4Of9eVA-YrdM",
        "iky9q4vBYrdO",
        "F6T5p64dYrdO",
        "y-Ehk30pYrdP",
        "bamQiAODYuh1",
        "QHF8YVU7Yuh3",
        "GwzvFGzlYuh3",
        "qYpmQ266Yuh3",
        "OH-pJp9IphqM",
        "bbFf2-_FphqN",
        "_ouA3fa0phqN",
        "Seke61FWphqN",
        "PIIx-8_IphqN",
        "t27r6nlMphqO",
        "r2jJGEOYphqO",
        "b0JNsNcRphqO",
        "BZR9WyysphqO",
        "jj7wYXLtphqO",
        "eZrbJ2SmphqO",
        "rFu4xreNphqO",
        "YJ55k-q6phqO",
        "gCFgpxoyphqP",
        "OVtJsKN_phqQ",
        "lssrdh5qphqQ",
        "U2RJ9gkRphqQ",
        "1M8mcRywphqQ",
        "tgIPom80phqQ",
        "JMzcOPDDphqR",
        "x-EpHcCOp1ci",
        "X_VqEhTip1ck",
        "8zGJKyg5p1ck",
        "PVzmfK_Ep1ck",
        "n3dbpmDWp1ck",
        "ylSl6qgtp1ck",
        "ZWILFDl5p1ck",
        "M7G43BXep1ck",
        "Ag9LCva-p1cl",
        "E6MkPsBcp1cl",
        "2cELzS2fp1cl",
        "3MPXvC8up1cl",
        "NC_X3p0fY2L0",
        "UV0SzAkaZNRQ",
        "YPEH6qLeZNRQ",
        "q29F0dvdveiT",
        "EXh0U9oCveiU",
        "22aHeOlLveiV",
        "g-ATYxFrGrvw",
        "Yfr_Vlr8HBkt",
        "8yEUt7NnHlrM",
        "tEA2Xm5dHt1r",
        "I79__PHVH19G",
        "Ou-I18pAyIpj",
        "fF3858GYyt-u",
        "4_0_7-oCpUZd",
        "hwyV_J3ipUZe",
        "3yB-zSqbpUZe",
        "dEUvejAfpUZe",
        "Fd15vwWVpUZf",
        "bn_IUdTipZyH",
        "49K5P_iCpZyH",
        "Nff-vKELpZyI",
        "kLW572S8pZyI",
        "dWbDXHzopZyI",
        "yLjJCtPM0KBk",
        "xiyOF9F70UgQ",
        "7wuGOrhz0itI",
        "id1riN9m0vUs",
        "578E2V7j08f6",
        "89xtkJwZ18nB",
        "67NQN5KX2AMe",
        "Iwf50b-R2tYG",
        "GMQiZwjn3iu7",
        "WVIkgGqN3qsr",
        "XkPnILGE3zoT",
        "Hlsf0x5436Go",
        "mT9DMSJo4nBL",
        "c49ITxTc407N",
        "OeJFEK0N496M",
        "9ExmJH0g5HBk",
        "cJNqERVU536h",
        "k5UmGsbsOxih",
        "T0VqWOYE6DLQ",
        "qBMux9mC6MCf",
        "-oLEiFgy-5Pf",
        "C74aWNz2AliB",
        "2DejudWSA-a0",
        "pEMng2IbBLp7",
        "rAdphbQ9Bhjc",
        "TNVZ9zx19K6k",
        "nqoHp30x9hH9",
        "rMDnDkt2B6du",
        "yiiVWRdJDDil",
        "1UUpS68QDMuG",
        "kexQrXU-DjzY",
        "T5CmagL3EC8N",
        "BhH2vgX9EjGr",
        "qjKvONjwE8ra",
        "P1XJ9OREExlT",
        "VFOzZv6IFROw",
        "TIqpNgepFxVj",
        "VfCC591jGiD4",
        "OB4l2ZhMeS1U",
        "ArJBuiUVfxKd",
        "4qY1EAkEfxKe",
        "PiV4Ypx8fxKe",
        "TfvqoZmBfxKf",
        "dJ2tPlVmpsJ0",
        "JWYfwnehpsJ1",
        "-jK_YjpMpsJ2",
        "HAih1iBOpsJ2",
        "zVGeBEFhpsJ2",
        "bmKjuQ-FpsJ3",
        "Fze-IPXLpx6K",
        "7AN1z2sKpx6M",
        "9PIHJqyupx6M",
        "_-qAgymDpx6N",
        "Z-hykwinpx6N",
        "h_CCil-SKHpo",
        "cBFFvTBNJzUa",
        "HvGl1hHyA_VK",
        "EyNgTHvd2WFk",
        "KH5McJBi2d8v",
        "iW_Lq9qf2h6X",
        "-Kee-DAl2viO",
        "gCX9965dhzqZ",
        "gIfDvo9L0UH2"
      ],
      "include_colab_link": true
    },
    "kernelspec": {
      "name": "python3",
      "display_name": "Python 3"
    },
    "language_info": {
      "name": "python"
    }
  },
  "cells": [
    {
      "cell_type": "markdown",
      "metadata": {
        "id": "view-in-github",
        "colab_type": "text"
      },
      "source": [
        "<a href=\"https://colab.research.google.com/github/piyush02nir/Netflix-Movies-and-TV-Show-Clustering-Unsupervised-/blob/main/Netflix_Movies_and_TV_Show_Clustering.ipynb\" target=\"_parent\"><img src=\"https://colab.research.google.com/assets/colab-badge.svg\" alt=\"Open In Colab\"/></a>"
      ]
    },
    {
      "cell_type": "markdown",
      "source": [
        "# **Project Name**    - \n",
        "\n"
      ],
      "metadata": {
        "id": "vncDsAP0Gaoa"
      }
    },
    {
      "cell_type": "markdown",
      "source": [
        "##### **Project Type**    - Netflix Movies and TV Show Clustering(Unsupervised)\n",
        "\n",
        "##### **Contribution**    - Piyush Nirwan"
      ],
      "metadata": {
        "id": "beRrZCGUAJYm"
      }
    },
    {
      "cell_type": "markdown",
      "source": [
        "# **Project Summary -**"
      ],
      "metadata": {
        "id": "FJNUwmbgGyua"
      }
    },
    {
      "cell_type": "markdown",
      "source": [
        "Netflix, the world’s largest on-demand internet streaming media and online DVD movie rental service provider.it Founded August 29, 1997, in Los Gatos, California by Marc and Reed. It has 69 million members in over 60 countries enjoying more than 100 million hours of TV shows and movies per day Netflix is the world’s leading internet entertainment service with enjoying TV series, documentaries, and feature films across a wide variety of genres and languages. I was curious to analyze the content released in Netflix platform which led me to create these simple, interactive, and exciting visualizations and find similar groups of people.\n",
        "\n",
        "This dataset consists of tv shows and movies available on Netflix as of 2019. The dataset is collected from Fixable which is a third-party Netflix search engine. In 2018, they released an interesting report which shows that the number of TV shows on Netflix has nearly tripled since 2010. The streaming service’s number of movies has decreased by more than 2,000 titles since 2010, while its number of TV shows has nearly tripled. It will be interesting to explore what all other insights can be obtained from the same dataset. Integrating this dataset with other external datasets such as IMDB ratings, rotten tomatoes can also provide many interesting findings."
      ],
      "metadata": {
        "id": "F6v_1wHtG2nS"
      }
    },
    {
      "cell_type": "markdown",
      "source": [
        "# **GitHub Link -**"
      ],
      "metadata": {
        "id": "w6K7xa23Elo4"
      }
    },
    {
      "cell_type": "markdown",
      "source": [
        "Provide your GitHub Link here."
      ],
      "metadata": {
        "id": "h1o69JH3Eqqn"
      }
    },
    {
      "cell_type": "markdown",
      "source": [
        "# **Problem Statement**\n"
      ],
      "metadata": {
        "id": "yQaldy8SH6Dl"
      }
    },
    {
      "cell_type": "markdown",
      "source": [
        "This dataset consists of tv shows and movies available on Netflix as of 2019. The dataset is collected from Flixable which is a third-party Netflix search engine.\n",
        "\n",
        "In 2018, they released an interesting report which shows that the number of TV shows on Netflix has nearly tripled since 2010. The streaming service’s number of movies has decreased by more than 2,000 titles since 2010, while its number of TV shows has nearly tripled. It will be interesting to explore what all other insights can be obtained from the same dataset.\n",
        "\n",
        "Integrating this dataset with other external datasets such as IMDB ratings, rotten tomatoes can also provide many interesting findings."
      ],
      "metadata": {
        "id": "DpeJGUA3kjGy"
      }
    },
    {
      "cell_type": "markdown",
      "source": [
        "# **General Guidelines** : -  "
      ],
      "metadata": {
        "id": "mDgbUHAGgjLW"
      }
    },
    {
      "cell_type": "markdown",
      "source": [
        "1.   Well-structured, formatted, and commented code is required. \n",
        "2.   Exception Handling, Production Grade Code & Deployment Ready Code will be a plus. Those students will be awarded some additional credits. \n",
        "     \n",
        "     The additional credits will have advantages over other students during Star Student selection.\n",
        "       \n",
        "             [ Note: - Deployment Ready Code is defined as, the whole .ipynb notebook should be executable in one go\n",
        "                       without a single error logged. ]\n",
        "\n",
        "3.   Each and every logic should have proper comments.\n",
        "4. You may add as many number of charts you want. Make Sure for each and every chart the following format should be answered.\n",
        "        \n",
        "\n",
        "```\n",
        "# Chart visualization code\n",
        "```\n",
        "            \n",
        "\n",
        "*   Why did you pick the specific chart?\n",
        "*   What is/are the insight(s) found from the chart?\n",
        "* Will the gained insights help creating a positive business impact? \n",
        "Are there any insights that lead to negative growth? Justify with specific reason.\n",
        "\n",
        "5. You have to create at least 15 logical & meaningful charts having important insights.\n",
        "\n",
        "\n",
        "[ Hints : - Do the Vizualization in  a structured way while following \"UBM\" Rule. \n",
        "\n",
        "U - Univariate Analysis,\n",
        "\n",
        "B - Bivariate Analysis (Numerical - Categorical, Numerical - Numerical, Categorical - Categorical)\n",
        "\n",
        "M - Multivariate Analysis\n",
        " ]\n",
        "\n",
        "\n",
        "\n",
        "\n",
        "\n",
        "6. You may add more ml algorithms for model creation. Make sure for each and every algorithm, the following format should be answered.\n",
        "\n",
        "\n",
        "*   Explain the ML Model used and it's performance using Evaluation metric Score Chart.\n",
        "\n",
        "\n",
        "*   Cross- Validation & Hyperparameter Tuning\n",
        "\n",
        "*   Have you seen any improvement? Note down the improvement with updates Evaluation metric Score Chart.\n",
        "\n",
        "*   Explain each evaluation metric's indication towards business and the business impact pf the ML model used.\n",
        "\n",
        "\n",
        "\n",
        "\n",
        "\n",
        "\n",
        "\n",
        "\n",
        "\n",
        "\n",
        "\n",
        "\n",
        "\n",
        "\n",
        "\n",
        "\n",
        "\n",
        "\n"
      ],
      "metadata": {
        "id": "ZrxVaUj-hHfC"
      }
    },
    {
      "cell_type": "markdown",
      "source": [
        "## In this project, you are required to do\n",
        "\n",
        "1. Exploratory Data Analysis\n",
        "\n",
        "2. Understanding what type content is available in different countries\n",
        "\n",
        "3. Is Netflix has increasingly focusing on TV rather than movies in recent years.\n",
        "\n",
        "4. Clustering similar content by matching text-based features"
      ],
      "metadata": {
        "id": "-51DvT4JIZmv"
      }
    },
    {
      "cell_type": "markdown",
      "source": [
        "## Attribute Information\n",
        "\n",
        "1.  show_id : Unique ID for every Movie / Tv Show\n",
        "2.  type : Identifier - A Movie or TV Show\n",
        "3. title : Title of the Movie / Tv Show\n",
        "4. director : Director of the Movie\n",
        "5. cast : Actors involved in the movie / show\n",
        "6. country : Country where the movie / show was produced\n",
        "7. date_added : Date it was added on Netflix\n",
        "8. release_year : Actual Releaseyear of the movie / show\n",
        "9. rating : TV Rating of the movie / show\n",
        "\n",
        "10. duration : Total Duration - in minutes or number of seasons\n",
        "\n",
        "11. listed_in : Genere\n",
        "\n",
        "12. description: The Summary description\n",
        "\n"
      ],
      "metadata": {
        "id": "XHnDW_wOInI5"
      }
    },
    {
      "cell_type": "markdown",
      "source": [
        "# ***Let's Begin !***"
      ],
      "metadata": {
        "id": "O_i_v8NEhb9l"
      }
    },
    {
      "cell_type": "markdown",
      "source": [
        "## Main Libraries used:\n",
        "• Pandas for data manipulation, aggregation\n",
        "\n",
        "• Matplotlib and Seaborn for visualization and behavior with respect to the target variable\n",
        "\n",
        "• NumPy for computationally efficient operations\n",
        "\n",
        "• Scikit Learn for model training, model optimization, and metrics calculation"
      ],
      "metadata": {
        "id": "T4Pa5ADy306m"
      }
    },
    {
      "cell_type": "markdown",
      "source": [
        "## ***1. Know Your Data***"
      ],
      "metadata": {
        "id": "HhfV-JJviCcP"
      }
    },
    {
      "cell_type": "markdown",
      "source": [
        "### Import Libraries"
      ],
      "metadata": {
        "id": "Y3lxredqlCYt"
      }
    },
    {
      "cell_type": "code",
      "source": [
        "# Import Libraries\n",
        "import pandas as pd\n",
        "import numpy as np\n",
        "import seaborn as sns\n",
        "import matplotlib.pyplot as plt\n",
        "%matplotlib inline\n",
        "\n",
        "import plotly.graph_objects as go\n",
        "import plotly.express as px\n",
        "from plotly.subplots import make_subplots\n",
        "from plotly.offline import init_notebook_mode, iplot\n",
        "import plotly.offline as po\n",
        "\n",
        "from sklearn.cluster import KMeans\n",
        "from sklearn.cluster import MiniBatchKMeans\n",
        "from sklearn.feature_extraction.text import TfidfVectorizer\n",
        "from sklearn.decomposition import PCA\n",
        "from sklearn.cluster import AgglomerativeClustering\n",
        "\n",
        "import scipy.cluster.hierarchy as shc\n",
        "\n",
        "from yellowbrick.cluster import KElbowVisualizer\n",
        "\n",
        "import nltk\n",
        "nltk.download('stopwords')\n",
        "from nltk.corpus import stopwords\n",
        "from nltk.stem.snowball import SnowballStemmer\n",
        "from nltk.corpus import stopwords\n",
        "from wordcloud import WordCloud, STOPWORDS \n",
        "import missingno as msno \n",
        "\n",
        "from warnings import filterwarnings\n",
        "filterwarnings('ignore')"
      ],
      "metadata": {
        "id": "M8Vqi-pPk-HR"
      },
      "execution_count": null,
      "outputs": []
    },
    {
      "cell_type": "code",
      "source": [
        "#setting the notebook.\n",
        "pd.options.mode.chained_assignment = None  \n",
        "pd.set_option('display.max_rows', None)\n",
        "pd.set_option('display.max_columns', None)"
      ],
      "metadata": {
        "id": "W1PpoU464NKy"
      },
      "execution_count": null,
      "outputs": []
    },
    {
      "cell_type": "markdown",
      "source": [
        "### Dataset Loading"
      ],
      "metadata": {
        "id": "3RnN4peoiCZX"
      }
    },
    {
      "cell_type": "code",
      "source": [
        "# Mount Drive to load data\n",
        "from google.colab import drive\n",
        "drive.mount('/content/drive')"
      ],
      "metadata": {
        "id": "4CkvbW_SlZ_R"
      },
      "execution_count": null,
      "outputs": []
    },
    {
      "cell_type": "code",
      "source": [
        "# Load the data.\n",
        "netflix_df = pd.read_csv('/content/drive/MyDrive/Netflix Movies and TV Show Clustering/Data_Source/NETFLIX MOVIES AND TV SHOWS CLUSTERING.csv')"
      ],
      "metadata": {
        "id": "N-tsFg5GuZnD"
      },
      "execution_count": null,
      "outputs": []
    },
    {
      "cell_type": "markdown",
      "source": [
        "### Dataset First View"
      ],
      "metadata": {
        "id": "x71ZqKXriCWQ"
      }
    },
    {
      "cell_type": "code",
      "source": [
        "# Dataset First Look\n",
        "print('------------------------------------Head---------------------------------------\\n')\n",
        "netflix_df.head()            #checking 1st 5 rows of the df\n",
        "\n",
        "print('\\n------------------------------------Tail---------------------------------------\\n')\n",
        "netflix_df.tail()            #checking last 5 rows of the df\n"
      ],
      "metadata": {
        "id": "LWNFOSvLl09H"
      },
      "execution_count": null,
      "outputs": []
    },
    {
      "cell_type": "markdown",
      "source": [
        "### Dataset Rows & Columns count"
      ],
      "metadata": {
        "id": "7hBIi_osiCS2"
      }
    },
    {
      "cell_type": "code",
      "source": [
        "# Dataset Rows & Columns count\n",
        "print('\\n------------------------------------Shape-------------------------------------\\n')\n",
        "                              #no. of rows and columns\n",
        "print(f'Rows: {netflix_df.shape[0]}, Columns: {netflix_df.shape[1]}\\n')  "
      ],
      "metadata": {
        "id": "Kllu7SJgmLij"
      },
      "execution_count": null,
      "outputs": []
    },
    {
      "cell_type": "markdown",
      "source": [
        "### Dataset Information"
      ],
      "metadata": {
        "id": "JlHwYmJAmNHm"
      }
    },
    {
      "cell_type": "code",
      "source": [
        "# Dataset Info\n",
        "print('------------------------------------Info--------------------------------------\\n')\n",
        "netflix_df.info()"
      ],
      "metadata": {
        "id": "e9hRXRi6meOf"
      },
      "execution_count": null,
      "outputs": []
    },
    {
      "cell_type": "markdown",
      "source": [
        "#### Duplicate Values"
      ],
      "metadata": {
        "id": "35m5QtbWiB9F"
      }
    },
    {
      "cell_type": "code",
      "source": [
        "# Dataset Duplicate Value Count\n",
        "netflix_df.duplicated().sum()"
      ],
      "metadata": {
        "id": "1sLdpKYkmox0"
      },
      "execution_count": null,
      "outputs": []
    },
    {
      "cell_type": "markdown",
      "source": [
        "#### Missing Values/Null Values"
      ],
      "metadata": {
        "id": "PoPl-ycgm1ru"
      }
    },
    {
      "cell_type": "code",
      "source": [
        "# Missing Values/Null Values Count\n",
        "print(netflix_df.isnull().sum())"
      ],
      "metadata": {
        "id": "GgHWkxvamxVg"
      },
      "execution_count": null,
      "outputs": []
    },
    {
      "cell_type": "code",
      "source": [
        "# Visualizing the missing values\n",
        "msno.bar(netflix_df, color=\"Teal\")"
      ],
      "metadata": {
        "id": "hLcGFL_O7Cia"
      },
      "execution_count": null,
      "outputs": []
    },
    {
      "cell_type": "code",
      "source": [
        "# Checking Null Value by plotting Heatmap\n",
        "plt.figure(figsize=(7,5))\n",
        "sns.heatmap(netflix_df.isnull(), cbar=False)\n",
        "plt.show()"
      ],
      "metadata": {
        "id": "3q5wnI3om9sJ"
      },
      "execution_count": null,
      "outputs": []
    },
    {
      "cell_type": "markdown",
      "source": [
        "### What did you know about your dataset?"
      ],
      "metadata": {
        "id": "H0kj-8xxnORC"
      }
    },
    {
      "cell_type": "markdown",
      "source": [
        "Answer Here"
      ],
      "metadata": {
        "id": "gfoNAAC-nUe_"
      }
    },
    {
      "cell_type": "markdown",
      "source": [
        "## ***2. Understanding Your Variables***"
      ],
      "metadata": {
        "id": "nA9Y7ga8ng1Z"
      }
    },
    {
      "cell_type": "code",
      "source": [
        "# Choosing the primary country and primary genre to simplify the analysis\n",
        "netflix_df['country'] = netflix_df['country'].astype('str')\n",
        "netflix_df['country'] = netflix_df['country'].apply(lambda x: x.split(',')[0])\n",
        "netflix_df['listed_in'] = netflix_df['listed_in'].apply(lambda x: x.split(',')[0])"
      ],
      "metadata": {
        "id": "WLQdL9mS9WGO"
      },
      "execution_count": null,
      "outputs": []
    },
    {
      "cell_type": "code",
      "source": [
        "# contry in which a movie was produced\n",
        "netflix_df.country.value_counts()"
      ],
      "metadata": {
        "id": "JoPiJp0f9hDY"
      },
      "execution_count": null,
      "outputs": []
    },
    {
      "cell_type": "code",
      "source": [
        "# Dataset Columns\n",
        "netflix_df.columns"
      ],
      "metadata": {
        "id": "j7xfkqrt5Ag5"
      },
      "execution_count": null,
      "outputs": []
    },
    {
      "cell_type": "code",
      "source": [
        "# Dataset Describe\n",
        "netflix_df.describe(include='all')"
      ],
      "metadata": {
        "id": "DnOaZdaE5Q5t"
      },
      "execution_count": null,
      "outputs": []
    },
    {
      "cell_type": "markdown",
      "source": [
        "### Variables Description "
      ],
      "metadata": {
        "id": "PBTbrJXOngz2"
      }
    },
    {
      "cell_type": "markdown",
      "source": [
        "Answer Here"
      ],
      "metadata": {
        "id": "aJV4KIxSnxay"
      }
    },
    {
      "cell_type": "markdown",
      "source": [
        "### Check Unique Values for each variable."
      ],
      "metadata": {
        "id": "u3PMJOP6ngxN"
      }
    },
    {
      "cell_type": "code",
      "source": [
        "# Check Unique Values for each variable.\n",
        "for i in netflix_df.columns.tolist():\n",
        "  print(\"No. of unique values in \",i,\"is\",netflix_df[i].nunique(),\".\")"
      ],
      "metadata": {
        "id": "cCNHvNi87vWc"
      },
      "execution_count": null,
      "outputs": []
    },
    {
      "cell_type": "code",
      "source": [
        "unique_values = netflix_df.nunique().sort_values()\n",
        "# Plot information with y-axis in log-scale\n",
        "unique_values.plot.bar(logy=True, figsize=(25, 10), title=\"Structure of numerical features\")"
      ],
      "metadata": {
        "id": "zms12Yq5n-jE"
      },
      "execution_count": null,
      "outputs": []
    },
    {
      "cell_type": "markdown",
      "source": [
        "## 3. ***Data Wrangling***"
      ],
      "metadata": {
        "id": "dauF4eBmngu3"
      }
    },
    {
      "cell_type": "markdown",
      "source": [
        "### Data Wrangling Code"
      ],
      "metadata": {
        "id": "bKJF3rekwFvQ"
      }
    },
    {
      "cell_type": "code",
      "source": [
        "# Write your code to make your dataset analysis ready.\n",
        "# Create new features to store date, day, month and year seperately.\n",
        "netflix_df[\"date_added\"] = pd.to_datetime(netflix_df['date_added'])  # First convert date_added to date time format.\n",
        "netflix_df['day_added'] = netflix_df['date_added'].dt.day            # Compute day.\n",
        "netflix_df['year_added'] = netflix_df['date_added'].dt.year          # Compute year.\n",
        "netflix_df['month_added'] = netflix_df['date_added'].dt.month        # Compute month."
      ],
      "metadata": {
        "id": "wk-9a2fpoLcV"
      },
      "execution_count": null,
      "outputs": []
    },
    {
      "cell_type": "code",
      "source": [
        "# Create subsets for tv shows and movies.\n",
        "tv_shows = netflix_df[netflix_df['type'] == 'TV Show']\n",
        "movies = netflix_df[netflix_df['type'] == 'Movie']\n",
        "\n",
        "# Select the durations for both.\n",
        "duration_tv_shows = tv_shows['duration'].reset_index()\n",
        "duration_movies = movies['duration'].reset_index()\n",
        "\n",
        "# Remove string values from tv shows duration.\n",
        "duration_tv_shows.duration = duration_tv_shows.duration.str.replace(' Season', '') \\\n",
        "                                                       .str.replace(' Seasons', '') \\\n",
        "                                                       .str.replace('s', '')                                                       \n",
        "duration_tv_shows.duration = duration_tv_shows.duration.astype(str).astype(int)\n",
        "\n",
        "# Remove string values from movie duration.\n",
        "duration_movies.duration = duration_movies.duration.str.replace(' min', '')                                                       \n",
        "duration_movies.duration = duration_movies.duration.astype(str).astype(int)"
      ],
      "metadata": {
        "id": "dP3xaflgLAky"
      },
      "execution_count": null,
      "outputs": []
    },
    {
      "cell_type": "markdown",
      "source": [
        "### What all manipulations have you done and insights you found?"
      ],
      "metadata": {
        "id": "MSa1f5Uengrz"
      }
    },
    {
      "cell_type": "markdown",
      "source": [
        "We made new features to store date, day, month and year seperately"
      ],
      "metadata": {
        "id": "LbyXE7I1olp8"
      }
    },
    {
      "cell_type": "markdown",
      "source": [
        "## ***4. Data Vizualization, Storytelling & Experimenting with charts : Understand the relationships between variables***"
      ],
      "metadata": {
        "id": "GF8Ens_Soomf"
      }
    },
    {
      "cell_type": "markdown",
      "source": [
        "#### Chart - 1"
      ],
      "metadata": {
        "id": "0wOQAZs5pc--"
      }
    },
    {
      "cell_type": "code",
      "source": [
        "# Chart - 1 visualization code\n",
        "colors = ['\t#db0000', '\t#564d4d']\n",
        "labels = ['Tv Show', 'Movie']\n",
        "tv_show = netflix_df.type.value_counts()[1]\n",
        "movie = netflix_df.type.value_counts()[0]\n",
        "\n",
        "fig = go.Figure(data=[go.Pie(labels=labels, values=[tv_show, movie], hole=.6)])\n",
        "fig.update_layout(\n",
        "    title_text=\"Type of content watched on Netflix\",title_x=0.5, legend=dict(x=0.9),height=500, width=500,\n",
        "    # Add annotations in the center of the donut pies.\n",
        "    annotations=[dict(text='Type of content.', font_size=20, showarrow=False)])\n",
        "fig.update_traces(marker=dict(colors=colors))\n",
        "\n",
        "fig.show()"
      ],
      "metadata": {
        "id": "7v_ESjsspbW7"
      },
      "execution_count": null,
      "outputs": []
    },
    {
      "cell_type": "markdown",
      "source": [
        "##### 1. Why did you pick the specific chart?"
      ],
      "metadata": {
        "id": "K5QZ13OEpz2H"
      }
    },
    {
      "cell_type": "markdown",
      "source": [
        "Answer Here."
      ],
      "metadata": {
        "id": "XESiWehPqBRc"
      }
    },
    {
      "cell_type": "markdown",
      "source": [
        "##### 2. What is/are the insight(s) found from the chart?"
      ],
      "metadata": {
        "id": "lQ7QKXXCp7Bj"
      }
    },
    {
      "cell_type": "markdown",
      "source": [
        "Answer Here"
      ],
      "metadata": {
        "id": "C_j1G7yiqdRP"
      }
    },
    {
      "cell_type": "markdown",
      "source": [
        "##### 3. Will the gained insights help creating a positive business impact? \n",
        "Are there any insights that lead to negative growth? Justify with specific reason."
      ],
      "metadata": {
        "id": "448CDAPjqfQr"
      }
    },
    {
      "cell_type": "markdown",
      "source": [
        "Answer Here"
      ],
      "metadata": {
        "id": "3cspy4FjqxJW"
      }
    },
    {
      "cell_type": "markdown",
      "source": [
        "#### Chart - 2"
      ],
      "metadata": {
        "id": "KSlN3yHqYklG"
      }
    },
    {
      "cell_type": "code",
      "source": [
        "# Chart - 2 visualization code\n",
        "plt.figure(figsize=(10,5))\n",
        "netflix_df[~(netflix_df['country']=='Unknown')].country.value_counts().nlargest(10).plot(kind='bar')\n",
        "plt.title(' Top 10 countries with the highest number of shows')"
      ],
      "metadata": {
        "id": "R4YgtaqtYklH"
      },
      "execution_count": null,
      "outputs": []
    },
    {
      "cell_type": "markdown",
      "source": [
        "##### 1. Why did you pick the specific chart?"
      ],
      "metadata": {
        "id": "t6dVpIINYklI"
      }
    },
    {
      "cell_type": "markdown",
      "source": [
        "Answer Here."
      ],
      "metadata": {
        "id": "5aaW0BYyYklI"
      }
    },
    {
      "cell_type": "markdown",
      "source": [
        "##### 2. What is/are the insight(s) found from the chart?"
      ],
      "metadata": {
        "id": "ijmpgYnKYklI"
      }
    },
    {
      "cell_type": "markdown",
      "source": [
        "Answer Here"
      ],
      "metadata": {
        "id": "PSx9atu2YklI"
      }
    },
    {
      "cell_type": "markdown",
      "source": [
        "##### 3. Will the gained insights help creating a positive business impact? \n",
        "Are there any insights that lead to negative growth? Justify with specific reason."
      ],
      "metadata": {
        "id": "-JiQyfWJYklI"
      }
    },
    {
      "cell_type": "markdown",
      "source": [
        "Answer Here"
      ],
      "metadata": {
        "id": "BcBbebzrYklV"
      }
    },
    {
      "cell_type": "markdown",
      "source": [
        "#### Chart - 3"
      ],
      "metadata": {
        "id": "EM7whBJCYoAo"
      }
    },
    {
      "cell_type": "code",
      "source": [
        "# Chart - 3 visualization code\n",
        "# Visualizing the year in which the movie / tv show was released\n",
        "plt.figure(figsize=(10,5))\n",
        "sns.histplot(netflix_df['release_year'])\n",
        "plt.title('distribution by released year')"
      ],
      "metadata": {
        "id": "t6GMdE67YoAp"
      },
      "execution_count": null,
      "outputs": []
    },
    {
      "cell_type": "code",
      "source": [
        "# Plot growth of the contents over the years.\n",
        "tv_show = netflix_df[netflix_df[\"type\"] == \"TV Show\"]\n",
        "movie = netflix_df[netflix_df[\"type\"] == \"Movie\"]\n",
        "\n",
        "col = \"year_added\"\n",
        "\n",
        "content_1 = tv_show[col].value_counts().reset_index()\n",
        "content_1 = content_1.rename(columns = {col : \"count\", \"index\" : col})\n",
        "content_1 = content_1.sort_values(col)\n",
        "\n",
        "content_2 = movie[col].value_counts().reset_index()\n",
        "content_2 = content_2.rename(columns = {col : \"count\", \"index\" : col})\n",
        "content_2 = content_2.sort_values(col)\n",
        "\n",
        "trace1 = go.Scatter(x=content_1[col], y=content_1[\"count\"], name=\"TV Shows\", marker=dict(color=\"#db0000\"))\n",
        "trace2 = go.Scatter(x=content_2[col], y=content_2[\"count\"], name=\"Movies\", marker=dict(color=\"#564d4d\"))\n",
        "\n",
        "data = [trace1, trace2]\n",
        "layout = go.Layout(title=\"Content added over the years\",title_x=0.47, legend=dict(x=0.4, y=1.1, orientation=\"h\"))\n",
        "fig = go.Figure(data, layout=layout)\n",
        "\n",
        "fig.show()"
      ],
      "metadata": {
        "id": "l_iP8J2Q-rbJ"
      },
      "execution_count": null,
      "outputs": []
    },
    {
      "cell_type": "markdown",
      "source": [
        "##### 1. Why did you pick the specific chart?"
      ],
      "metadata": {
        "id": "fge-S5ZAYoAp"
      }
    },
    {
      "cell_type": "markdown",
      "source": [
        "Answer Here."
      ],
      "metadata": {
        "id": "5dBItgRVYoAp"
      }
    },
    {
      "cell_type": "markdown",
      "source": [
        "##### 2. What is/are the insight(s) found from the chart?"
      ],
      "metadata": {
        "id": "85gYPyotYoAp"
      }
    },
    {
      "cell_type": "markdown",
      "source": [
        "Answer Here"
      ],
      "metadata": {
        "id": "4jstXR6OYoAp"
      }
    },
    {
      "cell_type": "markdown",
      "source": [
        "##### 3. Will the gained insights help creating a positive business impact? \n",
        "Are there any insights that lead to negative growth? Justify with specific reason."
      ],
      "metadata": {
        "id": "RoGjAbkUYoAp"
      }
    },
    {
      "cell_type": "markdown",
      "source": [
        "Answer Here"
      ],
      "metadata": {
        "id": "zfJ8IqMcYoAp"
      }
    },
    {
      "cell_type": "markdown",
      "source": [
        "#### Chart - 4"
      ],
      "metadata": {
        "id": "4Of9eVA-YrdM"
      }
    },
    {
      "cell_type": "code",
      "source": [
        "# Chart - 4 visualization code\n",
        "# Seprating Genres\n",
        "genres = netflix_df.set_index('title').listed_in.str.split(', ', expand=True).stack().reset_index(level=1, drop=True);\n",
        "\n",
        "# ploting graph for top 10 genres\n",
        "plt.figure(figsize=(7,9))\n",
        "g = sns.countplot(y = genres, order=genres.value_counts().index[:10],palette = \"Pastel1\")\n",
        "plt.title('Top 10 Genres on Netflix')\n",
        "plt.xlabel('Titles')\n",
        "plt.ylabel('Genres')\n",
        "plt.show()"
      ],
      "metadata": {
        "id": "mtwK2eKH-4QL"
      },
      "execution_count": null,
      "outputs": []
    },
    {
      "cell_type": "markdown",
      "source": [
        "##### 1. Why did you pick the specific chart?"
      ],
      "metadata": {
        "id": "iky9q4vBYrdO"
      }
    },
    {
      "cell_type": "markdown",
      "source": [
        "Answer Here."
      ],
      "metadata": {
        "id": "aJRCwT6DYrdO"
      }
    },
    {
      "cell_type": "markdown",
      "source": [
        "##### 2. What is/are the insight(s) found from the chart?"
      ],
      "metadata": {
        "id": "F6T5p64dYrdO"
      }
    },
    {
      "cell_type": "markdown",
      "source": [
        "Answer Here"
      ],
      "metadata": {
        "id": "Xx8WAJvtYrdO"
      }
    },
    {
      "cell_type": "markdown",
      "source": [
        "##### 3. Will the gained insights help creating a positive business impact? \n",
        "Are there any insights that lead to negative growth? Justify with specific reason."
      ],
      "metadata": {
        "id": "y-Ehk30pYrdP"
      }
    },
    {
      "cell_type": "markdown",
      "source": [
        "Answer Here"
      ],
      "metadata": {
        "id": "jLNxxz7MYrdP"
      }
    },
    {
      "cell_type": "markdown",
      "source": [
        "#### Chart - 5"
      ],
      "metadata": {
        "id": "bamQiAODYuh1"
      }
    },
    {
      "cell_type": "code",
      "source": [
        "# Chart - 5 visualization code\n",
        "# Age ratings for shows in the dataset\n",
        "plt.figure(figsize=(10,5))\n",
        "sns.countplot(x='rating', hue='type', data=netflix_df)"
      ],
      "metadata": {
        "id": "n2UWFN8B-nDJ"
      },
      "execution_count": null,
      "outputs": []
    },
    {
      "cell_type": "markdown",
      "source": [
        "##### 1. Why did you pick the specific chart?"
      ],
      "metadata": {
        "id": "QHF8YVU7Yuh3"
      }
    },
    {
      "cell_type": "markdown",
      "source": [
        "Answer Here."
      ],
      "metadata": {
        "id": "dcxuIMRPYuh3"
      }
    },
    {
      "cell_type": "markdown",
      "source": [
        "##### 2. What is/are the insight(s) found from the chart?"
      ],
      "metadata": {
        "id": "GwzvFGzlYuh3"
      }
    },
    {
      "cell_type": "markdown",
      "source": [
        "Answer Here"
      ],
      "metadata": {
        "id": "uyqkiB8YYuh3"
      }
    },
    {
      "cell_type": "markdown",
      "source": [
        "##### 3. Will the gained insights help creating a positive business impact? \n",
        "Are there any insights that lead to negative growth? Justify with specific reason."
      ],
      "metadata": {
        "id": "qYpmQ266Yuh3"
      }
    },
    {
      "cell_type": "markdown",
      "source": [
        "Answer Here"
      ],
      "metadata": {
        "id": "_WtzZ_hCYuh4"
      }
    },
    {
      "cell_type": "markdown",
      "source": [
        "#### Chart - 6"
      ],
      "metadata": {
        "id": "OH-pJp9IphqM"
      }
    },
    {
      "cell_type": "code",
      "source": [
        "# Chart - 6 visualization code\n",
        "# Graph for top 10 directors\n",
        "directors = netflix_df[netflix_df.director != 'Unknown'].set_index('title').director.str.split(', ', expand=True).stack().reset_index(level=1, drop=True)\n",
        "sns.countplot(y = directors, order=directors.value_counts().index[:10], palette='mako')\n",
        "plt.title('Top 10 Director on Netflix')\n",
        "plt.show()"
      ],
      "metadata": {
        "id": "kuRf4wtuphqN"
      },
      "execution_count": null,
      "outputs": []
    },
    {
      "cell_type": "markdown",
      "source": [
        "##### 1. Why did you pick the specific chart?"
      ],
      "metadata": {
        "id": "bbFf2-_FphqN"
      }
    },
    {
      "cell_type": "markdown",
      "source": [
        "Answer Here."
      ],
      "metadata": {
        "id": "loh7H2nzphqN"
      }
    },
    {
      "cell_type": "markdown",
      "source": [
        "##### 2. What is/are the insight(s) found from the chart?"
      ],
      "metadata": {
        "id": "_ouA3fa0phqN"
      }
    },
    {
      "cell_type": "markdown",
      "source": [
        "Answer Here"
      ],
      "metadata": {
        "id": "VECbqPI7phqN"
      }
    },
    {
      "cell_type": "markdown",
      "source": [
        "##### 3. Will the gained insights help creating a positive business impact? \n",
        "Are there any insights that lead to negative growth? Justify with specific reason."
      ],
      "metadata": {
        "id": "Seke61FWphqN"
      }
    },
    {
      "cell_type": "markdown",
      "source": [
        "Answer Here"
      ],
      "metadata": {
        "id": "DW4_bGpfphqN"
      }
    },
    {
      "cell_type": "markdown",
      "source": [
        "#### Chart - 7"
      ],
      "metadata": {
        "id": "PIIx-8_IphqN"
      }
    },
    {
      "cell_type": "code",
      "source": [
        "# Chart - 7 visualization code\n",
        "# Graph for top 10 actors\n",
        "actor = netflix_df[netflix_df.cast != 'Unknown'].set_index('title').cast.str.split(', ', expand=True).stack().reset_index(level=1, drop=True)\n",
        "sns.countplot(y = actor, order=actor.value_counts().index[:10], palette='mako')\n",
        "plt.title('Top 10 Actors on Netflix')\n",
        "plt.show()"
      ],
      "metadata": {
        "id": "lqAIGUfyphqO"
      },
      "execution_count": null,
      "outputs": []
    },
    {
      "cell_type": "markdown",
      "source": [
        "##### 1. Why did you pick the specific chart?"
      ],
      "metadata": {
        "id": "t27r6nlMphqO"
      }
    },
    {
      "cell_type": "markdown",
      "source": [
        "Answer Here."
      ],
      "metadata": {
        "id": "iv6ro40sphqO"
      }
    },
    {
      "cell_type": "markdown",
      "source": [
        "##### 2. What is/are the insight(s) found from the chart?"
      ],
      "metadata": {
        "id": "r2jJGEOYphqO"
      }
    },
    {
      "cell_type": "markdown",
      "source": [
        "Answer Here"
      ],
      "metadata": {
        "id": "Po6ZPi4hphqO"
      }
    },
    {
      "cell_type": "markdown",
      "source": [
        "##### 3. Will the gained insights help creating a positive business impact? \n",
        "Are there any insights that lead to negative growth? Justify with specific reason."
      ],
      "metadata": {
        "id": "b0JNsNcRphqO"
      }
    },
    {
      "cell_type": "markdown",
      "source": [
        "Answer Here"
      ],
      "metadata": {
        "id": "xvSq8iUTphqO"
      }
    },
    {
      "cell_type": "markdown",
      "source": [
        "#### Chart - 8"
      ],
      "metadata": {
        "id": "BZR9WyysphqO"
      }
    },
    {
      "cell_type": "code",
      "source": [
        "# Chart - 8 visualization code\n",
        "#Plotting a countplot for getting better insights from monthwise addition\n",
        "plt.figure(figsize=(9,7))\n",
        "sns.countplot(x='month_added',hue='type',data=netflix_df)\n",
        "plt.title(\"Monthwise content addition\")"
      ],
      "metadata": {
        "id": "TdPTWpAVphqO"
      },
      "execution_count": null,
      "outputs": []
    },
    {
      "cell_type": "markdown",
      "source": [
        "##### 1. Why did you pick the specific chart?"
      ],
      "metadata": {
        "id": "jj7wYXLtphqO"
      }
    },
    {
      "cell_type": "markdown",
      "source": [
        "Answer Here."
      ],
      "metadata": {
        "id": "Ob8u6rCTphqO"
      }
    },
    {
      "cell_type": "markdown",
      "source": [
        "##### 2. What is/are the insight(s) found from the chart?"
      ],
      "metadata": {
        "id": "eZrbJ2SmphqO"
      }
    },
    {
      "cell_type": "markdown",
      "source": [
        "Answer Here"
      ],
      "metadata": {
        "id": "mZtgC_hjphqO"
      }
    },
    {
      "cell_type": "markdown",
      "source": [
        "##### 3. Will the gained insights help creating a positive business impact? \n",
        "Are there any insights that lead to negative growth? Justify with specific reason."
      ],
      "metadata": {
        "id": "rFu4xreNphqO"
      }
    },
    {
      "cell_type": "markdown",
      "source": [
        "Answer Here"
      ],
      "metadata": {
        "id": "ey_0qi68phqO"
      }
    },
    {
      "cell_type": "markdown",
      "source": [
        "#### Chart - 9"
      ],
      "metadata": {
        "id": "YJ55k-q6phqO"
      }
    },
    {
      "cell_type": "code",
      "source": [
        "# Chart - 9 visualization code\n",
        "#Plotting a countplot for getting better insights from datewise addition\n",
        "plt.figure(figsize=(15,6))\n",
        "sns.countplot(x='day_added',hue='type',data=netflix_df)\n",
        "plt.xlabel('Days')\n",
        "plt.ylabel('Total no. of Movies/TV shows added')\n",
        "plt.title(\"Daywise content addition\")"
      ],
      "metadata": {
        "id": "B2aS4O1ophqO"
      },
      "execution_count": null,
      "outputs": []
    },
    {
      "cell_type": "markdown",
      "source": [
        "##### 1. Why did you pick the specific chart?"
      ],
      "metadata": {
        "id": "gCFgpxoyphqP"
      }
    },
    {
      "cell_type": "markdown",
      "source": [
        "Answer Here."
      ],
      "metadata": {
        "id": "TVxDimi2phqP"
      }
    },
    {
      "cell_type": "markdown",
      "source": [
        "##### 2. What is/are the insight(s) found from the chart?"
      ],
      "metadata": {
        "id": "OVtJsKN_phqQ"
      }
    },
    {
      "cell_type": "markdown",
      "source": [
        "Answer Here"
      ],
      "metadata": {
        "id": "ngGi97qjphqQ"
      }
    },
    {
      "cell_type": "markdown",
      "source": [
        "##### 3. Will the gained insights help creating a positive business impact? \n",
        "Are there any insights that lead to negative growth? Justify with specific reason."
      ],
      "metadata": {
        "id": "lssrdh5qphqQ"
      }
    },
    {
      "cell_type": "markdown",
      "source": [
        "Answer Here"
      ],
      "metadata": {
        "id": "tBpY5ekJphqQ"
      }
    },
    {
      "cell_type": "markdown",
      "source": [
        "#### Chart - 10"
      ],
      "metadata": {
        "id": "U2RJ9gkRphqQ"
      }
    },
    {
      "cell_type": "code",
      "source": [
        "# Chart - 10 visualization code\n",
        " # Seasons in each TV show\n",
        "plt.figure(figsize=(10,5))\n",
        "p = sns.countplot(x='duration',data=netflix_df[netflix_df['type']=='TV Show'])\n",
        "plt.title('Number of seasons per TV show distribution')\n",
        "\n",
        "for i in p.patches:\n",
        "  p.annotate(format(i.get_height(), '.0f'), (i.get_x() + i.get_width() / 2., i.get_height()), ha = 'center', va = 'center', xytext = (0, 10), textcoords = 'offset points')\n",
        "\n",
        "plt.xlabel('Season')\n",
        "plt.ylabel('Count')\n",
        "plt.show()"
      ],
      "metadata": {
        "id": "GM7a4YP4phqQ"
      },
      "execution_count": null,
      "outputs": []
    },
    {
      "cell_type": "markdown",
      "source": [
        "##### 1. Why did you pick the specific chart?"
      ],
      "metadata": {
        "id": "1M8mcRywphqQ"
      }
    },
    {
      "cell_type": "markdown",
      "source": [
        "Answer Here."
      ],
      "metadata": {
        "id": "8agQvks0phqQ"
      }
    },
    {
      "cell_type": "markdown",
      "source": [
        "##### 2. What is/are the insight(s) found from the chart?"
      ],
      "metadata": {
        "id": "tgIPom80phqQ"
      }
    },
    {
      "cell_type": "markdown",
      "source": [
        "Answer Here"
      ],
      "metadata": {
        "id": "Qp13pnNzphqQ"
      }
    },
    {
      "cell_type": "markdown",
      "source": [
        "##### 3. Will the gained insights help creating a positive business impact? \n",
        "Are there any insights that lead to negative growth? Justify with specific reason."
      ],
      "metadata": {
        "id": "JMzcOPDDphqR"
      }
    },
    {
      "cell_type": "markdown",
      "source": [
        "Answer Here"
      ],
      "metadata": {
        "id": "R4Ka1PC2phqR"
      }
    },
    {
      "cell_type": "markdown",
      "source": [
        "#### Chart - 11"
      ],
      "metadata": {
        "id": "x-EpHcCOp1ci"
      }
    },
    {
      "cell_type": "code",
      "source": [
        "# Chart - 11 visualization code\n",
        "\n",
        "\n",
        "# Create a string to store all the words.\n",
        "comment_words = ''\n",
        "\n",
        "# Remove the stopwords.\n",
        "stopwords = set(STOPWORDS)\n",
        " \n",
        "# iterate through the column.\n",
        "for val in netflix_df.description:\n",
        "     \n",
        "    # typecaste each val to string\n",
        "    val = str(val)\n",
        " \n",
        "    # split the value\n",
        "    tokens = val.split()\n",
        "     \n",
        "    # Converts each token into lowercase\n",
        "    for i in range(len(tokens)):\n",
        "        tokens[i] = tokens[i].lower()\n",
        "     \n",
        "    comment_words += \" \".join(tokens)+\" \"\n",
        " \n",
        "wordcloud = WordCloud(width = 1000, height = 500,\n",
        "                background_color ='white',\n",
        "                stopwords = stopwords,\n",
        "                min_font_size = 10,\n",
        "                max_words = 1000,\n",
        "                colormap = 'gist_heat').generate(comment_words)\n",
        " \n",
        "# plot the WordCloud image                      \n",
        "plt.figure(figsize = (8, 8), facecolor = None)\n",
        "plt.title('Most used words in description', fontsize = 30, pad=25)\n",
        "plt.imshow(wordcloud)\n",
        "plt.axis(\"off\")\n",
        "plt.tight_layout(pad = 0)\n",
        " \n",
        "plt.show()"
      ],
      "metadata": {
        "id": "mAQTIvtqp1cj"
      },
      "execution_count": null,
      "outputs": []
    },
    {
      "cell_type": "markdown",
      "source": [
        "##### 1. Why did you pick the specific chart?"
      ],
      "metadata": {
        "id": "X_VqEhTip1ck"
      }
    },
    {
      "cell_type": "markdown",
      "source": [
        "Answer Here."
      ],
      "metadata": {
        "id": "-vsMzt_np1ck"
      }
    },
    {
      "cell_type": "markdown",
      "source": [
        "##### 2. What is/are the insight(s) found from the chart?"
      ],
      "metadata": {
        "id": "8zGJKyg5p1ck"
      }
    },
    {
      "cell_type": "markdown",
      "source": [
        "Answer Here"
      ],
      "metadata": {
        "id": "ZYdMsrqVp1ck"
      }
    },
    {
      "cell_type": "markdown",
      "source": [
        "##### 3. Will the gained insights help creating a positive business impact? \n",
        "Are there any insights that lead to negative growth? Justify with specific reason."
      ],
      "metadata": {
        "id": "PVzmfK_Ep1ck"
      }
    },
    {
      "cell_type": "markdown",
      "source": [
        "Answer Here"
      ],
      "metadata": {
        "id": "druuKYZpp1ck"
      }
    },
    {
      "cell_type": "markdown",
      "source": [
        "#### Chart - 12"
      ],
      "metadata": {
        "id": "n3dbpmDWp1ck"
      }
    },
    {
      "cell_type": "code",
      "source": [
        "# Chart - 12 visualization code\n",
        "plt.figure(figsize=(8,4), dpi=120)\n",
        "sns.set(style=\"darkgrid\")\n",
        "sns.histplot(data=duration_movies['duration'], color='#db0000')\n",
        "plt.title('Duration of movies')\n",
        "plt.show()"
      ],
      "metadata": {
        "id": "bwevp1tKp1ck"
      },
      "execution_count": null,
      "outputs": []
    },
    {
      "cell_type": "code",
      "source": [
        "plt.figure(figsize=(8,4), dpi=120)\n",
        "sns.set(style=\"darkgrid\")\n",
        "sns.histplot(data=duration_tv_shows['duration'], color='#db0000')\n",
        "plt.title('Duration of Tv Shows.')\n",
        "plt.show()"
      ],
      "metadata": {
        "id": "CON0lbE7LTfB"
      },
      "execution_count": null,
      "outputs": []
    },
    {
      "cell_type": "markdown",
      "source": [
        "##### 1. Why did you pick the specific chart?"
      ],
      "metadata": {
        "id": "ylSl6qgtp1ck"
      }
    },
    {
      "cell_type": "markdown",
      "source": [
        "Answer Here."
      ],
      "metadata": {
        "id": "m2xqNkiQp1ck"
      }
    },
    {
      "cell_type": "markdown",
      "source": [
        "##### 2. What is/are the insight(s) found from the chart?"
      ],
      "metadata": {
        "id": "ZWILFDl5p1ck"
      }
    },
    {
      "cell_type": "markdown",
      "source": [
        "Answer Here"
      ],
      "metadata": {
        "id": "x-lUsV2mp1ck"
      }
    },
    {
      "cell_type": "markdown",
      "source": [
        "##### 3. Will the gained insights help creating a positive business impact? \n",
        "Are there any insights that lead to negative growth? Justify with specific reason."
      ],
      "metadata": {
        "id": "M7G43BXep1ck"
      }
    },
    {
      "cell_type": "markdown",
      "source": [
        "Answer Here"
      ],
      "metadata": {
        "id": "5wwDJXsLp1cl"
      }
    },
    {
      "cell_type": "markdown",
      "source": [
        "#### Chart - 13"
      ],
      "metadata": {
        "id": "Ag9LCva-p1cl"
      }
    },
    {
      "cell_type": "code",
      "source": [
        "# Chart - 13 visualization code\n",
        "# iterate through the column.\n",
        "for val in netflix_df.title:\n",
        "     \n",
        "    # typecaste each val to string\n",
        "    val = str(val)\n",
        " \n",
        "    # split the value\n",
        "    tokens = val.split()\n",
        "     \n",
        "    # Converts each token into lowercase\n",
        "    for i in range(len(tokens)):\n",
        "        tokens[i] = tokens[i].lower()\n",
        "     \n",
        "    comment_words += \" \".join(tokens)+\" \"\n",
        " \n",
        "wordcloud = WordCloud(width = 1000, height = 500,\n",
        "                background_color ='white',\n",
        "                stopwords = stopwords,\n",
        "                min_font_size = 10,\n",
        "                max_words = 1000,\n",
        "                colormap = 'gist_heat_r').generate(comment_words)\n",
        " \n",
        "# plot the WordCloud image                      \n",
        "plt.figure(figsize = (8, 8), facecolor = None)\n",
        "plt.title('Most used words in title', fontsize = 30, pad=25)\n",
        "plt.imshow(wordcloud)\n",
        "plt.axis(\"off\")\n",
        "plt.tight_layout(pad = 0)\n",
        " \n",
        "plt.show()"
      ],
      "metadata": {
        "id": "EUfxeq9-p1cl"
      },
      "execution_count": null,
      "outputs": []
    },
    {
      "cell_type": "markdown",
      "source": [
        "##### 1. Why did you pick the specific chart?"
      ],
      "metadata": {
        "id": "E6MkPsBcp1cl"
      }
    },
    {
      "cell_type": "markdown",
      "source": [
        "Answer Here."
      ],
      "metadata": {
        "id": "V22bRsFWp1cl"
      }
    },
    {
      "cell_type": "markdown",
      "source": [
        "##### 2. What is/are the insight(s) found from the chart?"
      ],
      "metadata": {
        "id": "2cELzS2fp1cl"
      }
    },
    {
      "cell_type": "markdown",
      "source": [
        "Answer Here"
      ],
      "metadata": {
        "id": "ozQPc2_Ip1cl"
      }
    },
    {
      "cell_type": "markdown",
      "source": [
        "##### 3. Will the gained insights help creating a positive business impact? \n",
        "Are there any insights that lead to negative growth? Justify with specific reason."
      ],
      "metadata": {
        "id": "3MPXvC8up1cl"
      }
    },
    {
      "cell_type": "markdown",
      "source": [
        "Answer Here"
      ],
      "metadata": {
        "id": "GL8l1tdLp1cl"
      }
    },
    {
      "cell_type": "markdown",
      "source": [
        "#### Chart - 14 - Correlation Heatmap"
      ],
      "metadata": {
        "id": "NC_X3p0fY2L0"
      }
    },
    {
      "cell_type": "code",
      "source": [
        "# Changing the values in the rating column\n",
        "rating_map = {'TV-MA':'Adults',\n",
        "              'R':'Adults',\n",
        "              'PG-13':'Teens',\n",
        "              'TV-14':'Young Adults',\n",
        "              'TV-PG':'Older Kids',\n",
        "              'NR':'Adults',\n",
        "              'TV-G':'Kids',\n",
        "              'TV-Y':'Kids',\n",
        "              'TV-Y7':'Older Kids',\n",
        "              'PG':'Older Kids',\n",
        "              'G':'Kids',\n",
        "              'NC-17':'Adults',\n",
        "              'TV-Y7-FV':'Older Kids',\n",
        "              'UR':'Adults'}\n",
        "netflix_df2 = netflix_df.copy()\n",
        "netflix_df2['rating'].replace(rating_map, inplace = True)\n",
        "netflix_df2['rating'].unique()"
      ],
      "metadata": {
        "id": "A3M09u7h7u3I"
      },
      "execution_count": null,
      "outputs": []
    },
    {
      "cell_type": "code",
      "source": [
        "print(netflix_df2['country'])"
      ],
      "metadata": {
        "id": "NsAnlJnk93pf"
      },
      "execution_count": null,
      "outputs": []
    },
    {
      "cell_type": "code",
      "source": [
        "netflix_df2['country'] = netflix_df2['country'].astype('|S')"
      ],
      "metadata": {
        "id": "2iypmqRU_T3s"
      },
      "execution_count": null,
      "outputs": []
    },
    {
      "cell_type": "code",
      "source": [
        "netflix_df2['principal_country'] = netflix_df2['country'].apply(lambda x: x.decode().split(\",\")[0])\n",
        "netflix_df2['principal_country'].head()\n",
        "\n",
        "country_order = netflix_df2['principal_country'].value_counts()[:11].index\n",
        "content_data = netflix_df2[['type', 'principal_country']].groupby('principal_country')['type'].value_counts().unstack().loc[country_order]\n",
        "content_data['sum'] = content_data.sum(axis=1)\n",
        "content_data_ratio = (content_data.T / content_data['sum']).T[['Movie', 'TV Show']].sort_values(by='Movie',ascending=False)[::-1]\n",
        "     \n",
        "\n",
        "netflix_df2['count'] = 1\n",
        "data = netflix_df2.groupby('principal_country')[['principal_country','count']].sum().sort_values(by='count',ascending=False).reset_index()[:10]\n",
        "data = data['principal_country']\n",
        "\n",
        "Flix_df_heatmap = netflix_df2.loc[netflix_df2['principal_country'].isin(data)]\n",
        "Flix_df_heatmap = pd.crosstab(Flix_df_heatmap['principal_country'], Flix_df_heatmap['rating'],normalize = \"index\").T\n",
        "Flix_df_heatmap"
      ],
      "metadata": {
        "id": "_dYfHbsX8Gxe"
      },
      "execution_count": null,
      "outputs": []
    },
    {
      "cell_type": "code",
      "source": [
        "# Chart - 14 visualization code\n",
        "\n",
        "# Plotting the heatmap\n",
        "fig, ax = plt.subplots(figsize=(12, 12))\n",
        "\n",
        "# Define the countries and ages to be included in the plot\n",
        "country_order = ['United States', 'India', 'United Kingdom', 'Canada', 'Japan', 'France', 'South Korea', 'Spain', 'Mexico']\n",
        "age_order = ['Adults', 'Teens', 'Young Adults', 'Older Kids', 'Kids']\n",
        "\n",
        "# Plot the heatmap\n",
        "sns.heatmap(Flix_df_heatmap.loc[age_order, country_order], cmap=\"PuBu\", square=True, linewidth=2.5, cbar=False,\n",
        "            annot=True, fmt='2.0%', vmax=.6, vmin=0.05, ax=ax, annot_kws={\"fontsize\": 15})\n",
        "\n",
        "# Customize the plot\n",
        "ax.spines['top'].set_visible(True)\n",
        "fig.text(.76, .765, 'Target ages proportion of total content by country', fontweight='bold', fontfamily='serif', fontsize=15, ha='right')   \n",
        "ax.set_yticklabels(ax.get_yticklabels(), fontfamily='serif', rotation=0, fontsize=11)\n",
        "ax.set_xticklabels(ax.get_xticklabels(), fontfamily='serif', rotation=90, fontsize=11)\n",
        "ax.set_ylabel('')\n",
        "ax.set_xlabel('')\n",
        "ax.tick_params(axis='both', which='both', length=0)\n",
        "\n",
        "# Improve the layout\n",
        "plt.tight_layout()\n",
        "plt.show()"
      ],
      "metadata": {
        "id": "7U5YBW6zBHYG"
      },
      "execution_count": null,
      "outputs": []
    },
    {
      "cell_type": "markdown",
      "source": [
        "##### 1. Why did you pick the specific chart?"
      ],
      "metadata": {
        "id": "UV0SzAkaZNRQ"
      }
    },
    {
      "cell_type": "markdown",
      "source": [
        "Answer Here."
      ],
      "metadata": {
        "id": "DVPuT8LYZNRQ"
      }
    },
    {
      "cell_type": "markdown",
      "source": [
        "##### 2. What is/are the insight(s) found from the chart?"
      ],
      "metadata": {
        "id": "YPEH6qLeZNRQ"
      }
    },
    {
      "cell_type": "markdown",
      "source": [
        "Answer Here"
      ],
      "metadata": {
        "id": "bfSqtnDqZNRR"
      }
    },
    {
      "cell_type": "markdown",
      "source": [
        "#### Chart - 15 - Pair Plot "
      ],
      "metadata": {
        "id": "q29F0dvdveiT"
      }
    },
    {
      "cell_type": "code",
      "source": [
        "# Pair Plot visualization code\n",
        "sns.set_style(\"whitegrid\", {'axes.grid' : False}) #set style of the plot\n",
        "\n",
        "#plot the pair plot of all the required columns in the dataframe\n",
        "pp=sns.pairplot(netflix_df.sample(1000))\n",
        "pp.fig.set_size_inches(45,45)\n",
        "     "
      ],
      "metadata": {
        "id": "o58-TEIhveiU"
      },
      "execution_count": null,
      "outputs": []
    },
    {
      "cell_type": "markdown",
      "source": [
        "##### 1. Why did you pick the specific chart?"
      ],
      "metadata": {
        "id": "EXh0U9oCveiU"
      }
    },
    {
      "cell_type": "markdown",
      "source": [
        "Answer Here."
      ],
      "metadata": {
        "id": "eMmPjTByveiU"
      }
    },
    {
      "cell_type": "markdown",
      "source": [
        "##### 2. What is/are the insight(s) found from the chart?"
      ],
      "metadata": {
        "id": "22aHeOlLveiV"
      }
    },
    {
      "cell_type": "markdown",
      "source": [
        "Answer Here"
      ],
      "metadata": {
        "id": "uPQ8RGwHveiV"
      }
    },
    {
      "cell_type": "markdown",
      "source": [
        "## ***5. Hypothesis Testing***"
      ],
      "metadata": {
        "id": "g-ATYxFrGrvw"
      }
    },
    {
      "cell_type": "markdown",
      "source": [
        "### Based on your chart experiments, define three hypothetical statements from the dataset. In the next three questions, perform hypothesis testing to obtain final conclusion about the statements through your code and statistical testing."
      ],
      "metadata": {
        "id": "Yfr_Vlr8HBkt"
      }
    },
    {
      "cell_type": "markdown",
      "source": [
        "Answer Here."
      ],
      "metadata": {
        "id": "-7MS06SUHkB-"
      }
    },
    {
      "cell_type": "markdown",
      "source": [
        "### Hypothetical Statement - 1"
      ],
      "metadata": {
        "id": "8yEUt7NnHlrM"
      }
    },
    {
      "cell_type": "markdown",
      "source": [
        "Is Netflix has increasingly focusing on TV rather than movies in recent years?\n",
        "\n"
      ],
      "metadata": {
        "id": "R4-YGHo_8gCj"
      }
    },
    {
      "cell_type": "markdown",
      "source": [
        "#### 1. State Your research hypothesis as a null hypothesis and alternate hypothesis."
      ],
      "metadata": {
        "id": "tEA2Xm5dHt1r"
      }
    },
    {
      "cell_type": "markdown",
      "source": [
        "Hypothesis Testing to check is there is any relation between year_added and type:\n",
        "\n",
        "* Null Hypothesis:  year_added has no impact on type of content that gets added to the platform.\n",
        "* Alternative Hypothesis: year_added has impact on type of content that gets added to the platform.\n",
        "\n",
        "Set significance level to 0.05."
      ],
      "metadata": {
        "id": "HI9ZP0laH0D-"
      }
    },
    {
      "cell_type": "markdown",
      "source": [
        "#### 2. Perform an appropriate statistical test."
      ],
      "metadata": {
        "id": "I79__PHVH19G"
      }
    },
    {
      "cell_type": "code",
      "source": [
        "# Perform Statistical Test to obtain P-Value\n",
        "hypo_data = pd.crosstab(netflix_df['type'], netflix_df['year_added'], margins=False)\n",
        "hypo_data"
      ],
      "metadata": {
        "id": "oZrfquKtyian"
      },
      "execution_count": null,
      "outputs": []
    },
    {
      "cell_type": "code",
      "source": [
        "from scipy.stats import chisquare\n",
        "from scipy.stats import chi2_contingency\n",
        "stat, p, dof, expected = chi2_contingency(hypo_data)\n",
        "\n",
        "p"
      ],
      "metadata": {
        "id": "06-5QASk9CR4"
      },
      "execution_count": null,
      "outputs": []
    },
    {
      "cell_type": "code",
      "source": [
        "from collections import Counter\n"
      ],
      "metadata": {
        "id": "WfKNQj62WwIf"
      },
      "execution_count": null,
      "outputs": []
    },
    {
      "cell_type": "code",
      "source": [
        "# Now lets check what type of content got added in the past few years.\n",
        "\n",
        "'''We will only check for the type of genres that got added in the years 2018-2021 for better visualization. '''\n",
        "\n",
        "# Create subset of data with required columns.\n",
        "recent_years = pd.DataFrame(netflix_df.groupby(['year_added', 'listed_in'])['listed_in'].count())\n",
        "recent_years.rename(columns={'listed_in':'Count'}, inplace=True)\n",
        "recent_years = recent_years.reset_index()\n",
        "recent_years.drop(recent_years[recent_years.year_added < 2018].index, inplace=True)\n",
        "\n",
        "''' There are many rows with multiple genre entries therefore we will\n",
        " create a function to split each of them and get their respective counts.'''\n",
        " \n",
        "def seperate_all_genre(year):\n",
        "  year_added = recent_years[recent_years['year_added'] == year]\n",
        "  year_added = \", \".join(year_added['listed_in'].dropna()).split(\", \")\n",
        "  year_added_dict = dict(Counter(year_added))\n",
        "  return year_added_dict\n",
        "# Create a list of years.\n",
        "yr_list = [2018,2019,2020,2021]\n",
        "# Iterate through all values in yr_list.\n",
        "yr_genre_count_list = {}\n",
        "for i in yr_list:\n",
        "  data = seperate_all_genre(i)\n",
        "  yr_genre_count_list[i] = data\n",
        "  yr_genre_count_df = pd.DataFrame(yr_genre_count_list).reset_index()\n",
        "  yr_genre_count_df.rename({'index':'Genre'}, inplace=True, axis=1)\n",
        "     "
      ],
      "metadata": {
        "id": "xOfGlu_N9F2i"
      },
      "execution_count": null,
      "outputs": []
    },
    {
      "cell_type": "code",
      "source": [
        "# Plot the above data.\n",
        "df = yr_genre_count_df.sort_values([2018,2019,2020,2021],ascending=False)\n",
        "fig = go.Figure()\n",
        "fig.add_trace(go.Scatter(y=df[2018], x=df['Genre'],\n",
        "                    mode='lines+markers',\n",
        "                    name=2018))\n",
        "fig.add_trace(go.Scatter(y=df[2019], x=df['Genre'],\n",
        "                    mode='lines+markers',\n",
        "                    name=2019))\n",
        "fig.add_trace(go.Scatter(y=df[2020], x=df['Genre'],\n",
        "                    mode='lines+markers', \n",
        "                    name=2020))\n",
        "fig.add_trace(go.Scatter(y=df[2021], x=df['Genre'],\n",
        "                    mode='lines+markers', \n",
        "                    name=2021))\n",
        "fig.update_xaxes(tickangle=-90)\n",
        "fig.update_layout(title={'text': 'Most added Genres in recent years.',\n",
        "                          'y':0.97,\n",
        "                          'x':0.5,\n",
        "                          'font_size':25,\n",
        "                          'xanchor': 'center',\n",
        "                          'yanchor': 'top'},height=650, width=1550,legend=dict(x=0.38, y=1.1, orientation=\"h\"))\n",
        "\n",
        "fig.show()"
      ],
      "metadata": {
        "id": "LFFL27Uz9Lux"
      },
      "execution_count": null,
      "outputs": []
    },
    {
      "cell_type": "markdown",
      "source": [
        "##### Which statistical test have you done to obtain P-Value?"
      ],
      "metadata": {
        "id": "Ou-I18pAyIpj"
      }
    },
    {
      "cell_type": "markdown",
      "source": [
        "Answer Here."
      ],
      "metadata": {
        "id": "s2U0kk00ygSB"
      }
    },
    {
      "cell_type": "markdown",
      "source": [
        "##### Why did you choose the specific statistical test?"
      ],
      "metadata": {
        "id": "fF3858GYyt-u"
      }
    },
    {
      "cell_type": "markdown",
      "source": [
        "Answer Here."
      ],
      "metadata": {
        "id": "HO4K0gP5y3B4"
      }
    },
    {
      "cell_type": "markdown",
      "source": [
        "### Hypothetical Statement - 2"
      ],
      "metadata": {
        "id": "4_0_7-oCpUZd"
      }
    },
    {
      "cell_type": "markdown",
      "source": [
        "#### 1. State Your research hypothesis as a null hypothesis and alternate hypothesis."
      ],
      "metadata": {
        "id": "hwyV_J3ipUZe"
      }
    },
    {
      "cell_type": "markdown",
      "source": [
        "Answer Here."
      ],
      "metadata": {
        "id": "FnpLGJ-4pUZe"
      }
    },
    {
      "cell_type": "markdown",
      "source": [
        "#### 2. Perform an appropriate statistical test."
      ],
      "metadata": {
        "id": "3yB-zSqbpUZe"
      }
    },
    {
      "cell_type": "code",
      "source": [
        "hypo_data2 = pd.crosstab(netflix_df['type'], netflix_df['duration'], margins=False)\n",
        "hypo_data2"
      ],
      "metadata": {
        "id": "p27h5tKbZLRg"
      },
      "execution_count": null,
      "outputs": []
    },
    {
      "cell_type": "code",
      "source": [
        "stat, p, dof, expected = chi2_contingency(hypo_data2)\n",
        "\n",
        "p"
      ],
      "metadata": {
        "id": "JhSSEPU_Zi-N"
      },
      "execution_count": null,
      "outputs": []
    },
    {
      "cell_type": "code",
      "source": [
        "# Perform Statistical Test to obtain P-Value\n",
        "# Create subsets for tv shows and movies.\n",
        "tv_shows = netflix_df[netflix_df['type'] == 'TV Show']\n",
        "movies = netflix_df[netflix_df['type'] == 'Movie']\n",
        "\n",
        "# Select the durations for both.\n",
        "duration_tv_shows = tv_shows['duration'].reset_index()\n",
        "duration_movies = movies['duration'].reset_index()\n",
        "\n",
        "# Remove string values from tv shows duration.\n",
        "duration_tv_shows.duration = duration_tv_shows.duration.str.replace(' Season', '') \\\n",
        "                                                       .str.replace(' Seasons', '') \\\n",
        "                                                       .str.replace('s', '')                                                       \n",
        "duration_tv_shows.duration = duration_tv_shows.duration.astype(str).astype(int)\n",
        "\n",
        "# Remove string values from movie duration.\n",
        "duration_movies.duration = duration_movies.duration.str.replace(' min', '')                                                       \n",
        "duration_movies.duration = duration_movies.duration.astype(str).astype(int)"
      ],
      "metadata": {
        "id": "sWxdNTXNpUZe"
      },
      "execution_count": null,
      "outputs": []
    },
    {
      "cell_type": "code",
      "source": [
        "# Plot the above durations.\n",
        "plt.figure(figsize=(8,4), dpi=120)\n",
        "sns.set(style=\"darkgrid\")\n",
        "sns.histplot(data=duration_tv_shows['duration'], color='#db0000')\n",
        "plt.title('Duration of Tv Shows.')\n",
        "plt.show()   "
      ],
      "metadata": {
        "id": "9dJNSvEgYZYP"
      },
      "execution_count": null,
      "outputs": []
    },
    {
      "cell_type": "code",
      "source": [
        "plt.figure(figsize=(8,4), dpi=120)\n",
        "sns.set(style=\"darkgrid\")\n",
        "sns.histplot(data=duration_movies['duration'], color='#db0000')\n",
        "plt.title('Duration of movies')\n",
        "plt.show()"
      ],
      "metadata": {
        "id": "bwoU91zvYfBN"
      },
      "execution_count": null,
      "outputs": []
    },
    {
      "cell_type": "markdown",
      "source": [
        "##### Which statistical test have you done to obtain P-Value?"
      ],
      "metadata": {
        "id": "dEUvejAfpUZe"
      }
    },
    {
      "cell_type": "markdown",
      "source": [
        "Answer Here."
      ],
      "metadata": {
        "id": "oLDrPz7HpUZf"
      }
    },
    {
      "cell_type": "markdown",
      "source": [
        "##### Why did you choose the specific statistical test?"
      ],
      "metadata": {
        "id": "Fd15vwWVpUZf"
      }
    },
    {
      "cell_type": "markdown",
      "source": [
        "Answer Here."
      ],
      "metadata": {
        "id": "4xOGYyiBpUZf"
      }
    },
    {
      "cell_type": "markdown",
      "source": [
        "### Hypothetical Statement - 3"
      ],
      "metadata": {
        "id": "bn_IUdTipZyH"
      }
    },
    {
      "cell_type": "markdown",
      "source": [
        "#### 1. State Your research hypothesis as a null hypothesis and alternate hypothesis."
      ],
      "metadata": {
        "id": "49K5P_iCpZyH"
      }
    },
    {
      "cell_type": "markdown",
      "source": [
        "Answer Here."
      ],
      "metadata": {
        "id": "7gWI5rT9pZyH"
      }
    },
    {
      "cell_type": "markdown",
      "source": [
        "#### 2. Perform an appropriate statistical test."
      ],
      "metadata": {
        "id": "Nff-vKELpZyI"
      }
    },
    {
      "cell_type": "code",
      "source": [
        "hypo_data3 = pd.crosstab(netflix_df['type'], netflix_df['rating'], margins=False)\n",
        "hypo_data3"
      ],
      "metadata": {
        "id": "coktEhbHZsZ6"
      },
      "execution_count": null,
      "outputs": []
    },
    {
      "cell_type": "code",
      "source": [
        "stat, p, dof, expected = chi2_contingency(hypo_data3)\n",
        "\n",
        "p"
      ],
      "metadata": {
        "id": "euXUbMu0ZlwZ"
      },
      "execution_count": null,
      "outputs": []
    },
    {
      "cell_type": "code",
      "source": [
        "# Perform Statistical Test to obtain P-Value\n",
        "movies_rating = dict(movies['rating'].value_counts())\n",
        "tv_shows_rating = dict(tv_shows['rating'].value_counts())"
      ],
      "metadata": {
        "id": "s6AnJQjtpZyI"
      },
      "execution_count": null,
      "outputs": []
    },
    {
      "cell_type": "code",
      "source": [
        "# Plot the count of ratings for Tv shows and movies to understand them better.\n",
        "fig = go.Figure()\n",
        "fig.add_trace(go.Bar(x=list(tv_shows_rating.keys()),\n",
        "                y=list(tv_shows_rating.values()),\n",
        "                text=list(tv_shows_rating.values()),\n",
        "                name='Tv-Shows',\n",
        "                marker_color='rgb(219,0,0)'\n",
        "                ))\n",
        "fig.add_trace(go.Bar(x=list(movies_rating.keys()),\n",
        "                y=list(movies_rating.values()),\n",
        "                text=list(movies_rating.values()),\n",
        "                name='Movies',\n",
        "                marker_color='rgb(86,77,77)'\n",
        "                ))\n",
        "\n",
        "fig.update_layout(\n",
        "    title='Ratings',title_x=0.47,\n",
        "    xaxis_tickfont_size=15,\n",
        "    yaxis=dict(\n",
        "        title='Count',\n",
        "        titlefont_size=16,\n",
        "        tickfont_size=14,\n",
        "    ),\n",
        "    legend=dict(\n",
        "        x=1,\n",
        "        y=1.0,\n",
        "        bgcolor='rgba(255, 255, 255, 0)',\n",
        "        bordercolor='rgba(255, 255, 255, 0)'\n",
        "    ),\n",
        "    barmode='group',\n",
        "    bargap=0.19,\n",
        "    bargroupgap=0.2 \n",
        ")\n",
        "fig.show()"
      ],
      "metadata": {
        "id": "WxBd3-xaY1wl"
      },
      "execution_count": null,
      "outputs": []
    },
    {
      "cell_type": "markdown",
      "source": [
        "##### Which statistical test have you done to obtain P-Value?"
      ],
      "metadata": {
        "id": "kLW572S8pZyI"
      }
    },
    {
      "cell_type": "markdown",
      "source": [
        "Answer Here."
      ],
      "metadata": {
        "id": "ytWJ8v15pZyI"
      }
    },
    {
      "cell_type": "markdown",
      "source": [
        "##### Why did you choose the specific statistical test?"
      ],
      "metadata": {
        "id": "dWbDXHzopZyI"
      }
    },
    {
      "cell_type": "markdown",
      "source": [
        "Answer Here."
      ],
      "metadata": {
        "id": "M99G98V6pZyI"
      }
    },
    {
      "cell_type": "markdown",
      "source": [
        "## ***6. Feature Engineering & Data Pre-processing***"
      ],
      "metadata": {
        "id": "yLjJCtPM0KBk"
      }
    },
    {
      "cell_type": "markdown",
      "source": [
        "### 1. Handling Missing Values"
      ],
      "metadata": {
        "id": "xiyOF9F70UgQ"
      }
    },
    {
      "cell_type": "code",
      "source": [
        "# Handling Missing Values & Missing Value Imputation\n",
        "netflix_df[['director','cast','country']] = netflix_df[['director','cast','country']].fillna('Unknown')\n",
        "netflix_df['rating'] = netflix_df['rating'].fillna(netflix_df['rating'].mode()[0])\n",
        "netflix_df.dropna(axis=0, inplace = True)"
      ],
      "metadata": {
        "id": "iRsAHk1K0fpS"
      },
      "execution_count": null,
      "outputs": []
    },
    {
      "cell_type": "markdown",
      "source": [
        "#### What all missing value imputation techniques have you used and why did you use those techniques?"
      ],
      "metadata": {
        "id": "7wuGOrhz0itI"
      }
    },
    {
      "cell_type": "markdown",
      "source": [
        "Answer Here."
      ],
      "metadata": {
        "id": "1ixusLtI0pqI"
      }
    },
    {
      "cell_type": "markdown",
      "source": [
        "## We will be using text columns to create clusters for our data."
      ],
      "metadata": {
        "id": "nLwFY2mLELEj"
      }
    },
    {
      "cell_type": "code",
      "source": [
        "cluster_df = netflix_df[['title']]\n",
        "cluster_df['cluster_data'] = (netflix_df['description'] + ' ' + netflix_df['listed_in'] + ' ' + netflix_df['director'] + ' ' + netflix_df['cast'] + ' ' + netflix_df['country'] + ' ' + netflix_df['rating']).astype(str)\n",
        "cluster_df.set_index('title', inplace = True)\n",
        "cluster_df.head()\n",
        "cluster_df.head()"
      ],
      "metadata": {
        "id": "oK1OHl9dD6bv"
      },
      "execution_count": null,
      "outputs": []
    },
    {
      "cell_type": "code",
      "source": [
        "# Remove punctuation from the text.\n",
        "def remove_punctuation(text):\n",
        "    '''a function for removing punctuation'''\n",
        "    import string \n",
        "    translator = str.maketrans('', '', string.punctuation)\n",
        "    return text.translate(translator)\n",
        "    \n",
        "cluster_df['cluster_data'] = cluster_df['cluster_data'].apply(remove_punctuation)\n",
        "cluster_df.head(2)"
      ],
      "metadata": {
        "id": "a0U3-fOnEQ1i"
      },
      "execution_count": null,
      "outputs": []
    },
    {
      "cell_type": "code",
      "source": [
        "import nltk\n",
        "nltk.download('stopwords')\n",
        "from nltk.corpus import stopwords"
      ],
      "metadata": {
        "id": "iJdfAQDSEUnH"
      },
      "execution_count": null,
      "outputs": []
    },
    {
      "cell_type": "code",
      "source": [
        "stop_words = set(stopwords.words('english'))"
      ],
      "metadata": {
        "id": "Z6-khdrtEY-i"
      },
      "execution_count": null,
      "outputs": []
    },
    {
      "cell_type": "code",
      "source": [
        "# Remove the stopwords.\n",
        "def stopwords(text):\n",
        "    '''a function for removing the stopword'''\n",
        "    text = [word.lower() for word in text.split() if word.lower() not in stop_words]\n",
        "    return \" \".join(text)\n",
        "\n",
        "cluster_df['cluster_data'] = cluster_df['cluster_data'].apply(stopwords)\n",
        "cluster_df.cluster_data.head(2)    "
      ],
      "metadata": {
        "id": "gf2kkKWFEbjf"
      },
      "execution_count": null,
      "outputs": []
    },
    {
      "cell_type": "code",
      "source": [
        "# create an object of stemming function\n",
        "stemmer = SnowballStemmer(\"english\")\n",
        "\n",
        "def stemming(text):    \n",
        "    '''a function which stems each word in the given text'''\n",
        "    text = [stemmer.stem(word) for word in text.split()]\n",
        "    return \" \".join(text)  "
      ],
      "metadata": {
        "id": "po7byJ4EEfHO"
      },
      "execution_count": null,
      "outputs": []
    },
    {
      "cell_type": "code",
      "source": [
        "cluster_df['cluster_data'] = cluster_df['cluster_data'].apply(stemming)\n",
        "cluster_df.head(2)"
      ],
      "metadata": {
        "id": "dLXHqQpdEirf"
      },
      "execution_count": null,
      "outputs": []
    },
    {
      "cell_type": "code",
      "source": [
        "bag_of_words = cluster_df.cluster_data"
      ],
      "metadata": {
        "id": "ISZVj6vjEmNH"
      },
      "execution_count": null,
      "outputs": []
    },
    {
      "cell_type": "markdown",
      "source": [
        "### 2. Handling Outliers"
      ],
      "metadata": {
        "id": "id1riN9m0vUs"
      }
    },
    {
      "cell_type": "code",
      "source": [
        "# Handling Outliers & Outlier treatments"
      ],
      "metadata": {
        "id": "M6w2CzZf04JK"
      },
      "execution_count": null,
      "outputs": []
    },
    {
      "cell_type": "markdown",
      "source": [
        "##### What all outlier treatment techniques have you used and why did you use those techniques?"
      ],
      "metadata": {
        "id": "578E2V7j08f6"
      }
    },
    {
      "cell_type": "markdown",
      "source": [
        "Answer Here."
      ],
      "metadata": {
        "id": "uGZz5OrT1HH-"
      }
    },
    {
      "cell_type": "code",
      "source": [],
      "metadata": {
        "id": "j1B7RLSuD5Pf"
      },
      "execution_count": null,
      "outputs": []
    },
    {
      "cell_type": "markdown",
      "source": [
        "### 3. Categorical Encoding"
      ],
      "metadata": {
        "id": "89xtkJwZ18nB"
      }
    },
    {
      "cell_type": "code",
      "source": [
        "# Encode your categorical columns\n",
        "cluster_df = netflix_df[['title']]\n",
        "cluster_df['cluster_data'] = (netflix_df['description'] + ' ' + netflix_df['listed_in'] + ' ' + netflix_df['director'] + ' ' + netflix_df['cast'] + ' ' + netflix_df['country'] + ' ' + netflix_df['rating']).astype(str)\n",
        "cluster_df.set_index('title', inplace = True)\n",
        "cluster_df.head()\n",
        "cluster_df.head()"
      ],
      "metadata": {
        "id": "21JmIYMG2hEo"
      },
      "execution_count": null,
      "outputs": []
    },
    {
      "cell_type": "code",
      "source": [
        "# Remove punctuation from the text.\n",
        "def remove_punctuation(text):\n",
        "    '''a function for removing punctuation'''\n",
        "    import string \n",
        "    translator = str.maketrans('', '', string.punctuation)\n",
        "    return text.translate(translator)\n",
        "    \n",
        "cluster_df['cluster_data'] = cluster_df['cluster_data'].apply(remove_punctuation)\n",
        "cluster_df.head(2)"
      ],
      "metadata": {
        "id": "U9AYWhkd3tYF"
      },
      "execution_count": null,
      "outputs": []
    },
    {
      "cell_type": "code",
      "source": [
        "import nltk\n",
        "from nltk.corpus import stopwords\n",
        "\n",
        "stop_words = set(stopwords.words(\"english\"))"
      ],
      "metadata": {
        "id": "exrv28nS4BqL"
      },
      "execution_count": null,
      "outputs": []
    },
    {
      "cell_type": "code",
      "source": [
        "stop_words = stopwords"
      ],
      "metadata": {
        "id": "MiLnWbQu9zvv"
      },
      "execution_count": null,
      "outputs": []
    },
    {
      "cell_type": "code",
      "source": [
        "def stopwords(text):\n",
        "    '''a function for removing the stopword'''\n",
        "    if isinstance(text, str):\n",
        "        text = [word.lower() for word in text.split() if word.lower() not in stop_words]\n",
        "        return \" \".join(text)\n",
        "    else:\n",
        "        return text"
      ],
      "metadata": {
        "id": "pOJJwyWSIxPk"
      },
      "execution_count": null,
      "outputs": []
    },
    {
      "cell_type": "code",
      "source": [
        "# create an object of stemming function\n",
        "stemmer = SnowballStemmer(\"english\")\n",
        "\n",
        "def stemming(text):    \n",
        "    '''a function which stems each word in the given text'''\n",
        "    text = [stemmer.stem(word) for word in text.split()]\n",
        "    return \" \".join(text) \n",
        "     "
      ],
      "metadata": {
        "id": "aQ5CXYQP4Hz_"
      },
      "execution_count": null,
      "outputs": []
    },
    {
      "cell_type": "code",
      "source": [
        "cluster_df['cluster_data'] = cluster_df['cluster_data'].apply(stemming)\n",
        "cluster_df.head(2)"
      ],
      "metadata": {
        "id": "ynp-mG0R4LhQ"
      },
      "execution_count": null,
      "outputs": []
    },
    {
      "cell_type": "code",
      "source": [
        "bag_of_words = cluster_df.cluster_data"
      ],
      "metadata": {
        "id": "wQ7K5O4J5QPt"
      },
      "execution_count": null,
      "outputs": []
    },
    {
      "cell_type": "markdown",
      "source": [
        "## Create Clusters:"
      ],
      "metadata": {
        "id": "UPQiMm0M4ebf"
      }
    },
    {
      "cell_type": "code",
      "source": [
        "t_vectorizer = TfidfVectorizer(max_features=20000)\n",
        "X= t_vectorizer.fit_transform(bag_of_words)"
      ],
      "metadata": {
        "id": "pgEQFOBc4kXc"
      },
      "execution_count": null,
      "outputs": []
    },
    {
      "cell_type": "code",
      "source": [
        "print(X.shape)"
      ],
      "metadata": {
        "id": "QzK8xy-74o8d"
      },
      "execution_count": null,
      "outputs": []
    },
    {
      "cell_type": "code",
      "source": [
        "t_vectorizer.get_feature_names_out()"
      ],
      "metadata": {
        "id": "KFudBx1b4roj"
      },
      "execution_count": null,
      "outputs": []
    },
    {
      "cell_type": "markdown",
      "source": [
        "#### What all categorical encoding techniques have you used & why did you use those techniques?"
      ],
      "metadata": {
        "id": "67NQN5KX2AMe"
      }
    },
    {
      "cell_type": "markdown",
      "source": [
        "Answer Here."
      ],
      "metadata": {
        "id": "UDaue5h32n_G"
      }
    },
    {
      "cell_type": "markdown",
      "source": [
        "### 4. Textual Data Preprocessing \n",
        "(It's mandatory for textual dataset i.e., NLP, Sentiment Analysis, Text Clustering etc.)"
      ],
      "metadata": {
        "id": "Iwf50b-R2tYG"
      }
    },
    {
      "cell_type": "markdown",
      "source": [
        "#### 1. Expand Contraction"
      ],
      "metadata": {
        "id": "GMQiZwjn3iu7"
      }
    },
    {
      "cell_type": "code",
      "source": [
        "# Expand Contraction"
      ],
      "metadata": {
        "id": "PTouz10C3oNN"
      },
      "execution_count": null,
      "outputs": []
    },
    {
      "cell_type": "markdown",
      "source": [
        "#### 2. Lower Casing"
      ],
      "metadata": {
        "id": "WVIkgGqN3qsr"
      }
    },
    {
      "cell_type": "code",
      "source": [
        "# Lower Casing"
      ],
      "metadata": {
        "id": "88JnJ1jN3w7j"
      },
      "execution_count": null,
      "outputs": []
    },
    {
      "cell_type": "markdown",
      "source": [
        "#### 3. Removing Punctuations"
      ],
      "metadata": {
        "id": "XkPnILGE3zoT"
      }
    },
    {
      "cell_type": "code",
      "source": [
        "# Remove Punctuations"
      ],
      "metadata": {
        "id": "vqbBqNaA33c0"
      },
      "execution_count": null,
      "outputs": []
    },
    {
      "cell_type": "markdown",
      "source": [
        "#### 4. Removing URLs & Removing words and digits contain digits."
      ],
      "metadata": {
        "id": "Hlsf0x5436Go"
      }
    },
    {
      "cell_type": "code",
      "source": [
        "# Remove URLs & Remove words and digits contain digits"
      ],
      "metadata": {
        "id": "2sxKgKxu4Ip3"
      },
      "execution_count": null,
      "outputs": []
    },
    {
      "cell_type": "markdown",
      "source": [
        "#### 5. Removing Stopwords & Removing White spaces"
      ],
      "metadata": {
        "id": "mT9DMSJo4nBL"
      }
    },
    {
      "cell_type": "code",
      "source": [
        "# Remove Stopwords"
      ],
      "metadata": {
        "id": "T2LSJh154s8W"
      },
      "execution_count": null,
      "outputs": []
    },
    {
      "cell_type": "code",
      "source": [
        "# Remove White spaces"
      ],
      "metadata": {
        "id": "EgLJGffy4vm0"
      },
      "execution_count": null,
      "outputs": []
    },
    {
      "cell_type": "markdown",
      "source": [
        "#### 6. Rephrase Text"
      ],
      "metadata": {
        "id": "c49ITxTc407N"
      }
    },
    {
      "cell_type": "code",
      "source": [
        "# Rephrase Text"
      ],
      "metadata": {
        "id": "foqY80Qu48N2"
      },
      "execution_count": null,
      "outputs": []
    },
    {
      "cell_type": "markdown",
      "source": [
        "#### 7. Tokenization"
      ],
      "metadata": {
        "id": "OeJFEK0N496M"
      }
    },
    {
      "cell_type": "code",
      "source": [
        "# Tokenization"
      ],
      "metadata": {
        "id": "ijx1rUOS5CUU"
      },
      "execution_count": null,
      "outputs": []
    },
    {
      "cell_type": "markdown",
      "source": [
        "#### 8. Text Normalization"
      ],
      "metadata": {
        "id": "9ExmJH0g5HBk"
      }
    },
    {
      "cell_type": "code",
      "source": [
        "# Normalizing Text (i.e., Stemming, Lemmatization etc.)"
      ],
      "metadata": {
        "id": "AIJ1a-Zc5PY8"
      },
      "execution_count": null,
      "outputs": []
    },
    {
      "cell_type": "markdown",
      "source": [
        "##### Which text normalization technique have you used and why?"
      ],
      "metadata": {
        "id": "cJNqERVU536h"
      }
    },
    {
      "cell_type": "markdown",
      "source": [
        "Answer Here."
      ],
      "metadata": {
        "id": "Z9jKVxE06BC1"
      }
    },
    {
      "cell_type": "markdown",
      "source": [
        "#### 9. Part of speech tagging"
      ],
      "metadata": {
        "id": "k5UmGsbsOxih"
      }
    },
    {
      "cell_type": "code",
      "source": [
        "# POS Taging"
      ],
      "metadata": {
        "id": "btT3ZJBAO6Ik"
      },
      "execution_count": null,
      "outputs": []
    },
    {
      "cell_type": "markdown",
      "source": [
        "#### 10. Text Vectorization"
      ],
      "metadata": {
        "id": "T0VqWOYE6DLQ"
      }
    },
    {
      "cell_type": "code",
      "source": [
        "# Vectorizing Text"
      ],
      "metadata": {
        "id": "yBRtdhth6JDE"
      },
      "execution_count": null,
      "outputs": []
    },
    {
      "cell_type": "markdown",
      "source": [
        "##### Which text vectorization technique have you used and why?"
      ],
      "metadata": {
        "id": "qBMux9mC6MCf"
      }
    },
    {
      "cell_type": "markdown",
      "source": [
        "Answer Here."
      ],
      "metadata": {
        "id": "su2EnbCh6UKQ"
      }
    },
    {
      "cell_type": "markdown",
      "source": [
        "### 4. Feature Manipulation & Selection"
      ],
      "metadata": {
        "id": "-oLEiFgy-5Pf"
      }
    },
    {
      "cell_type": "markdown",
      "source": [
        "#### 1. Feature Manipulation"
      ],
      "metadata": {
        "id": "C74aWNz2AliB"
      }
    },
    {
      "cell_type": "code",
      "source": [
        "# Manipulate Features to minimize feature correlation and create new features"
      ],
      "metadata": {
        "id": "h1qC4yhBApWC"
      },
      "execution_count": null,
      "outputs": []
    },
    {
      "cell_type": "markdown",
      "source": [
        "#### 2. Feature Selection"
      ],
      "metadata": {
        "id": "2DejudWSA-a0"
      }
    },
    {
      "cell_type": "code",
      "source": [
        "# Select your features wisely to avoid overfitting"
      ],
      "metadata": {
        "id": "YLhe8UmaBCEE"
      },
      "execution_count": null,
      "outputs": []
    },
    {
      "cell_type": "markdown",
      "source": [
        "##### What all feature selection methods have you used  and why?"
      ],
      "metadata": {
        "id": "pEMng2IbBLp7"
      }
    },
    {
      "cell_type": "markdown",
      "source": [
        "Answer Here."
      ],
      "metadata": {
        "id": "rb2Lh6Z8BgGs"
      }
    },
    {
      "cell_type": "markdown",
      "source": [
        "##### Which all features you found important and why?"
      ],
      "metadata": {
        "id": "rAdphbQ9Bhjc"
      }
    },
    {
      "cell_type": "markdown",
      "source": [
        "Answer Here."
      ],
      "metadata": {
        "id": "fGgaEstsBnaf"
      }
    },
    {
      "cell_type": "markdown",
      "source": [
        "### 5. Data Transformation"
      ],
      "metadata": {
        "id": "TNVZ9zx19K6k"
      }
    },
    {
      "cell_type": "markdown",
      "source": [
        "#### Do you think that your data needs to be transformed? If yes, which transformation have you used. Explain Why?"
      ],
      "metadata": {
        "id": "nqoHp30x9hH9"
      }
    },
    {
      "cell_type": "code",
      "source": [
        "# Transform Your data"
      ],
      "metadata": {
        "id": "I6quWQ1T9rtH"
      },
      "execution_count": null,
      "outputs": []
    },
    {
      "cell_type": "markdown",
      "source": [
        "### 6. Data Scaling"
      ],
      "metadata": {
        "id": "rMDnDkt2B6du"
      }
    },
    {
      "cell_type": "code",
      "source": [
        "# Scaling your data"
      ],
      "metadata": {
        "id": "dL9LWpySC6x_"
      },
      "execution_count": null,
      "outputs": []
    },
    {
      "cell_type": "markdown",
      "source": [
        "##### Which method have you used to scale you data and why?"
      ],
      "metadata": {
        "id": "yiiVWRdJDDil"
      }
    },
    {
      "cell_type": "markdown",
      "source": [
        "### 7. Dimesionality Reduction"
      ],
      "metadata": {
        "id": "1UUpS68QDMuG"
      }
    },
    {
      "cell_type": "markdown",
      "source": [
        "##### Do you think that dimensionality reduction is needed? Explain Why?"
      ],
      "metadata": {
        "id": "kexQrXU-DjzY"
      }
    },
    {
      "cell_type": "markdown",
      "source": [
        "Answer Here."
      ],
      "metadata": {
        "id": "GGRlBsSGDtTQ"
      }
    },
    {
      "cell_type": "code",
      "source": [
        "# # using PCA to reduce dimensionality\n",
        "pca = PCA(random_state=40)\n",
        "pca.fit(X.toarray())\n",
        "# # pca.fit(X)"
      ],
      "metadata": {
        "id": "KuDH-OSeFHY2"
      },
      "execution_count": null,
      "outputs": []
    },
    {
      "cell_type": "code",
      "source": [
        "# Explained variance for different number of components\n",
        "# since the code is taking too long to run we are taking a screenshot here.\n",
        "# plt.figure(figsize=(10,5))\n",
        "# plt.plot(np.cumsum(pca.explained_variance_ratio_))\n",
        "# plt.title('PCA - Cumulative explained variance vs number of components')\n",
        "# plt.xlabel('number of components')\n",
        "# plt.ylabel('cumulative explained variance')"
      ],
      "metadata": {
        "id": "TGBz9_Me5byg"
      },
      "execution_count": null,
      "outputs": []
    },
    {
      "cell_type": "markdown",
      "source": [
        "![image.png](data:image/png;base64,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)"
      ],
      "metadata": {
        "id": "YGGjR0Wo8SIt"
      }
    },
    {
      "cell_type": "code",
      "source": [
        "pca_tuned = PCA(n_components=0.95,random_state=40)\n",
        "pca_tuned.fit(X.toarray())\n",
        "X_transformed = pca_tuned.transform(X.toarray())\n",
        "X_transformed.shape"
      ],
      "metadata": {
        "id": "oQfQ7EnyX-vI"
      },
      "execution_count": null,
      "outputs": []
    },
    {
      "cell_type": "code",
      "source": [
        "X_transformed"
      ],
      "metadata": {
        "id": "aOjEjnr1YNk1"
      },
      "execution_count": null,
      "outputs": []
    },
    {
      "cell_type": "markdown",
      "source": [
        "##### Which dimensionality reduction technique have you used and why? (If dimensionality reduction done on dataset.)"
      ],
      "metadata": {
        "id": "T5CmagL3EC8N"
      }
    },
    {
      "cell_type": "markdown",
      "source": [
        "Answer Here."
      ],
      "metadata": {
        "id": "ZKr75IDuEM7t"
      }
    },
    {
      "cell_type": "markdown",
      "source": [
        "### 8. Data Splitting"
      ],
      "metadata": {
        "id": "BhH2vgX9EjGr"
      }
    },
    {
      "cell_type": "code",
      "source": [
        "# Split your data to train and test. Choose Splitting ratio wisely."
      ],
      "metadata": {
        "id": "0CTyd2UwEyNM"
      },
      "execution_count": null,
      "outputs": []
    },
    {
      "cell_type": "markdown",
      "source": [
        "##### What data splitting ratio have you used and why? "
      ],
      "metadata": {
        "id": "qjKvONjwE8ra"
      }
    },
    {
      "cell_type": "markdown",
      "source": [
        "Answer Here."
      ],
      "metadata": {
        "id": "Y2lJ8cobFDb_"
      }
    },
    {
      "cell_type": "markdown",
      "source": [
        "### 9. Handling Imbalanced Dataset"
      ],
      "metadata": {
        "id": "P1XJ9OREExlT"
      }
    },
    {
      "cell_type": "markdown",
      "source": [
        "##### Do you think the dataset is imbalanced? Explain Why."
      ],
      "metadata": {
        "id": "VFOzZv6IFROw"
      }
    },
    {
      "cell_type": "markdown",
      "source": [
        "Answer Here."
      ],
      "metadata": {
        "id": "GeKDIv7pFgcC"
      }
    },
    {
      "cell_type": "code",
      "source": [
        "# Handling Imbalanced Dataset (If needed)"
      ],
      "metadata": {
        "id": "nQsRhhZLFiDs"
      },
      "execution_count": null,
      "outputs": []
    },
    {
      "cell_type": "markdown",
      "source": [
        "##### What technique did you use to handle the imbalance dataset and why? (If needed to be balanced)"
      ],
      "metadata": {
        "id": "TIqpNgepFxVj"
      }
    },
    {
      "cell_type": "markdown",
      "source": [
        "Answer Here."
      ],
      "metadata": {
        "id": "qbet1HwdGDTz"
      }
    },
    {
      "cell_type": "markdown",
      "source": [
        "## ***7. ML Model Implementation***"
      ],
      "metadata": {
        "id": "VfCC591jGiD4"
      }
    },
    {
      "cell_type": "markdown",
      "source": [
        "### ML Model - 1 K-means"
      ],
      "metadata": {
        "id": "OB4l2ZhMeS1U"
      }
    },
    {
      "cell_type": "code",
      "source": [
        "# ML Model - 1 Implementation\n",
        "\n",
        "# since we are having a large range of k(4,22) , this code is taking too long to run so we are taking a screenshot\n",
        "# model = KMeans(random_state=5)\n",
        "# visualizer = KElbowVisualizer(model, k=(4,22), metric='silhouette', timings=False, locate_elbow=False)\n",
        "\n",
        "# visualizer.fit(X_transformed)\n",
        "# visualizer.show()\n",
        "     "
      ],
      "metadata": {
        "id": "7ebyywQieS1U"
      },
      "execution_count": null,
      "outputs": []
    },
    {
      "cell_type": "markdown",
      "source": [
        "![image.png](data:image/png;base64,iVBORw0KGgoAAAANSUhEUgAAAgAAAAFnCAIAAABfA2bSAAAgAElEQVR4nOzdeVwT19oH8DMJYQ1bgACCS6TKvsgiKAiKYHC/VVRUsFqtS3HHrbwqqJS2am0VtHW3YltBxaWtgmhRURAUEARUFBRZFBKBsBoSMu8f05vmAlGWbMDz/eN+huFk5keuPc/MmZkzGI7jCAAAQP9DkncAAAAA8gEFAAAA+ikoAAAA0E9BAQAAgH4KCgAAAPRTUAAAAKCfggLQx+Xl5X322Wd+fn5MJnPOnDkPHz5ECCUlJX311VcIoaCgoMuXLyOEzM3N3759K6mdtrS0XLp0iVi+evVqQ0PDRz8iEAh+/PHHiRMn+vn5+fj4REZG8vl8SeUR5e3tPW7cOD8RSUlJZWVlVlZWCKGoqKj/+7//k9S+NmzY4OXllZKS0vmPiAZoamqaMWPG8ePHifXm5uaFhYXClm/evLGwsIiKipJU2g7hOH7y5MkpU6YwmUwfH5/w8PD6+nqE0JYtWw4dOtT57cTFxXWmWW5u7uLFi7uZFXQdFIC+DMfx5cuXL1q0KCEhITExcfHixcHBwc3Nzb6+vt9884309ltQUCAsAAcOHOhMAYiNjc3MzDx//nxCQsKlS5ceP3584sQJKcXbs2dPgghfX18p7eivv/6KiYkZM2ZMNz7L5/PXrFnj4uIi7BCNjY3//PNP0Y0bGRlJJqh4e/fuvXr16vHjxxMTE69cucLj8ZYtW9bVh4dYLNaxY8c609LOzo4oeEA2oAD0ZTU1NSwWy97envhxwoQJly9fVlNTi4+PX7hwYZvGt2/fnjFjhoeHh7DnPX369KRJk/z8/FasWFFdXY1EzhhElzMzM2fOnOnr6zt79uzS0lI2m71y5cpHjx7Nmzfvq6++evnyZVBQ0MOHD+vq6jZu3MhkMsePH3/hwoU2ey8sLBw+fLiGhgZCiEqlHjp0aMGCBQih0tLS+fPn+/r6zpw5Mz8/HyFUUVGxePFiJpM5ZcoUosyUlZV5eHhERkYGBga2z9PVL62xsXHZsmXe3t5BQUFsNrvDPXp5eZWUlCCErl69amNj09zcjBA6efJkRESEcDtBQUECgWDx4sW3b9/+aOb2wsLCtLS0tmzZIlzj4eFx9epV4Y9Xr14dPXo0sdzhd3vz5s2pU6cymcwZM2Y8efIEIZSenj5nzpzvv/9+4sSJ3t7eGRkZxDc/Z86cyZMnT5gw4cyZM6IZamtrY2Jivv32W0NDQ4SQurr69u3blyxZIloARM8dieXGxsbg4OCJEyeOHz9+69atPB4vICCgoqLCz8+vpaXlxYsXgYGBTCZz6tSpjx8/JlIFBASsWbMmJCQkPT2dqMdRUVE7d+4MDg4eP368v79/VVUVQig/P3/ChAkTJkyIjo6eOnVqenp6V//PBW1AAejLdHV1bW1tFyxYcO7cOaIr/MAxY3l5eXx8/E8//fTjjz/yeLxHjx4dP348JiYmISFhwIAB33//fYefamhoWLFixfr165OSkhYsWLBmzRp9ff3169c7ODj89ttvxHlGTEyMs7Pzt99+SyKRrl27du7cuaioKNHRDISQp6dnbGxsRETE/fv3uVyurq6uqqoqQmjbtm2TJ09OSkpasWLFpk2biDUjR45MTEw8fPhwREREWVkZQqi2ttbS0vLMmTPt83T1S7tz587WrVv//vtvQ0PDI0eOdLhHV1fX7OxshNCDBw+sra1zc3MRQg8fPnRzcxNuJyYmhvhfLy+vD2dunyE6OrqsrOzbb7/FMEy40tDQkE6nE/t9+fIlhUIxNjYmftX+u+Xz+Vu2bNm1a1diYqK3t/d3331HtCwoKLC3t7927dq8efN++uknYl8BAQF//fXX2bNnU1NTW1pahHvMyckxMjIyMzMTrlFRUfH29iaRPtRvXLp0SUtL69q1a4mJiWQy+cWLF5GRkcbGxgkJCUpKSsHBwdOnT09MTAwPD//yyy+Jgb6CgoKAgIA2/8YSEhJCQ0Nv3Lihp6dHVLVt27YtXLjw+vXrVCr11atXH///EnwMFIC+DMOwkydP+vr6nj592sfHZ/LkydevXxfXeNq0aQghKysrLpdbU1Nz69YtJpOpp6eHEJo1a9a9e/c6/FRmZqahoaG7uztCaMqUKa9fv66oqOiwZXJy8oIFC0gkEo1G8/X1bZNk3LhxR44cqaysDA4OHjly5JYtWzgcDpfLTU9PnzJlCkJo/PjxcXFxPB4vNTV13rx5CCETExNXV9f79+8jhHg8HnHk2Jk8GzduFL0GINrlIYScnJwGDhyIEPLz83v06FGHe3R1dX306BFCKCcnx9/fPysri1h2dXVt/4d/NHMb9+7du3DhQm1tbWtra5tfTZ48mRgF+uuvvyZOnPiB71ZJSSk1NdXBwQEh5OzsLDwT0tDQ8PHxQQhZW1sT34yenl5iYmJ+fr6uru6hQ4eUlZWFm62trSX+AXQJjUbLzs6+e/euQCDYsWOHpaWl8FfFxcXv3r3z9/cnvmeiJUJIVVV11KhRbbbj7OxsYmKCYZilpeWbN2/ev3+fn59P/GOYP38+zGEjEUryDgCkS1NTc/Xq1atXr2az2fHx8evXrxeO4bRBpVIRQmQyGSEkEAiqq6vpdDrxKy0trXfv3nX4qbq6utLSUj8/P+JHZWVlYrCovfr6+rVr1xLb53K5wo8IjR49evTo0a2trVlZWd99992OHTs2b94sEAg0NTURQhiGaWhosFgsHMeJNUQwYndkMpnI32GeAQMGiO5oz549zs7O4r4xGo0m/Oo4HE5tbW37PU6aNCkmJobD4VAoFDc3t507dxYVFRkbGwubiepwC6KZ2zAxMTlx4sTGjRu3b9++e/du0V/5+fn95z//CQ0NTUhIOH78uPDKaoffbUxMzMWLF1taWlpaWoRnEsIYJBJJIBAghDZs2HD48OG1a9dyudxly5bNnz9fuDtdXd3KykpxX5Q4EydO5HA4+/fvLy4unjZtGnG7AaGuru79+/fC0tXQ0FBbW6ulpaWtrd1+O8KoZDK5tbWVw+FgGKalpYUQolAo3ahMoD0oAH3Z27dvy8rKiM5OX19/6dKlCQkJz58/78xn9fX1a2trieXa2lp9fX0k0msghDgcDkKITqcPHTo0Pj5e9LNthncIdDr94MGDw4cP73B3t2/fdnR01NTUJJPJLi4uX3755b59+3R1dTEMq6mpodFoOI6/fv16wIABJBKJw+EQXUb7Q9QO83QJ8XchhOrq6nR0dHR1ddvv0dTUtKmpKSUlxcHBYeDAgWVlZZmZme2PYQkdbuEDAYYMGaKiohIZGTljxoxff/1VtEfW09MbNmzY77//rqOjQ4zLC//qNt9tVlbW0aNHz507Z2pqeu/evW3btonbnYaGxvr169evX5+bm/vFF1+MHj2awWAQv3JwcHj37l1+fr61tTWxhsfjRUdHL1++XPhxEolEnKkIvzeEUEBAQEBAQGVl5apVqy5dujR48GBhTg0NjYSEBNEAnRzKp1KpOI43Nzerqanx+XxxxxmgS2AIqC978+ZNcHBwXl4e8WNubm5FRYWtrW1nPjt27NikpKSamhqE0NmzZ728vBBCBgYGT58+RQhlZ2cTg7D29vYsFisnJwchVFpaunHjRhzHlZSUGhoaiJN0JSWluro6hJC3t/fZs2cRQnw+PzIykriiKxQTE7Nnzx4ul4sQ4nK5iYmJLi4uysrK7u7uFy9eRAilpKQsXbqUQqF4eHjExsYihF6/fv3w4UPhhVBCh3m69KVlZmYSYyMJCQlOTk5KSkod7tHJyen06dOOjo4IoaFDh164cEFcARC3hQ+jUqn79+/ft28fMdYkNHny5J9++kl0/Ad19N1WV1fr6ekNGDCgubn54sWLTU1N4r6H5cuXE8cEw4cPp1KpolcdtLS0lixZsnnzZuKKd3Nz8/bt2wsKCtTU1IRthP8kLly4QFwbOHjw4Pnz5xFChoaGpqamGIYpKSk1NTXx+XwTExMjIyOiAFRXV69fv76pqemjXwVBQ0PDzMzs2rVrCKHY2FjRnKDboAD0ZSNGjNi1a1d4eDiTySRu/fzhhx9MTEw681k7O7ulS5fOnz/fz8+vvr5+3bp1CKFFixbdunVr4sSJly5dIsbZVVVVDxw4sGvXrokTJwYHB/v5+WEY5uTkVFVVNWbMmNbWVj8/v4CAgKtXr65du7a+vp7JZE6ePFkgEJibm4vu7vvvvxcIBMRdK5MnT9bR0dm4cSNC6Ouvv05OTh4/fvyPP/64d+9ehNCOHTvS09P9/PyCg4MjIiKEF0IJHeZp86e1uQbQ5tqjt7f3rl27xo8fz2azlyxZIm6Prq6uOTk5I0aMIL7ngoICohh06MOZxbG0tNy8efPq1atFx98mTJjQ2NjYZgCt/Xc7ZswYOp3u4+Pz+eeff/bZZ8RIYId7CQwMDAkJmThx4qeffjpv3rwhQ4aI/nbVqlWzZ89esWIFcTeRnp5edHS0aIN169aFh4dPnz5dTU2NGNGaPn365cuXmUymn58fhUKZPn26ubm5tra2u7v7mzdv9u3b9+uvv/r5+QUGBo4aNUpdXb0zXwUhLCzs559/njx5clNTk6GhIdSAnsPgWgoAoLfAcZzo993c3E6dOmVhYSHvRL0bnAEAAHqH1atXHz16FCGUlpaG43ibkxXQDXAGAADoHYqKir766ivi5quNGzcS16VAT0ABAACAfgqGgAAAoJ/qZc8BCASCxsZGCoUCNwAAAEAn4TjO4/E0NDTaTOPRywpAY2Njhw8ZAQAA+LDhw4e3eVhdMgUgMjIyJycHw7DQ0FA7OztiZWpq6r59+8hksqenZ3BwcPtmq1evJp4zqq2tdXBw2LVr17FjxxISEjAMW7lyZYdXeCgUCvFniM5YInt5eXk2NjZyDNANkFkGel1gBJllQu6BW1paCgsLif5TlAQKQEZGRklJSWxsbFFRUWhoKPHEI0IoIiLi+PHjhoaGxOyv1dXVbZodOHCAaPnVV1/NmjWrtLT06tWrZ8+ebWhomDdvnoeHBzG3iShi5EdZWVlFRaXnyXtC7gG6ATLLQK8LjCCzTChC4PYj5xK4CJyWlkbML2hmZsbhcIi3f5SWlmpraxsbG5NIJC8vr7S0tA6bIYSKi4vr6+vt7OzS09PHjBmjrKxMo9FMTExevHjR82wAAADEkUABYLPZurq6xDKNRmOxWAghFoslnFWRWNlhM4TQ6dOniXdisNnsNh/peTYAAADiSPgicCefKhA2a2lpyczMDA8P79J2hLObyVFmZqa8I3QZZJaBXhcYQWaZUMzAEigAdDqdeHMeQqiqqsrAwKDNysrKSjqdTqFQ2jd78OCB8KIxnU5/+fKl6EfE7dHGxka+A2qZmZlOTk5yDNANkFkGel1gBJllQu6BuVxuh8fNEhgCcnd3T0xMRAjl5+fT6XRiRkBTU9OGhoaysjI+n5+cnOzu7t5hs8ePHwunc3Jzc7t161ZLS0tlZWVVVdUnn3zS82wAAADEkcAZgKOjo7W1dUBAAIZhYWFh8fHxmpqavr6+4eHhISEhCKFJkyYxGAwGgyHajPgsi8UaNGgQsTxgwIDZs2cHBgZiGBYeHv7h944CAEC/siMxByEUxrSX4DYlcw1gw4YNwmXhEb2Li4vwltD2zQhtXlQUFBQUFBQkkUgAANBn7EjM2Xk9l1iWYA2Ao2wAAFBoor3/zuu5xKmAREABAAAAxSXa+xMkWAOgAAAAgIJq3/sTJFUDoAAAAEA/BQUAAAAUVBjTfquvbfv12yfYSeRSMBQAAABQUJzmlsyy6jYrJdX7IygAAACgmApZdaP2X7v2pHyC+YCN46yIlRLs/VGveyEMAAD0BwlPy+fFpHDe89Z7WX07ZQSZRFKjKCHFfBAMAACAROA4/sPtJ5v/zKKQsZNzRy9wNiPWS7brJ0ABAAAARfGe17rs3P0zmcXGWmoXFnq5DjaQ6u6gAAAAgEKo4DTNPHUr4/W7kYP0LiwcO0BbXdp7hAIAAADyl17Cmnnq9pu65kCnoYdnualS2r4QVxqgAAAAgJydfli0/Nx9Xiu+d5rTWk/L9i/vlRIoAAAAIDf8VsGWv7J+uP1EW5VycZEn02KALPcOBQAAAOSjpok7NyYlqfCNuYHWpcXjhhtoyTgAFAAAAJCDJ5WcT08kP2fXT7Q0+XW+h7aasuwzQAEAAABZu/qkfP6ZlLr3vE3jrCMmOZDl9AJEKAAAACA7OI7vSc4PvZqtQibHzPeY58iQYxgoAAAAIEU7EnMqKqoOOyGEUDOP/0Vs2u/Zr0y01eMXjXUeqCffbFAAAABAWoRvdBmQmLPY9ZMZJ29lllWPGmxwbqGnsZbUn/P6KCgAAAAgFW3e5fv9rfzGltaFLmaH/F1VlGTxnNdHQQEAAADJa/82x8aWVqa58bE5o2T2nNdHwfsAAABAwsS9yzfx2ZsO18sLFAAAAOinoAAAAICEzXNkMGga7ddL9n1ePQcFAAAAJKaF3xp547H93j9eVjd+oq8p+itF6/2RpC4CR0ZG5uTkYBgWGhpqZ2dHrExNTd23bx+ZTPb09AwODm7fjMfjbdmypaSkREND48CBA9ra2tbW1o6OjsTHT506RSYrxIVyAADojHsvq1acv5//lmOkqfbDf5xn2Q/eeT2XGPRXwN4fSaQAZGRklJSUxMbGFhUVhYaGxsbGEusjIiKOHz9uaGgYGBjIZDKrq6vbNIuLi9PV1f3+++9jY2MfPnw4fvx4KpUaExPT80gAACBLtc0tW/7MOnr/OUJo2ajhkZNH6Kgpo/++x7GiokIBe38kkQKQlpbm4+ODEDIzM+NwOA0NDVQqtbS0VFtb29jYGCHk5eWVlpZWXV3dpllycvLq1asRQnPmzOl5DAAAkD0cx+Melay7/KCy/r21kfbP/m6jGXTRBmFM+8xMvrzifZgErgGw2WxdXV1imUajsVgshBCLxaLRaKIr2zcrLy+/c+dOUFDQunXramtrEUItLS0hISEBAQEnT57seTAAAJCqV9UNU479Pe9MCqeZ9/Ukh4frJrfp/RWchB8Ew3G8881wHGcwGCtXrjx06NDhw4c3b968adOmadOmYRgWGBjo7Oxsa2vb4cfz8vIkGbpbMjMz5R2hyyCzDPS6wAgydwtfgJ999u5ILut9Kz7SSGOzi/FAzZbHOY/EtZd74A5JoADQ6XQ2m00sV1VVGRgYtFlZWVlJp9MpFEqbZvr6+i4uLgghDw+PqKgohNDcuXOJBm5uboWFheIKgI2NjYqKSs+Td1tmZqaTk5McA3QDZJaBXhcYKVjmHYk56L/j5h8g98wPXrNXnLufU1Gjr6FyeLrzfEfGhx/ulXtgLpfb4XGzBIaA3N3dExMTEUL5+fl0Op1KpSKETE1NGxoaysrK+Hx+cnKyu7t7+2aenp4pKSnEGgaDUVxcHBISguM4n8/PysoaNmxYz7MBAHoL4unZnddziTKgmOret6y5mDHqwLWcippFI80KNk8PdBqqOFM7dJUEzgAcHR2tra0DAgIwDAsLC4uPj9fU1PT19Q0PDw8JCUEITZo0icFgMBgM0WYIoaCgoM2bN58/f15dXf27777T19c3MjLy9/cnkUje3t7C20kBAH1em3nTUCfOA6St/enIpcevV198UM5pMjfQ+mmWm5eZofzSSYZkrgFs2LBBuGxhYUEsuLi4CG8Jbd8MIaSmpnbgwAHRNRs3bpRIHgBAL9J+5hy51wDRSGFM+7LaxlXxGVfyy5TJpO0T7LaMt1GQ6Tx7CGYDBQDIk7h50+RYA9qcjqSXsO69YjVw+Z5D6T/5u1kYass+kpRAAQAAgH+1L0iJz96oKpGOzh610MWMROqtw/0dgrmAAADyFMa03zTOuv16ucydIO505D1fUFrb2Md6fwQFAAAgX2/rmhOfVbRZOWqwvtwvAvcHUAAAAHJTxK4fE52QU1GzbNTwrb7/PPejp66cVsI+/bBI9nnCmPbbJ3Rw/6FiTuXWc3ANAAAgH4/KqycdvVlZ/377BLvtE+wwDCNhGEJoriNj1P5ry+LuDzfQchtsIONUy0YN//HOk7r3POGavtr7IzgDAADIxa0Xb8cdul7V8D7q05FhTHviWaowpn0Y0364gdbvQWP4AnzmydvlnCZZpmrk8qafSK57zxv733v8+3Dvj6AAAABk7+Lj15OO3mzmtf46f8yXHubtG0wwH7B3mtPb+uYZJ28182Q0lWarQBD4692Hpe8+czG7scKXOC/pw70/giEgAICMHbv/fMX5dDUK+cJCL1/zAeKarR5jkVtRc+pB0RexaTHzPWQw3cLGPzKv5Jd5f2L0s78rhmF9u+snwBkAAEBGcBz/5sbjZefu09SVb67w/UDvjxDCMOyQv+uowQa/Z7/ak5wv7WzRKU/333lqZah9bqGXcp94yrczoAAAIDs7EnMUeaYzqRII8HWXH2699miwrsadlUyXQfof/YiKEvn8Qi9TbfXQq9l/FpRJL9sf+aXrLj801FT9Y4k38SavfgIKAAAy0itmu5SSFn5r0G93o1KeWhtpp6zyM6d3djYFIy21+EVjVcjkwDN3C97WSiNbZum7eWdSVJRIlz8fN4RGlcYuFBYUAABkoc30Mv2qBjRwedOOJ5/NfjV6iMGtYKaJtnqXPu40UO94wKh6Lu8/J25VN3Elm62kumHa8eRmXuuvgWM6c1LSx0ABAEDqOpztsp/UAHbDe9+fk5IK30yyNElc5kNT786rnAJGML4ab1P0rj7g9B1+q0BS2TjNLVOP//22vnnfNOfpNgMltdleBAoAANL1gdku+3wNeF3T6BmdmPH63QLnofGLxqord/+2w51+DlOsTG8+f7vxD8m8W5HXKpj1y+38t5yVHuarPS0lss1eBwoAAEAqCt7WjolKeMaqCxlrdSJgNIXco96GRMJi5rtbG2kfSHl6uaimh9lwHP/yfPrN52+nWJnum+7cw631XlAAAJCu/ja9DCHtFcszOrGM0/TdFMfdU50kche/lqryxUXjaOrK3z14c+9lVU829e3NvBMZL5xMab8FepBJ/bcb7L9/OQAys8bTUvd/by7UVqWEjLWSVx5pu/ak3PfnpDou7/ic0Rs6muq528z0NWMXeOI48j91+3VNY/c28nvWy63XHg3S1bi8eJyGCkWC8XodKAAASJdAgAf9eremucWd8c+8Zh4MA857Xuhf2fINJkGizzecySz+z4lkHEcXFnotHGkm8X15DzNe52hU1fD+0xPJjVzexz/wv+4WV31+NlVLlfLH4nHGWl27H6nvgakgAJCuiKTcq0/KfYYbX/3COyLpMUJos7eN074/D957NtthiMdQurwD9pToVW5tVUrIlUwdNeXLn4+T3p82a7huLYV67P6Lz2PTzgaN6fz40nNW3acnkwU4HrfA08ZYV0rxehE4AwBAiv4qKNuZlDtYV+O3wDFkEomY7VKVQj42ZzSGoS/i0mQ205mUtHm+IeRK5gAttVvBE6Ra2DAMi/p0pAeDfj6nJPLG405+it3wfsqxv6ubWg75u354For+AwoAANJSxK5f8Ns9FTL5/EIvPY3/uf991BCDVR4Whay6nYkd3CHaW3R4h6u//WBb6R9cKyuRz33mOUhXY3tCzsXHrz/a/j2v9dOTt16w678ab7PYdZi04/UWUAAAkIpGLm/mqVu1zS0HZ7o6muq1bxAx0YFBo35/uyCz9J3s4/WcuOcbDqQ8lc3zDXRNtYuLxqorkz/77d7jNx+6MVQgwBedvZf6ijXHYchOPwcZZOstoAAAIHk4ji87d//xm9rlo4eLuxCqoUI5PMutVYAviU3jSe7p1n7FwYR2aq57Ywv/0xO32A3vxTXblvAo7lGJB4N+ImB033uxe09AAQBA8qLvPv09+5XbYP0fPviQ0fjhxotdP8l9U7P77zyZZZMUBXm+Yabd4O0T7F5WN8w5fafDOnr0/vNvb+YN09eMXzRWldJf5nnuJMkUgMjIyDlz5gQEBOTm/ntKmJqa6u/vP2fOnIMHD3bYjMfjhYSE+Pv7f/bZZxwOByF05cqVmTNnzpo169y5cxIJBoDspRRXbriSSaeqxn328Znld091GqClFpH0WEpTXUpVGNPexkhHdI1cnm7b5mv3qe2gW0WV6y49aPOr688qgi+k66mr/PmFd5vLMABJpABkZGSUlJTExsZ+/fXXX3/9tXB9REREVFTU77//fu/evRcvXrRvFhcXp6ure/78+UmTJj18+LCpqengwYOnTp2KiYn55Zdfamt7338PAFRwmuacvoMjFLvAszPTXuqoKR+c6drSKlgSm9Yq6GUDQTcK3+S9rTXWUiN+lNezzSQSdmruaDtj3Z9SC39OLUT/fS7h8Zua2b/cUSJhFz8f+4m+luyDKT4JPAeQlpbm4+ODEDIzM+NwOA0NDVQqtbS0VFtb29jYGCHk5eWVlpZWXV3dpllycvLq1asRQnPmzCG2Y2trq6mpiRBydHTMysry9vbueTwAZIbXis/+5U5l/ft90509//tW8Y+aZjNwjsOQ2EevolKervXqNY8Hv+e1rryQTsKwK4vH/ZFfhhCS48wWVBXKxc/Huv54dc3FjPQS1umHxQihH24X1HP5vwWOcWf0+octpEQCZwBsNltX95+7vmg0GovFQgixWCwajSa6sn2z8vLyO3fuBAUFrVu3rra2ls1mt/lIz7MBIEs/Zr1NK2EFjBiyeoxFlz64/1MXfQ2VrdceFbHrpZRN4r77O+85u36lh7mjqR7xfIN88wyhUeM+82oV4ETvjxCq5/K9PzGaM2KIfIMpMgk/CYzjeOeb4TjOYDBWrlx56NChw4cPW1lZtWkgTl6e/K+YZWZKZk5aWYLMUvVXce255zWf6KisGKaalZXV1Y+vsdffllo+98T1Q96DZfACdFHd+JJL6rjf3Cimqyl9aoTL5f+jDnf6W25Vm47j7xdvl528tth620oAACAASURBVNRO/mcAivkvWQIFgE6ns9lsYrmqqsrAwKDNysrKSjqdTqFQ2jTT19d3cXFBCHl4eERFRY0dO1a0gYOD2Nt1bWxsVFTkeT0nMzPTyclJjgG6ATJLVXZZ9XdxCVQK6a8Vft0bbnZ0xNNrb/1ZUJbN1/7CTXZPKnXjS8ZxfMvPN3gCPHr2aE+7wVIK9gEdZt6RmHMsj92+8bE89oABA+R7giL3f8lcLrfD42YJDAG5u7snJiYihPLz8+l0OpVKRQiZmpo2NDSUlZXx+fzk5GR3d/f2zTw9PVNSUog1DAbD3t7+8ePHdXV1jY2NWVlZzs79d5Ju0Lu8a+T6/3LrPb91x2iTbl9sxDDskL+rlipl0x+ZZbXdnOdSNn7Nevn3i7eTLE1m2A6SdxbQIxI4A3B0dLS2tg4ICMAwLCwsLD4+XlNT09fXNzw8PCQkBCE0adIkBoPBYDBEmyGEgoKCNm/efP78eXV19e+++05VVTUkJGTx4sUYhgUHBxNXgwFQcK0CQeCvd19VN26fYDdGv0cT+5hoq++e6rT83P0vL6Rf/nycjAeCOqm6ibvhykM1CjlqxkiFSkgc47d/OLlvv3ehhyRzDWDDhg3CZQuLfy5/ubi4xMbGimuGEFJTUztw4IDoGj8/Pz8/P4lEAkA2whNzrj+rmGhpss3XLju7y0P/bSxx/SQu+9VfBeW/Z7+a58iQSELJCv0rm9XA/WbyiCE0qryztNW+BkDv/2HwJDAA3Xc5rzTyRt5QPWrMPHeJzDGAYdjh2W7qyuS1Fx9U1Tf3fIOSlfqy6uj95zZGOusU9XZV0eeToff/KHgfAADd9KyK89lv99Qo5AsLx+qqS+yuhKF6mhETR6y//HDNpQe/B3lKarM9x2sVrDifjhA65O/awxf8SpWw04fe/6OgAADQHQ1cnv+p2/Vc3ul57nYDJDz78UoP83OPSuIelQSMKJ1uM1CyG++2/Xee5L2tXez6ieI/VwVdfycpbhkHQGHhOL44Nq2gkrN6jMV8p6ES3z6ZRDoy202ZTAq+kF7b3CLx7XdDSXXDjus5BlSVb6c4yjsLkBgoAAB02b5bBedzSsYMpe+eKq2bu62MdLb62r6pa954Rf4PEOE4vupiRlNL656pzjTJDXYBuYMCAEDX/P38zZa/so211M4GeUp1KHyTt439AN0TGS9uFL6R3l4641Je6V8F5eM+MQx0UsQbk0C3QQEA4OOI2SURQqU1jXNjUsgkLG6Bp9F/Z8GUEgqZdGzOKDIJW3YurYHLk+q+PqD+PW/NxQfKZNLBma4KdeM/6Dm4CAz6MqLX7uElQeG7D/mtgqTCN+xGbvSMkaNlciHU0VRvw1ir7/7O33rt0Y//cZHBHtsLS3xUzmna5mtnTteWSwAgPVAAQJ8l+tLabtcA0Y1E3sxDCAU5D10+erhEEnbG9gn2lx6XRt99Ost+sOxvv8kuq45KefaJvuaW8TYy3jWQARgCAn2TaMe983pu915T3uF7z0211WU5EqJKIR+dMwohtDQu7T2vVWb7RQi1CgQrzt8X4PjBma7wMsU+Cc4AQB/UvuMmfhQ9D8BxnMsXNPH4TS38Jl5rU4vIAo/f1NJ6Ibck4WlF+41/czOPQibJ8k5zdwY92N08+u6ziKTciEkjZLbfw6nPH5S+mztiiM9wY5ntFMgSFADQ13R42I4Q2nk999C9ZxrKSkT/3sTjd+7tFQrh60kj/sgv252cP9Nu8AhTmgz2WMFp+r9r2dqqlL3TYF7ePgsKAOhHmlr4GspK+hqq6jpkdWUlNYqSujJZ/d//VVKn/LNeQ1lJXZl8Mff179mv2mxELjPMUFUoP89ym3jk5pLY1PtrJ8lgJoaQKw/r3vMOznSV9s1OQI6gAIC+RoLTAs+0GzzMQEtBZpecYD5goYvZqQdFe5PzW1oFSJoTHiQ+rYh7VOI2WH+pDF9NA2QPCgDog9Z7WR29//xN3b+zaXa74xYtJ3KfXXLvNKeEpxXbEx4J/jt4JY08zTz+yvh0Mgk75O8qkSlOgcKCAgD6Gi6/deapW2/qmu0H6OZU1KAed9yKM7ukrrqK51B6XE4J8WP7K9sSEXnjcfG7hvVeVvYDZHGxAcgRFADQp7QKBEG/3r35/O00a9Nzn3l9feMxkkQXKfeun7AjMUfY+xMkXgOeVHL2JBcM1FEPY9pJaptAYUEBAH0HjuPBFzIu5L72HEr/LWiMkmxv1pS2D9zdhCRUA3Ac//L8fV6rYP+nI6kqlJ5vECg4eBAM9B3bEx4dvf/cYYDupc/HqVH60cFN8vO35Zymnm/nlwfFd4qrplmbKs5LCIBUQQEAfcSBO08ib+R9oq95del4bTVleceRPNGXHYpSVSKlvKxiRMTPOX0npbgS7+7TDeyG95v+yNRQVtr/6cieJQW9Rj86SgJ92JnM4nWXHxprqSUsHW+o2WfvW+/wpecbx1n/lvXy4N1n53NKzueU2A/Q/dLdfJ4jQ125a/91b/4z610Td89Up0G6GhLODRQVnAGAXu+vgrLFZ1N11JSvLR3P0NOUdxzpav/Sc3VlpSVuw7JCJid/OWGm3aC8t7XLzt0ftPPC5j8yX76r7+Rm7xRVnnpQZD9Ad/UYC6llBwoHzgBA73bvZdWc03coZNKVxeNsjSX8bl7F1OFtqRiGeZoZepoZltU2Hk4rPHr/+d5bBd/fLphiZbrSw2L8MKMPTGDXwm/98kI6hqGf/F2VFPht70DioACAXuzxm5ppx5N5rYKLn49T/DeVS9AH7vkx1dHYNXHE//nYncspOXj36R/5ZX/kl1nQtYLdLYKch2qq/s+9PTsScyoqqobUFDyp5CwbNdx1sIH0swMFAgUA9FYv39VPPHKztrnl9Dz3SZYm8o6jWFQp5CDnoUHOQ9NLWAfvPYt7VLLqYkbo1ezPXIYGe1gMN9BCIveVkvPfGWqqRk6W3TyjQEFAAQC9UmV9M/PwzTd1zT9Md57vNFTecRSX62AD18EGe6Y6Hb3//HBqYfTdZ9F3n00wH0BTVz7733nuWnF89BADnb546xT4MMkUgMjIyJycHAzDQkND7ez+uUKVmpq6b98+Mpns6ekZHBzcvtmWLVvy8/N1dHQQQosXLx47dqy1tbWjoyPx8VOnTpHJ8A4K0AFOc8vEIzeL3tWH+tis9rSUd5xewFBTbauv3WZvm4uPXx+8++z6s7bvObj4uHRHYk5fem4OdIYECkBGRkZJSUlsbGxRUVFoaGhsbCyxPiIi4vjx44aGhoGBgUwms7q6un2z9evXjxs3TrgpKpUaExPT80igD2vm8f9zIjmnombpqGE7/RzkHac3oZBJsx2GPKnk3H1Z1f63UppZCCgyCRSAtLQ0Hx8fhJCZmRmHw2loaKBSqaWlpdra2sbGxgghLy+vtLS06urqNs16vmvQ3/BbBXNjUu4UV820GxQ9Y6QsX80IQN8jgQLAZrOtra2JZRqNxmKxqFQqi8Wi0WjClaWlpTU1NW2aIYTOnDlz8uRJPT29bdu20Wi0lpaWkJCQ8vJyJpO5aNEicXvMy8vreeweyszMlHeELuvtmXEc35Ve8WcxZ6SRxjpL9UfZ2XIMJo7if8lT9FGFjf6xPHab9Uts9Kfo8xU/P6G35BRSzMASvgjcycfQiWbTp0/X0dGxtLQ8cuRIdHT09u3bN23aNG3aNAzDAgMDnZ2dbW1tO/y4jY2NioqKJHN3UWZmppOTkxwDdEMfyLzpj8w/izkuA/WuL/dtczujgugtX/JhJzTgf6eWk/urDrqkt3zPQnIPzOVyOzxulsBDH3Q6nc3+52iiqqrKwMCgzcrKyko6nd6+2ahRoywtLRFC3t7ehYWFCKG5c+dqaGioq6u7ubkRawAg7Pk7//tbBRZ0rT+XeCtm79+7tH+iWL55gFxIoAC4u7snJiYihPLz8+l0OpVKRQiZmpo2NDSUlZXx+fzk5GR3d/f2zVatWlVaWooQSk9PHzZsWHFxcUhICI7jfD4/Kytr2DB4Fx34x4n0F1v+yjLVVr+21EefqirvOH0EUQOW2OhD799viR0CKi8v/+6772pqamJiYuLi4kaOHDlkyJAOWzo6OlpbWwcEBGAYFhYWFh8fr6mp6evrGx4eHhISghCaNGkSg8FgMBiizRBC8+fPX7t2rZqamrq6+jfffKOnp2dkZOTv708ikby9vYW3k4L+iXhI9bATuvT49bJz9/XUVRKW+cA8ZZIVxrTPzOTLOwWQG7EFYNu2bfPnzz958iRCiMFgbNu27QM3aG7YsEG4bGHxz2RSLi4uwltC2zdDCLm5uV24cEF0zcaNG7sSHvRZwodUW36/F/volRqF/OcX3paG2vLOBUCfInYIiMfjjR8/nrjNzsXFRYaRQH8n+uqr0w+Lea2C+EVjRw7Sl28qAPqeD10DqKurIwrA8+fPuVyurCKBfq39iw8FOLrX0YNLAIAeEjsEFBwcPHv2bBaLNXXq1Jqamj179sgyFuifZPDaWwCAkNgC4OrqeunSpcLCQmVlZQaDId/77gEAAEic2CGgBQsWqKqq2tnZWVhYQO8PZGPVGAsLulb79XCjOgDSIPYMwNLScv/+/SNGjKBQ/nnoZtSoUbJKBfqj20WVC369W8ZpGqSj/rq2Sbgeen8ApERsAXjy5AlC6OHDh8SPGIZBAQBSwmsV7LqeG3nzMQnDdvrZbxlvE5H0mBj3h94fAOkRWwBgWmYgGy/f1Qf+evd+CXsITePM/DGjhhig/17vraiogN4fAOkRWwCKiop27NiRl5eHYZiDg0NYWNigQYNkmQz0B79lvQy+kF73nhcwYsihma7aIi+lgodUAZA2sQVg165dn3/++ciRI3EcT01NDQsLI54KBkAi6t/zVsZnnMkspqoonZw7OshpKEzuD4CMiS0AOI6PHTuWWPb19YURISBBGa/ZgWfuFr2rdx6o92ugxyf6Hdz5AwCQtg9NBZGfn08s5+bmtra2yioS6MsEAvy7m3ljohKKq+s3e1unrGRC7w+AvIg9A9i8eXNISEh1dTVCyMDA4Ntvv5VhKtA3lXOaFv527+8Xb4211H6Z6z5+uLG8EwHQr4ktAPb29levXm1sbMQwTEVFRfg0AADdczmv9IvYtHdN3KnWpsdmj4Jp/QGQO7FDQAkJCV9++aWmpiaVSp0/f35CQoIsY4G+pJnHD76QPuPkrcYWfvTMkRcXjYXeHwBFIPYM4NSpU0ePHiWWT5w4sXjxYj8/P1mlAr3YjsQcJDJx2+M3NfNiUgoqOTZGOr8GetgY68o1HQDgXx+6C0hTU5NYplKpcIse6AzR6Ty3T7A7dO/Zxj8yuXxBsLv5d1Md1Shi/70BAGRP7H+QNjY2a9euJZ4DSElJsbGxkWUs0BuJ9v47r+f+nvXyObteT10ldsGoqdYD5ZsNANCe2AKwdevWK1eu5ObmYhg2derUiRMnyjIW6HXaT+X/nF3PoGncWek3QFtdXqkAAB8g9iIwn893dXXdtm2bv78/j8eDN4KBDxD3IpeX1Y1H7z+XfR4AQGeILQBbtmx59OhRZWXl6tWrCwsLt2zZIstYAAAApE1sAaisrPTz87t69ercuXM3bdrE4XBkGQv0LmFM++0T7Nqvh8mcAVBkYgtAS0sLjuNJSUnEjEBNTU3iWgKAEApj2i91Gya6Bnp/ABSc2AIwcuRIJycnAwMDBoNx6tQpBoMhy1igN2rm/zthFPT+ACg+sXcBbdiwYenSpVpaWgih8ePHz58/X4apQO9TwWk6m/3K0lDb324QhmHQ+wOg+D70YA7R+yOEBg78yE3ckZGROTk5GIaFhoba2f0zFpyamrpv3z4ymezp6RkcHNy+2ZYtW/Lz83V0dBBCixcvHjt27JUrV3755RcSiTR79uxZs2ZJ4O8DsnLw3jNeq2CNp+UX/zsQBABQWBJ4MjMjI6OkpCQ2NraoqCg0NDQ2NpZYHxERcfz4cUNDw8DAQCaTWV1d3b7Z+vXrx40bR7Rvamo6ePDg+fPnKRSKv7+/r68vURuA4mvk8g6nFhpQVQKdYKgQgF5D7DWAzktLS/Px8UEImZmZcTichoYGhFBpaam2traxsTGJRPLy8kpLS+uwmaicnBxbW1tNTU1VVVVHR8esrKyeZwOy8cuD4prmlhWjzWGyBwB6EbEFoLy8fPXq1UFBQQihuLi4V69eiWvJZrN1df+Z4YtGo7FYLIQQi8Wi0WiiKztsdubMmQULFqxbt666uprNZrf5iAT+PiB9rQLB/pQnKkqkFaOHyzsLAKALxB6vbdu2bf78+cR7gBkMxrZt2zrzVkgcxzuzV6LZ9OnTdXR0LC0tjxw5Eh0dPWLEiE5uJy8vrzN7karMzEx5R+gyKWW+VVr3gl0/3UyntLCgVNIb73Xfc68LjCCzTChmYLEFgMfjjR8//tSpUwghFxeXD2yCTqez2WxiuaqqysDAoM3KyspKOp1OoVDaNBPeWurt7R0eHs5kMkUbODg4iNujjY2NiopKJ/9CacjMzHRycpJjgG6QXuaQ+4kIoYgZY6yMJHzNptd9z70uMILMMiH3wFwut8Pj5g9dA6irqyNmgX7+/PkH5gJyd3dPTExECOXn59PpdCqVihAyNTVtaGgoKyvj8/nJycnu7u7tm61ataq0tBQhlJ6ePmzYMHt7+8ePH9fV1TU2NmZlZTk7O/fsTway8OA1O6W4ys9igMR7fwCAtIk9AwgODp49ezaLxZo6dWpNTc2ePXvEtXR0dLS2tg4ICMAwLCwsLD4+XlNT09fXNzw8PCQkBCE0adIkBoPBYDBEmyGE5s+fv3btWjU1NXV19W+++UZVVTUkJGTx4sUYhgUHBwvfRgAU2Q+3nyCE1nlZyTsIAKDLxBYAKyurS5cuFRYWKisrMxiMqqqqD2xlw4YNwmULCwtiwcXFRXhLaPtmCCE3N7cLFy6IrvHz84P3jvUir2saz+eW2Bnrjh9mJO8sAIAu63gISCAQBAcHq6io2NjYDB8+HMOwL7/8UsbJgOKLSnnaKsDXelnCC+MA6I06OAP4888/o6KiSkpKrKz+Oa/HMMzDw0O2wYCiq3vfciz9uZGmWsCIIfLOAgDojg4KwJQpU6ZMmRIVFbVq1Srhyvfv38swFegFTqS/qHvP2zjOWkWJLO8sAIDuEHsX0KNHj0R/hMnggCh+q+BAylM1CnnZKHj4C4DeqoMzgCtXrhw8ePDNmzfEmwAQQjweT19fX7bBgEK7mFdaUtO4fPRwPQ15PpABAOiJDgrAtGnTJk+e/H//93/CISASiUSn02UbDCguHMd/uFWAYWiNp6W8swAAuq/jISAymfztt98+f/48OTnZxMSEx+ORSBKYNg70DWmvWOmv2VOsTIcbaMk7CwCg+8R263v27Dl//nx8fDxC6I8//oiIiJBhKqDQ9sHDXwD0CWILwIMHD6KjozU0NBBCwcHB+fn5MkwFFFcRu/5S3msnU5rnUBgVBKB3E1sAiNnWiAd8WltbW1tbxbUE/UrU3ac4jtZ6WcHDXwD0dmKngnB0dPzqq6+qqqpOnjx5/fr1kSNHyjIWUEw1TdwT6S9MtdVn2Q+WdxYAQE+JLQDr1q1LSEhQVVV9+/btokWLJkyYIMtYQDEdu/+isYW/fYIdhQw3BQDQ64ktAKWlpdbW1tbW1sIfP/pqeNC3tfBbo+4+paooLYHXvgPQJ4gtAJ999hkxyNvS0lJdXT1s2LBLly7JMBhQOOdySso5TavHWOioKcs7CwBAAsQWgL///lu4/Pz58/Pnz8skD1BQOI7/eOcJCcNWjbGQdxYAgGR0aiR32LBhcBtoP3e7qDKrrPo/tgOH6sGLegDoI8SeAezfv1+4/Pbt27q6OpnkAQqKePPXenj4C4A+ROwZAFmEubn50aNHZRkLKJRnVZw/C8rcBuuPGmIg7ywAAIkRewawcuXKpqamly9fYhjGYDDU1NRkGQsolP13niKE1sLhPwB9i9gCcOPGjfDwcCMjI4FAwGazd+3a5eXlJctkQEGwG96fflg0hKbxqQ3cBwxAnyK2ABw7duzKlSs0Gg0hVFlZuWbNGigA/dPhtMJmXuvqMZZK8PAXAH2L2P+kKRQK0fsjhAwNDSkUiqwiAQXC5bcevPdMS5Xy+chP5J0FACBhYs8ANDQ0Tpw4MXr0aITQ3bt3iWlBQX/zW9bLyvr3IWOtNFXhCACAvkZsAfj666/3799/5coVDMPs7e0jIyNlGQsoAhzHf7z9hEzCVnrAw18A9EFiC4Cent7OnTtlGQUomhuFb/Le1gaMGDJIF87/AOiDxBaAP/744+jRo/X19TiOE2tu3bolq1RAIcCbvwDo28QWgOjo6MjISCMjo85sJTIyMicnB8Ow0NBQOzs7YmVqauq+ffvIZLKnp2dwcLC4ZikpKUuWLHn27BlCyNra2tHRkVh/6tQpMpnck78N9ETem5rrzyrGDKU7D9STdxYAgFSILQBDhgxxcnLqzCYyMjJKSkpiY2OLiopCQ0NjY2OJ9REREcePHzc0NAwMDGQymdXV1e2bcbncI0eOGBj883wplUqNiYnp8R8FJODHO3D4D0Af10EBSEtLQwiZm5vv27dv5MiRwsPwUaNGdbiJtLQ0Hx8fhJCZmRmHw2loaKBSqaWlpdra2sbGxgghLy+vtLS06urq9s1+/vnnefPm7dmzR0p/HuieyvrmXzNffqKvOcXKRN5ZAADS0kEBOHTokHA5OzubWMAwTFwBYLPZwvfG0Gg0FotFpVJZLJbwMQIajVZaWlpTU9OmGYvFevr06Zo1a4QFoKWlJSQkpLy8nMlkLlq0SFzovLy8rv2VUpCZmSnvCF3W+cxHcqtaWgUzhmg8+u8/AHnpdd9zrwuMILNMKGbgDgpATwZhhFeMO9Psm2++2bp1q+j6TZs2TZs2DcOwwMBAZ2dnW1vbDj9uY2NDvLNeXjIzMzs5PqY4Op+5mce/dDleV01564yxGiryvP2/133PvS4wgswyIffAXC63w+PmDgrAvHnziHeBtfHrr792uGk6nc5ms4nlqqoqYkBfdGVlZSWdTqdQKKLNlJWVi4uLN2zYQPwYGBh45syZuXPnEg3c3NwKCwvFFQAgVTEPi9mN3C3jbeTb+wMApK2DArB27doubcLd3T0qKiogICA/P59Op1OpVISQqalpQ0NDWVmZkZFRcnLy3r17a2pqRJuZmJjcuHGD2IK3t/eZM2eKi4sPHjy4d+/e1tbWrKwsPz+/nv95oKsEAvzH208oZFKwu7m8swAApKuDAkClUq2srIhLwZ3h6OhobW0dEBCAYVhYWFh8fLympqavr294eHhISAhCaNKkSQwGg8FgiDZrv52hQ4caGRn5+/uTSCRvb2/hfaJAlq49LX/GqgtyHjpAW13eWQAA0tVBAbh8+bKVlZXopWD0wYvACCFiJIdgYfHPtAEuLi7CW0LbNxMlfP/wxo0bOxcbSMuP/zz8ZSnvIAAAqeugAHz11Vfofy8FCwQCEgmmAu7jdiTmvK1r/vvF2/HDjOwH0OQdBwAgdWIfBIuPj29ubg4ICAgMDHz79u0XX3wxb948WSYDsrQjMWfn9VxiGd78BUA/Ifa4PjY2dtasWUlJScOGDbt58+a1a9dkGQvIkmjvjxDKKGHJMQwAQGbEFgAVFRVlZeXbt29PnDgRxn/6sDa9P0JoV9LjHYk58soDAJCZD/XsO3bsyMrKGjlyZHZ2dktLi8wyAZlp3/sTdl7PhRoAQJ8ntgDs3bt38ODBP/30E5lMLi8v37FjhyxjAdl4W98s7wgAALkRexGYTqcvXLiQWJ4yZYqs8gBZwHE8qfDN97cKbhS+6bDB9gl2YUx7GacCAMiY2AIA+iReq+Bs9qt9twpy39QghMaaGYaMs84oYe1KeixsA70/AP0EFID+ooHX+n1y/oGUp2WcJhKGzXEYsn6sFfGyl0mWJhiGERcDoPcHoP+AAtD3ldU2Hkh5+vO95408gYay0uoxFms8LYfQqKJthJ0+9P4A9B9QAPqy3Iqa728VnM1+yRfgeqpKob52S0cNp6l3PJM2dP0A9DdQAHo94n5N0e4bx/Gbz9/uTc5PKnyDELI01F7vZWWJ1YwaCdNrAwD+BQWgdxO9kT+Mac9rFcQ+erXvVkFORQ1CyMvMMGSs1UQLExIJU8wXEgEA5AgKgNy0P3LvxhaEvf/O67lpr1hPKjnENd7ZDoPXe1m5DNKXTFYAQF8EBUA+2hy593ALhKTCN0okbKWH+VpPS4aepgRSAgD6NCgActDmyB19sAbgOF7T3FJW21TGaSqrbSznNJXVNt0uqnxZ3dC+MV+A09RVoPcHAHQGFABZa3/kvvN6Lo7jwR4WpbWNZbVN5Ryir28q5zQS/X4zr1VeaQEAfRgUAJkSN/narqTHos/iCtGpqpaG2iba6qba6qY66ibaGqY66qba6iba6nuS89tvCh7jAgB0HhQARWFB1/I1H0B07kQvP0BbXUWJLK490dGL1gDo/QEAXQIFQKba99qE7vXdoluD3h8A0FVQAGRt+wS7C7kl+W85omu63XfDFA4AgG6DAiBrx9Jf5L/lmGirlXOakSSO3KHrBwB0DxQAmcqtqFl78YGumnLKSr9TD4oQdN8AAPmBAiA7DVxewOk77/mtvwWNGUyjQtcPAJAveNu7jOA4Hnwh4xmrbq2n5XSbgfKOAwAAEioAkZGRc+bMCQgIyM399/6W1NRUf3//OXPmHDx48APNUlJSzM3NieUrV67MnDlz1qxZ586dk0gwxXHqQdGZzOKRg/S+mTxC3lkAAAAhiQwBZWRklJSUxMbGFhUVhYaGxsbGEusjIiKOHz9uaGgYGBjIZDKrq6vbN+NyuUeOHDEwMEAINTU1HTx48Pz58xQKxd/f39fXV0dHp+fxFEH+29pV8RnaqpTfAscoi7+1HwAAZEkC4S6EvAAAFKVJREFUZwBpaWk+Pj4IITMzMw6H09DQgBAqLS3V1tY2NjYmkUheXl5paWkdNvv555/nzZunrKyMEMrJybG1tdXU1FRVVXV0dMzKyup5NkXQyOUFnL7TzGs9HjAaZukBACgOCRQANputq6tLLNNoNBaLhRBisVg0Gk10ZftmL1++fPr06cSJE4XbafORnmdTBKsvPiio5Kz0MP/UdpC8swAAwL8kfBcQjuOdb/bNN99s3bq1G9vJy8vrRjbJ6uT7Va6+rD31oMKCphpgIv9Xssg9QDf0usy9LjCCzDKhmIElUADodDqbzSaWq6qqiAF90ZWVlZV0Op1CoYg2U1ZWLi4u3rBhA/FjYGDgqlWrRBs4ODiI26ONjY2KSscvtpWNzMxMJyenjzZ7WsnZc/6qlirlyjI/M305D/50MrNC6XWZe11gBJllQu6BuVxuh8fNEhgCcnd3T0xMRAjl5+fT6XQqlYoQMjU1bWhoKCsr4/P5ycnJ7u7ubZqZmJjcuHEjLi4uLi6OTqefOXPG3t7+8ePHdXV1jY2NWVlZzs7OPc8mR808fkDMncYW/pHZo+Te+wMAQHsSOANwdHS0trYOCAjAMCwsLCw+Pl5TU9PX1zc8PDwkJAQhNGnSJAaDwWAwRJu1346qqmpISMjixYsxDAsODtbU7N2d5tpLDx6/qV0+evgs+8HyzgIAAB2QzDUAYiSHYGFhQSy4uLgIbwlt30zU33//TSz4+fn5+flJJJJ8/Z718tj9Fw4DdL+f1rvPYwAAfRg8CSx5hay65efvU1WUzi7wVKXAXf8AAAUFcwFJ2Htea8DpOw1c/pn5HsMMtOQdBwAAxIIzAAkLufIwp6Jmidsncx0Z8s4CAAAfAgVAkuIevfo5tdDWWOfH/7jIOwsAAHwEFACJKWLXL427r6GsdDbIU40CY2sAAEUH/ZRkcPmtATF36rm8U3PdLQy15R0HAAA+Ds4AJGPTH5lZZdULXcyCnIfKOwsAAHQKFAAJiM99HX33mZWh9oFPYegfANBrQAHoqZfv6pfEpqpRyGcXeGqoUOQdBwAAOguuAfRIC791bkwK5z3v2JxR1kZ95PU1AIB+As4AeuSrv7IflL4LdBq60MVM3lkAAKBroAB02Y7EnCO5VQihK3mlP955YkHXOjhzJIZh8s4FAABdA0NAXbMjMWfn9VyEkPqlBzEPi1WVyGcXeFJh6B8A0AtBAegCYe+PEDqQ8hQh9PMsN1tjXbmGAgCAboIhoM4S7f2Fymsb5RIGAAB6DgpAp3TY+yOEdiU93pGYI/s8AADQc1AAAACgn4IC0ClhTPvtE+zar98+wS6MaS/7PAAA0HNQADqrfQ2A3h8A0KtBAegCpsUA4TL0/gCA3g5uA+2CvckFCKEg56Eq7+ug9wcA9HZQADrrOavuUt5r54F6JwNGZ2VlyTsOAAD0FAwBdda+2wU4jjaMs4ZZHwAAfQMUgE6prG/+5UHRUD3qDNuB8s4CAACSAQWgUw7efcblC9Z7WZFJ8I0BAPoI6M4+roHLO3Tvmb6Gymcw5zMAoA+RzEXgyMjInJwcDMNCQ0Pt7P65WT41NXXfvn1kMtnT0zM4OLh9s+zs7N27dyspKSkrK+/Zs4dGo1lbWzs6OhIfP3XqFJlMlki8HjqR/qKmuSVsgp26MlwzBwD0HRLo0TIyMkpKSmJjY4uKikJDQ2NjY4n1ERERx48fNzQ0DAwMZDKZ1dXVbZqdPHly9+7dAwcOjI6OjouLW758OZVKjYmJ6XkkCeK1Cn6480SNQv7S3VzeWQAAQJIkUADS0tJ8fHwQQmZmZhwOp6GhgUqllpaWamtrGxsbI4S8vLzS0tKqq6vbNDtw4ABCCMfxyspKJyennieRhnM5Ja9rGr90N9enqso7CwAASJIECgCbzba2tiaWaTQai8WiUqksFotGowlXlpaW1tTUtG92586dr7/+eujQodOmTUMItbS0hISElJeXM5nMRYsWidtjXl5ez2N3Bo7juxJekjDkq9eamZkp+qs2P/YKkFkGel1gBJllQjEDS3hQG8fxLjXz9PQcM2bM3r17jxw5snz58k2bNk2bNg3DsMDAQGdnZ1tb2w4/bmNjo6KiIrHQ4iU9qyiseTLbYfA0r1Gi6zMzMxX2lEUcyCwDvS4wgswyIffAXC63w+NmCdwFRKfT2Ww2sVxVVWVgYNBmZWVlJZ1Ob98sKSkJIYRhGJPJJMrj3LlzNTQ01NXV3dzcCgsLe56th/Yk5yOENoy1lncQAACQPAkUAHd398TERIRQfn4+nU6nUqkIIVNT04aGhrKyMj6fn5yc7O7u3r5ZVFTUkydPEEI5OTkMBqO4uDgkJATHcT6fn5WVNWzYsJ5n64nssuqbz996f2LkNFBPvkkAAEAaJDAE5OjoaG1tHRAQgGFYWFhYfHy8pqamr69veHh4SEgIQmjSpEkMBoPBYIg2Qwh9/fXXO3bsIJPJqqqqu3fv1tPTMzIy8vf3J5FI3t7ewttJ5WXvrXyE0IZxcPgPAOibJHMNYMOGDcJlCwsLYsHFxUV4S2j7ZgghW1vbs2fPiq7ZuHGjRPL03KvqhnM5JXbGuhPMjeWdBQAApAKeBO7Yj3eetArwkHFWMPUbAKCvggLQgXeN3OPpzwfqqM9xGCLvLAAAIC1QADrwU+qzppbWtZ6WFDJ8PwCAPgs6uLaaefzou0911JQXu8r5NiQAAJAqKABt/fKgmNXAXTF6uKYqRd5ZAABAiqAA/I9WgWDfrQJlMmmlh4W8swAAgHRBAfgfl/JKi97VL3AZaqSlJu8sAAAgXVAA/oXj+J6/8zEMrfeykncWAACQOigA/7pTXPWg9N0064HmdG15ZwEAAKmDAvCvvcn5CKGNMPcDAKB/gALwj7w3NVeflHsw6KOGGMg7CwAAyAIUgH98f6sAIRQyFkb/AQD9BRQAhBAqq238PfuVBV1ripWpvLMAAICMQAFACKEDKU95rYKQsdYkEkz9BgDoL6AAIE5zy5G058ZaavOdGPLOAgAAsgMFAB1Je17P5a0eY6GiRJZ3FgAAkJ3+XgC4/Nb9KU+oKkpLRw2XdxYAAJCp/l4Afst6+aaueanbcB01ZXlnAQAAmerXBUAgwL+/VaBEwtZ4wtRvAIB+p18XgL+elD2p5Mx1ZJjqaMg7CwAAyFq/LgDw8BcAoD/rvwUg7RUrpbhqoqWJrbGuvLMAAIAc9N8CsPdWPkJoAxz+AwD6q35aAApZdZfzSl0G6nmZGco7CwAAyEc/LQD7bhXgONowzhrDYO4HAEA/pSSRrURGRubk5GAYFhoaamdnR6xMTU3dt28fmUz29PQMDg5u3yw7O3v37t1KSkrKysp79uyh0WhXrlz55ZdfSCTS7NmzZ82aJZFs7VXWN59+WGSmp/mp7UAp7QIAABSfBApARkZGSUlJbGxsUVFRaGhobGwssT4iIuL48eOGhoaBgYFMJrO6urpNs5MnT+7evXvgwIHR0dFxcXELFiw4ePDg+fPnKRSKv7+/r6+vjo5Oz+O1F333KZcvWDfWkkzqpydAAACAJDIElJaW5uPjgxAyMzPjcDgNDQ0IodLSUm1tbWNjYxKJ5OXllZaW1r7ZgQMHBg4ciON4ZWWlkZFRTk6Ora2tpqamqqqqo6NjVlZWz7O118DlHbpXaEBVWehiJo3tAwBAbyGBAsBms3V1/7mTkkajsVgshBCLxaLRaKIrO2x2584dPz8/Nps9bdo0Npvd5iM9zyZqR2LOjsSc4+kvaptbgt0t1CiSGf4CAIBeSsKdII7jXWrm6ek5ZsyYvXv3HjlyxMTEpJPbycvL62qwI7lVx/LYCCENJZIqGRtNbc7MzOzqRkT18ONyAZlloNcFRpBZJhQzsAQKAJ1OZ7PZxHJVVZWBgUGblZWVlXQ6nUKhtGmWlJTk6+uLYRiTyYyKihoxYoRoAwcHB3F7tLGxUVFR6XzCHYk5RO+PEGrkC1wG6o0f7drFv/L/27uzkKj6Nw7gzzhqNuqbS44ZYg2SJGLmFi6kZmkqWHQTCoMFtrmGaC5hqf8o10KxsLQ9iyLzwhZQIi+idDIVUytMvFFLc8lcMHXG816cl2F0NH3/DZ7xPd/P1TmPP/TLj5/nmbPMzByNjY2urq5/8htWHjKvgFUXmJB5RXAeeGpqasHXzRq4BOTt7V1dXU1E7e3tYrHYyMiIiKytrcfHx3t6euRyeW1trbe3t/qw4uLiT58+EVFLS4tEInFycmptbR0dHZ2YmGhqanJzc/vzbESUVd3yv5oPqpWG7qGs6haN/HIAgNVLA2cALi4uDg4OYWFhAoEgIyOjsrLS2Ng4ICAgMzMzMTGRiEJCQiQSiUQiUR1GROfPn8/KyhIKhQYGBnl5eQYGBomJiZGRkQKBICYmxtjY+M+zqR/9WWwxY6/Tn/8JAIBVSjP3AJKSkpTbW7f+89HK7u7uykdC1YcRkaOj48OHD1UrQUFBQUFBGokEAAC/9x9/ED5jr9PZwG3q9bOB2/DyHwB47j/eAGihHoCjPwAA8aEB0NwegKM/AACLL2+GUh70cfQHAGDxpQEQDv0AAHPx4hIQAACoQwMAAOApNAAAAJ5CAwAA4Ck0AAAAnkIDAADgKTQAAACeWmXvA2C/KGZ6eprrIDQ1NcV1hH8NmVfAqgtMyLwiuA3MHjPVv2hLsMzv8NISY2NjHR0dXKcAAFh97Ozs5n3M/iprALOzsxMTE3p6egKBgOssAACrA8MwMzMzhoaGOjpzLvuvsgYAAACagpvAAAA8hQYAAMBTaAAAADyFBgAAwFOr7H0AnJDJZCdPntyyZQsR2dnZnTlzhq2/ffv20qVLQqHQx8cnJiaG04xzPH78uKqqit1ua2trbm5mtx0cHFxcXNjt27dvC4VCbvKp6ejoiI6OPnz4sFQq/fbtW3JyskKhsLCwyM/P19fXVw67cOFCS0uLQCA4ffr0tm0LfNUzV4HT0tLkcrmurm5+fr6FhQU7ZrFlwxXVzKmpqe3t7SYmJkQUGRnp5+enHKY9k0xzM8fHx//48YOIRkZGtm/ffu7cOXZMZWVlUVGRjY0NEXl5eUVFRXEYOC8vr7GxUS6XHz9+3NHRUftXMjGwlPr6+ri4OPV6cHDw169fFQpFeHj4ly9fVj7YkmQyWWZmpnJ3x44dHIZZzMTEhFQqTU9Pv3fvHsMwqampL168YBjm4sWL9+/fVw6TyWTHjh1jGKazs/PgwYNcpWXUAicnJz9//pxhmPLy8tzcXOWwxZYNJ+ZlTklJefXqlfow7ZlkRi2zUmpqaktLi3L3yZMnOTk5K55uAXV1dUeOHGEYZnh42NfXV/tXMsMwuAT0f+ru7l63bp2VlZWOjo6vr29dXR3XiRZw5cqV6OhorlMsQV9fv6ysTCwWs7symWz37t1EtGvXLtVZraur27NnDxHZ2tr+/PlzfHyck7SkFjgjI2Pv3r1EZGpqOjIywlWq35uXeTHaM8m0SOaurq6xsTHOT00W5O7uXlRURER//fXX5OSk9q9kwj2AZers7Dxx4kR4ePibN2/YysDAgJmZGbttZmY2MDDAXbqFffjwwcrKSnlFgoimp6cTExPDwsJu3brFYbB5dHV1DQwMlLuTk5PsybK5ubnqrA4ODpqamrLb3E74vMAikUgoFCoUigcPHoSGhqqOVF82XJmXmYjKy8sjIiISEhKGh4eVRe2ZZFooMxHdvXtXKpXOK7579y4yMvLQoUMfP35cqXQLEAqFIpGIiCoqKnx8fLR/JRPuASzH5s2bY2Njg4ODu7u7IyIiampqVC/naa2KiooDBw6oVpKTk/ft2ycQCKRSqZubm6OjI1fZloNZ/C2Kv/kRJxQKRXJysoeHh6enp7Kozctm//79JiYm9vb2paWlly9fPnv2rPoYbZtkIpqenm5sbMzMzFQtOjk5mZmZ+fn5NTc3p6SkPH36lKt4rJcvX1ZUVNy8eTMwMJCtaPNKxhnA0iwtLUNCQgQCgY2Nzfr16/v7+4lILBYPDg6yA/r7+5c8uV55MpnM2dlZtRIeHm5oaCgSiTw8PLT2I5VEItGvX79IbVZVJ/z79++qZzacS0tL27RpU2xsrGpxwWWjJTw9Pe3t7YnI399fdSVo8yQTUUNDg/rFH1tbW/YmtrOz8/DwsEKh4CLaP16/fn316tWysjJjY+NVsZLRAJZWVVV148YNIhoYGBgaGrK0tCQia2vr8fHxnp4euVxeW1vr7e3Ndcw5+vv7DQ0NVV9ydnV1JSYmMgwjl8ubmprYp1O0kJeXV3V1NRHV1NTs3LlTWff29mbr7e3tYrHYyMiIs4hzVVVV6enpxcfHq9fVl42WiIuL6+7uJiKZTKa6ErR2klmtra1bt26dVywrK3v27BkRdXR0mJmZcfhs29jYWF5e3rVr19jHq1bFSsZnAS1tfHw8KSlpdHR0ZmYmNjZ2aGjI2Ng4ICCgoaGhoKCAiAIDAyMjI7mOOUdbW1thYeH169eJqLS01N3d3dnZOT8/v76+XkdHx9/fn9un5VS1tbXl5ub29vbq6upaWloWFBSkpqZOTU1t3LgxOztbT08vISEhOzvbwMCgoKDg/fv3AoEgIyND/UDAVeChoaE1a9aw/8a2traZmZlsYLlcrrpsfH19uQqsnlkqlZaWlq5du1YkEmVnZ5ubm2vbJKtnLi4uLi4udnV1DQkJYQdERUWVlJT09fWdOnWKfWXD7VOVjx49Ki4ulkgk7G5OTk56ero2r2RCAwAA4C1cAgIA4Ck0AAAAnkIDAADgKTQAAACeQgMAAOApNAAADZDJZOHh4VynAPh30AAAAHgKDQBAkz5//hwaGtrX18d1EICloQEAaExfX19KSkphYeGGDRu4zgKwNDQAAM2YmJg4evRoXFycra0t11kAlgUNAEAzent7vby87ty5Mzs7y3UWgGVBAwDQDDs7u7S0NLFYXFJSwnUWgGVBAwDQpKysrKqqqqamJq6DACwNnwYKAMBTOAMAAOApNAAAAJ5CAwAA4Ck0AAAAnkIDAADgKTQAAACeQgMAAOApNAAAAJ76G/GllwjSplmoAAAAAElFTkSuQmCC)"
      ],
      "metadata": {
        "id": "32FSMEY88J0s"
      }
    },
    {
      "cell_type": "code",
      "source": [
        "from yellowbrick.cluster import SilhouetteVisualizer\n",
        "     \n",
        "\n",
        "from sklearn.metrics import silhouette_score, silhouette_samples\n",
        "\n",
        "def silhouette_score_analysis(n):\n",
        "\n",
        "  for n_clusters in range(2,n):\n",
        "      km = KMeans (n_clusters=n_clusters, random_state=5)\n",
        "      preds = km.fit_predict(X_transformed)\n",
        "      centers = km.cluster_centers_\n",
        "\n",
        "      score = silhouette_score(X_transformed, preds, metric='euclidean')\n",
        "      print (\"For n_clusters = {}, silhouette score is {}\".format(n_clusters, score))\n",
        "\n",
        "      visualizer = SilhouetteVisualizer(km)\n",
        "\n",
        "      visualizer.fit(X_transformed) # Fit the training data to the visualizer\n",
        "      visualizer.poof() # Draw/show/poof the data"
      ],
      "metadata": {
        "id": "zxpgF3LnY0rA"
      },
      "execution_count": null,
      "outputs": []
    },
    {
      "cell_type": "code",
      "source": [
        "silhouette_score_analysis(22)"
      ],
      "metadata": {
        "id": "1EXiSXXtY4BK"
      },
      "execution_count": null,
      "outputs": []
    },
    {
      "cell_type": "markdown",
      "source": [
        "#### 1. Explain the ML Model used and it's performance using Evaluation metric Score Chart."
      ],
      "metadata": {
        "id": "ArJBuiUVfxKd"
      }
    },
    {
      "cell_type": "code",
      "source": [
        "# Visualizing evaluation Metric Score chart"
      ],
      "metadata": {
        "id": "rqD5ZohzfxKe"
      },
      "execution_count": null,
      "outputs": []
    },
    {
      "cell_type": "markdown",
      "source": [
        "#### 2. Cross- Validation & Hyperparameter Tuning"
      ],
      "metadata": {
        "id": "4qY1EAkEfxKe"
      }
    },
    {
      "cell_type": "code",
      "source": [
        "# ML Model - 1 Implementation with hyperparameter optimization techniques (i.e., GridSearch CV, RandomSearch CV, Bayesian Optimization etc.)\n",
        "\n",
        "# Fit the Algorithm\n",
        "\n",
        "# Predict on the model"
      ],
      "metadata": {
        "id": "Dy61ujd6fxKe"
      },
      "execution_count": null,
      "outputs": []
    },
    {
      "cell_type": "markdown",
      "source": [
        "##### Which hyperparameter optimization technique have you used and why?"
      ],
      "metadata": {
        "id": "PiV4Ypx8fxKe"
      }
    },
    {
      "cell_type": "markdown",
      "source": [
        "Answer Here."
      ],
      "metadata": {
        "id": "negyGRa7fxKf"
      }
    },
    {
      "cell_type": "markdown",
      "source": [
        "##### Have you seen any improvement? Note down the improvement with updates Evaluation metric Score Chart."
      ],
      "metadata": {
        "id": "TfvqoZmBfxKf"
      }
    },
    {
      "cell_type": "markdown",
      "source": [
        "Answer Here."
      ],
      "metadata": {
        "id": "OaLui8CcfxKf"
      }
    },
    {
      "cell_type": "markdown",
      "source": [
        "### ML Model - 2 Elbow method "
      ],
      "metadata": {
        "id": "dJ2tPlVmpsJ0"
      }
    },
    {
      "cell_type": "markdown",
      "source": [
        "#### 1. Explain the ML Model used and it's performance using Evaluation metric Score Chart."
      ],
      "metadata": {
        "id": "JWYfwnehpsJ1"
      }
    },
    {
      "cell_type": "code",
      "source": [
        "# Visualizing evaluation Metric Score chart\n",
        "\n",
        "# since we are using max_iter as 300 and n_init as 10 , this code is taking too long to run so we are taking screenshot\n",
        "# plt.figure(figsize=(10,6), dpi=120)\n",
        "# wcss = []\n",
        "# for i in range(1, 22):\n",
        "#     kmeans = KMeans(n_clusters=i, init='k-means++', max_iter=300, n_init=10, random_state=0)\n",
        "#     kmeans.fit(X_transformed)\n",
        "#     wcss.append(kmeans.inertia_)\n",
        "# plt.plot(range(1, 22), wcss)\n",
        "# plt.title('Elbow Method')\n",
        "# plt.xlabel('Number of clusters')\n",
        "# plt.ylabel('WCSS')\n",
        "# plt.show()\n",
        "     "
      ],
      "metadata": {
        "id": "yEl-hgQWpsJ1"
      },
      "execution_count": null,
      "outputs": []
    },
    {
      "cell_type": "markdown",
      "source": [
        "![image.png](data:image/png;base64,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)"
      ],
      "metadata": {
        "id": "SN4I7op47yMs"
      }
    },
    {
      "cell_type": "code",
      "source": [
        "# code is taking too log to run as the range and dpi is high, so we are taking a screenshot here\n",
        "# plt.figure(figsize=(10,6), dpi=120)\n",
        "# wcss = []\n",
        "# for i in range(1, 11):\n",
        "#     kmeans = MiniBatchKMeans(n_clusters=i, init='k-means++', max_iter=100, n_init=5, random_state=0)\n",
        "#     kmeans.fit(X_transformed)\n",
        "#     wcss.append(kmeans.inertia_)\n",
        "# plt.plot(range(1, 11), wcss)\n",
        "# plt.title('Elbow Method')\n",
        "# plt.xlabel('Number of clusters')\n",
        "# plt.ylabel('WCSS')\n",
        "# plt.show()"
      ],
      "metadata": {
        "id": "xrx5bpN14AKD"
      },
      "execution_count": null,
      "outputs": []
    },
    {
      "cell_type": "markdown",
      "source": [
        "![image.png](data:image/png;base64,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)"
      ],
      "metadata": {
        "id": "iIp72GEH76_u"
      }
    },
    {
      "cell_type": "markdown",
      "source": [
        "#### 2. Cross- Validation & Hyperparameter Tuning"
      ],
      "metadata": {
        "id": "-jK_YjpMpsJ2"
      }
    },
    {
      "cell_type": "code",
      "source": [
        "# ML Model - 1 Implementation with hyperparameter optimization techniques (i.e., GridSearch CV, RandomSearch CV, Bayesian Optimization etc.)\n",
        "\n",
        "# Fit the Algorithm\n",
        "\n",
        "# Predict on the model"
      ],
      "metadata": {
        "id": "Dn0EOfS6psJ2"
      },
      "execution_count": null,
      "outputs": []
    },
    {
      "cell_type": "markdown",
      "source": [
        "##### Which hyperparameter optimization technique have you used and why?"
      ],
      "metadata": {
        "id": "HAih1iBOpsJ2"
      }
    },
    {
      "cell_type": "markdown",
      "source": [
        "Answer Here."
      ],
      "metadata": {
        "id": "9kBgjYcdpsJ2"
      }
    },
    {
      "cell_type": "markdown",
      "source": [
        "##### Have you seen any improvement? Note down the improvement with updates Evaluation metric Score Chart."
      ],
      "metadata": {
        "id": "zVGeBEFhpsJ2"
      }
    },
    {
      "cell_type": "markdown",
      "source": [
        "Answer Here."
      ],
      "metadata": {
        "id": "74yRdG6UpsJ3"
      }
    },
    {
      "cell_type": "markdown",
      "source": [
        "#### 3. Explain each evaluation metric's indication towards business and the business impact pf the ML model used."
      ],
      "metadata": {
        "id": "bmKjuQ-FpsJ3"
      }
    },
    {
      "cell_type": "markdown",
      "source": [
        "Answer Here."
      ],
      "metadata": {
        "id": "BDKtOrBQpsJ3"
      }
    },
    {
      "cell_type": "markdown",
      "source": [
        "### ML Model - 3 "
      ],
      "metadata": {
        "id": "Fze-IPXLpx6K"
      }
    },
    {
      "cell_type": "code",
      "source": [
        "# ML Model - 3 Implementation\n",
        "\n",
        "# since the code is taking too long to run we are taking a screenshot\n",
        "# plt.figure(figsize=(10,6), dpi=120)\n",
        "\n",
        "# kmeans= KMeans(n_clusters=10, init= 'k-means++', random_state=9)\n",
        "# kmeans.fit(X_transformed)\n",
        "\n",
        "# #predict the labels of clusters.\n",
        "# label = kmeans.fit_predict(X_transformed)\n",
        "# #Getting unique labels\n",
        "# unique_labels = np.unique(label)\n",
        " \n",
        "# #plotting the results:\n",
        "# for i in unique_labels:\n",
        "#     plt.scatter(X_transformed[label == i , 0] , X_transformed[label == i , 1] , label = i)\n",
        "# plt.legend()\n",
        "# plt.show()"
      ],
      "metadata": {
        "id": "FFrSXAtrpx6M"
      },
      "execution_count": null,
      "outputs": []
    },
    {
      "cell_type": "markdown",
      "source": [
        "![image.png](data:image/png;base64,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)"
      ],
      "metadata": {
        "id": "JDnyIQRhA8MA"
      }
    },
    {
      "cell_type": "code",
      "source": [
        "# create an instance of the KMeans class\n",
        "kmeans = KMeans(n_clusters=10)\n",
        "\n",
        "# fit the KMeans model to your data\n",
        "kmeans.fit(X_transformed)\n",
        "\n",
        "# access the labels_ attribute\n",
        "labels = kmeans.labels_"
      ],
      "metadata": {
        "id": "9QsSofXzRYqV"
      },
      "execution_count": null,
      "outputs": []
    },
    {
      "cell_type": "code",
      "source": [
        "if len(kmeans.labels_) < len(netflix_df):\n",
        "    difference = len(netflix_df) - len(kmeans.labels_)\n",
        "    kmeans.labels_ = np.pad(kmeans.labels_, (0, difference), 'constant')\n",
        "\n",
        "if len(kmeans.labels_) > len(netflix_df):\n",
        "    kmeans.labels_ = kmeans.labels_[:len(netflix_df)]\n",
        "\n",
        "netflix_df['cluster_number'] = kmeans.labels_"
      ],
      "metadata": {
        "id": "RzELv3_zJcfG"
      },
      "execution_count": null,
      "outputs": []
    },
    {
      "cell_type": "code",
      "source": [
        "#word cloud imports\n",
        "from os import path\n",
        "from PIL import Image\n",
        "from wordcloud import WordCloud, STOPWORDS, ImageColorGenerator"
      ],
      "metadata": {
        "id": "F0gvJtVHLT9N"
      },
      "execution_count": null,
      "outputs": []
    },
    {
      "cell_type": "code",
      "source": [
        "#word cloud for user rating review\n",
        "def func_select_Category(category_name,column_of_choice):\n",
        "  df_word_cloud = netflix_df[['cluster_number',column_of_choice]].dropna()\n",
        "  df_word_cloud = df_word_cloud[df_word_cloud['cluster_number']==category_name]\n",
        "  text = \" \".join(word for word in df_word_cloud[column_of_choice])\n",
        "  # Create stopword list:\n",
        "  stopwords = set(STOPWORDS)\n",
        "  # Generate a word cloud image\n",
        "  wordcloud = WordCloud(stopwords=stopwords, background_color=\"white\").generate(text)\n",
        "  # Plot the wordclouds\n",
        "  plt.imshow(wordcloud, interpolation='bilinear')\n",
        "  plt.title(f'Cluster: {i}')\n",
        "  plt.axis(\"off\")\n",
        "  plt.show()"
      ],
      "metadata": {
        "id": "07Q0g4INLXf3"
      },
      "execution_count": null,
      "outputs": []
    },
    {
      "cell_type": "code",
      "source": [
        "for i in range(10):\n",
        "  func_select_Category(i,'listed_in')"
      ],
      "metadata": {
        "id": "YoizPtSmLa5A"
      },
      "execution_count": null,
      "outputs": []
    },
    {
      "cell_type": "markdown",
      "source": [
        "### ML MODEL - 4  Hierarchical clustering"
      ],
      "metadata": {
        "id": "JPnf8Qfd9vpB"
      }
    },
    {
      "cell_type": "code",
      "source": [
        "# Building a dendogram to decide on the number of clusters\n",
        "plt.figure(figsize=(16, 7))  \n",
        "dend = shc.dendrogram(shc.linkage(X_transformed, method='ward'))\n",
        "plt.title('Dendrogram')\n",
        "plt.xlabel('Netflix Shows')\n",
        "plt.ylabel('Distance')\n",
        "plt.axhline(y= 3.8, color='r', linestyle='--')"
      ],
      "metadata": {
        "id": "OtG1CkbM94ik"
      },
      "execution_count": null,
      "outputs": []
    },
    {
      "cell_type": "code",
      "source": [
        "# Fitting hierarchical clustering model\n",
        "hierarchical = AgglomerativeClustering(n_clusters=12, affinity='euclidean', linkage='ward')  \n",
        "hierarchical.fit_predict(X_transformed)"
      ],
      "metadata": {
        "id": "q6tdxBrAAEc0"
      },
      "execution_count": null,
      "outputs": []
    },
    {
      "cell_type": "code",
      "source": [
        "# Adding a kmeans cluster number attribute\n",
        "netflix_df['hierarchical_cluster'] = hierarchical.labels_"
      ],
      "metadata": {
        "id": "bLqTMEL_-iFR"
      },
      "execution_count": null,
      "outputs": []
    },
    {
      "cell_type": "code",
      "source": [
        "import matplotlib.pyplot as plt\n",
        "import seaborn as sns\n",
        "\n",
        "# Number of movies and TV shows in each cluster\n",
        "plt.figure(figsize=(10,5))\n",
        "q = sns.countplot(x='hierarchical_cluster',data=netflix_df, hue='type')\n",
        "plt.title('Number of movies and TV shows in each cluster - Hierarchical Clustering')\n",
        "\n",
        "# Annotate the bar plot with the count values\n",
        "for i in q.patches:\n",
        "  q.annotate(format(i.get_height(), '.0f'), (i.get_x() + i.get_width() / 2., i.get_height()), \n",
        "             ha = 'center', va = 'center', xytext = (0, 10), textcoords = 'offset points')\n",
        "\n",
        "plt.show()\n"
      ],
      "metadata": {
        "id": "-aGzvgxJ-8JW"
      },
      "execution_count": null,
      "outputs": []
    },
    {
      "cell_type": "code",
      "source": [
        "# Building a wordcloud for the movie descriptions\n",
        "def hierarchical_worldcloud(cluster_num):\n",
        "  comment_words = ''\n",
        "  stopwords = set(STOPWORDS)\n",
        "\n",
        "  # iterate through the csv file\n",
        "  for val in netflix_df[netflix_df['hierarchical_cluster']==cluster_num].description.values:\n",
        "      \n",
        "      # typecaste each val to string\n",
        "      val = str(val)\n",
        "\n",
        "      # split the value\n",
        "      tokens = val.split()\n",
        "      \n",
        "      # Converts each token into lowercase\n",
        "      for i in range(len(tokens)):\n",
        "          tokens[i] = tokens[i].lower()\n",
        "      \n",
        "      comment_words += \" \".join(tokens)+\" \"\n",
        "\n",
        "  wordcloud = WordCloud(width = 700, height = 700,\n",
        "                  background_color ='white',\n",
        "                  stopwords = stopwords,\n",
        "                  min_font_size = 10).generate(comment_words)\n",
        "  return hierarchical_worldcloud"
      ],
      "metadata": {
        "id": "Abpdoo8O_AFH"
      },
      "execution_count": null,
      "outputs": []
    },
    {
      "cell_type": "code",
      "source": [
        "# plot the WordCloud image                      \n",
        "plt.figure(figsize = (10,5), facecolor = None)\n",
        "plt.imshow(wordcloud)\n",
        "plt.axis(\"off\")\n",
        "plt.tight_layout(pad = 0)"
      ],
      "metadata": {
        "id": "aHzhWoWK_Cy_"
      },
      "execution_count": null,
      "outputs": []
    },
    {
      "cell_type": "markdown",
      "source": [
        "# Reccomendation:"
      ],
      "metadata": {
        "id": "_woLzc1CL6qH"
      }
    },
    {
      "cell_type": "code",
      "source": [
        "from sklearn.metrics.pairwise import cosine_similarity\n",
        "from sklearn.feature_extraction.text import CountVectorizer"
      ],
      "metadata": {
        "id": "v6BtK7keL5WJ"
      },
      "execution_count": null,
      "outputs": []
    },
    {
      "cell_type": "code",
      "source": [
        "t_vectorizer = TfidfVectorizer()\n",
        "count_matrix= t_vectorizer.fit_transform(bag_of_words)"
      ],
      "metadata": {
        "id": "aVQ_MGRZL_YW"
      },
      "execution_count": null,
      "outputs": []
    },
    {
      "cell_type": "code",
      "source": [
        "cosine_sim = cosine_similarity(count_matrix, count_matrix)\n",
        "cosine_sim"
      ],
      "metadata": {
        "id": "zXU_SwprMB88"
      },
      "execution_count": null,
      "outputs": []
    },
    {
      "cell_type": "code",
      "source": [
        "indices = pd.Series(cluster_df.index)\n",
        "indices[:5]"
      ],
      "metadata": {
        "id": "O1yDooJ6MFqN"
      },
      "execution_count": null,
      "outputs": []
    },
    {
      "cell_type": "code",
      "source": [
        "# function that takes in movie title as input and returns the top 10 recommended movies\n",
        "def recommendations(Title, cosine_sim = cosine_sim):\n",
        "    \n",
        "    recommended_movies = []\n",
        "    \n",
        "    # gettin the index of the movie that matches the title\n",
        "    idx = indices[indices == Title].index[0]\n",
        "\n",
        "    # creating a Series with the similarity scores in descending order\n",
        "    score_series = pd.Series(cosine_sim[idx]).sort_values(ascending = False)\n",
        "\n",
        "    # getting the indexes of the 10 most similar movies\n",
        "    top_10_indexes = list(score_series.iloc[1:11].index)\n",
        "    \n",
        "    # populating the list with the titles of the best 10 matching movies\n",
        "    for i in top_10_indexes:\n",
        "        recommended_movies.append(list(cluster_df.index)[i])\n",
        "        \n",
        "    return recommended_movies"
      ],
      "metadata": {
        "id": "7hqGWQQUMI5P"
      },
      "execution_count": null,
      "outputs": []
    },
    {
      "cell_type": "code",
      "source": [
        "# Lets try getting recommendations for Movies.\n",
        "movie_recommendations = pd.DataFrame(recommendations('Bad Boys'), columns=['Recommendations'])\n",
        "movie_recommendations.head(11)"
      ],
      "metadata": {
        "id": "xCVYzn8vMKWm"
      },
      "execution_count": null,
      "outputs": []
    },
    {
      "cell_type": "code",
      "source": [
        "# Lets try getting recommendations for Tv-Shows.\n",
        "tvshows_recommendations = pd.DataFrame(recommendations('13 Reasons Why'), columns=['Recommendations'])\n",
        "tvshows_recommendations.head(11)\n",
        "     "
      ],
      "metadata": {
        "id": "dgNv3FRqMPHP"
      },
      "execution_count": null,
      "outputs": []
    },
    {
      "cell_type": "markdown",
      "source": [
        "#### 1. Explain the ML Model used and it's performance using Evaluation metric Score Chart."
      ],
      "metadata": {
        "id": "7AN1z2sKpx6M"
      }
    },
    {
      "cell_type": "code",
      "source": [
        "# Visualizing evaluation Metric Score chart"
      ],
      "metadata": {
        "id": "xIY4lxxGpx6M"
      },
      "execution_count": null,
      "outputs": []
    },
    {
      "cell_type": "markdown",
      "source": [
        "#### 2. Cross- Validation & Hyperparameter Tuning"
      ],
      "metadata": {
        "id": "9PIHJqyupx6M"
      }
    },
    {
      "cell_type": "code",
      "source": [
        "# ML Model - 3 Implementation with hyperparameter optimization techniques (i.e., GridSearch CV, RandomSearch CV, Bayesian Optimization etc.)\n",
        "\n",
        "# Fit the Algorithm\n",
        "\n",
        "# Predict on the model"
      ],
      "metadata": {
        "id": "eSVXuaSKpx6M"
      },
      "execution_count": null,
      "outputs": []
    },
    {
      "cell_type": "markdown",
      "source": [
        "##### Which hyperparameter optimization technique have you used and why?"
      ],
      "metadata": {
        "id": "_-qAgymDpx6N"
      }
    },
    {
      "cell_type": "markdown",
      "source": [
        "Answer Here."
      ],
      "metadata": {
        "id": "lQMffxkwpx6N"
      }
    },
    {
      "cell_type": "markdown",
      "source": [
        "##### Have you seen any improvement? Note down the improvement with updates Evaluation metric Score Chart."
      ],
      "metadata": {
        "id": "Z-hykwinpx6N"
      }
    },
    {
      "cell_type": "markdown",
      "source": [
        "Answer Here."
      ],
      "metadata": {
        "id": "MzVzZC6opx6N"
      }
    },
    {
      "cell_type": "markdown",
      "source": [
        "### 1. Which Evaluation metrics did you consider for a positive business impact and why?"
      ],
      "metadata": {
        "id": "h_CCil-SKHpo"
      }
    },
    {
      "cell_type": "markdown",
      "source": [
        "Answer Here."
      ],
      "metadata": {
        "id": "jHVz9hHDKFms"
      }
    },
    {
      "cell_type": "markdown",
      "source": [
        "### 2. Which ML model did you choose from the above created models as your final prediction model and why?"
      ],
      "metadata": {
        "id": "cBFFvTBNJzUa"
      }
    },
    {
      "cell_type": "markdown",
      "source": [
        "Answer Here."
      ],
      "metadata": {
        "id": "6ksF5Q1LKTVm"
      }
    },
    {
      "cell_type": "markdown",
      "source": [
        "### 3. Explain the model which you have used and the feature importance using any model explainability tool?"
      ],
      "metadata": {
        "id": "HvGl1hHyA_VK"
      }
    },
    {
      "cell_type": "markdown",
      "source": [
        "Answer Here."
      ],
      "metadata": {
        "id": "YnvVTiIxBL-C"
      }
    },
    {
      "cell_type": "markdown",
      "source": [
        "## ***8.*** ***Future Work (Optional)***"
      ],
      "metadata": {
        "id": "EyNgTHvd2WFk"
      }
    },
    {
      "cell_type": "markdown",
      "source": [
        "### 1. Save the best performing ml model in a pickle file or joblib file format for deployment process.\n"
      ],
      "metadata": {
        "id": "KH5McJBi2d8v"
      }
    },
    {
      "cell_type": "code",
      "source": [
        "# Save the File"
      ],
      "metadata": {
        "id": "bQIANRl32f4J"
      },
      "execution_count": null,
      "outputs": []
    },
    {
      "cell_type": "markdown",
      "source": [
        "### 2. Again Load the saved model file and try to predict unseen data for a sanity check.\n"
      ],
      "metadata": {
        "id": "iW_Lq9qf2h6X"
      }
    },
    {
      "cell_type": "code",
      "source": [
        "# Load the File and predict unseen data."
      ],
      "metadata": {
        "id": "oEXk9ydD2nVC"
      },
      "execution_count": null,
      "outputs": []
    },
    {
      "cell_type": "markdown",
      "source": [
        "### ***Congrats! Your model is successfully created and ready for deployment on a live server for a real user interaction !!!***"
      ],
      "metadata": {
        "id": "-Kee-DAl2viO"
      }
    },
    {
      "cell_type": "markdown",
      "source": [
        "# **Conclusion**"
      ],
      "metadata": {
        "id": "gCX9965dhzqZ"
      }
    },
    {
      "cell_type": "markdown",
      "source": [
        "Write the conclusion here."
      ],
      "metadata": {
        "id": "Fjb1IsQkh3yE"
      }
    },
    {
      "cell_type": "markdown",
      "source": [
        "### ***Hurrah! You have successfully completed your Machine Learning Capstone Project !!!***"
      ],
      "metadata": {
        "id": "gIfDvo9L0UH2"
      }
    }
  ]
}